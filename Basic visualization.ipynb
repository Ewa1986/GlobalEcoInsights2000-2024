{
  "cells": [
    {
      "cell_type": "markdown",
      "metadata": {
        "id": "0aStgWSO0E0E"
      },
      "source": [
        "# **(ADD THE NOTEBOOK NAME HERE)**"
      ]
    },
    {
      "cell_type": "markdown",
      "metadata": {
        "id": "1eLEkw5O0ECa"
      },
      "source": [
        "## Objectives\n",
        "\n",
        "* Write your notebook objective here, for example, \"Fetch data from Kaggle and save as raw data\", or \"engineer features for modelling\"\n",
        "\n",
        "## Inputs\n",
        "\n",
        "* Write down which data or information you need to run the notebook \n",
        "\n",
        "## Outputs\n",
        "\n",
        "* Write here which files, code or artefacts you generate by the end of the notebook \n",
        "\n",
        "## Additional Comments\n",
        "\n",
        "* If you have any additional comments that don't fit in the previous bullets, please state them here. \n",
        "\n"
      ]
    },
    {
      "cell_type": "markdown",
      "metadata": {
        "id": "9uWZXH9LwoQg"
      },
      "source": [
        "---"
      ]
    },
    {
      "cell_type": "markdown",
      "metadata": {
        "id": "cqP-UeN-z3i2"
      },
      "source": [
        "# Change working directory"
      ]
    },
    {
      "cell_type": "markdown",
      "metadata": {},
      "source": [
        "* We are assuming you will store the notebooks in a subfolder, therefore when running the notebook in the editor, you will need to change the working directory"
      ]
    },
    {
      "cell_type": "markdown",
      "metadata": {
        "id": "aOGIGS-uz3i2"
      },
      "source": [
        "We need to change the working directory from its current folder to its parent folder\n",
        "* We access the current directory with os.getcwd()"
      ]
    },
    {
      "cell_type": "code",
      "execution_count": 7,
      "metadata": {
        "id": "wZfF_j-Bz3i4",
        "outputId": "66943449-1436-4c3d-85c7-b85f9f78349b"
      },
      "outputs": [
        {
          "data": {
            "text/plain": [
              "'c:\\\\Users\\\\User\\\\Documents\\\\CODE INSTITUTE\\\\Hackathon 3'"
            ]
          },
          "execution_count": 7,
          "metadata": {},
          "output_type": "execute_result"
        }
      ],
      "source": [
        "import os\n",
        "current_dir = os.getcwd()\n",
        "current_dir"
      ]
    },
    {
      "cell_type": "markdown",
      "metadata": {
        "id": "9MWW8E7lz3i7"
      },
      "source": [
        "We want to make the parent of the current directory the new current directory\n",
        "* os.path.dirname() gets the parent directory\n",
        "* os.chir() defines the new current directory"
      ]
    },
    {
      "cell_type": "code",
      "execution_count": 2,
      "metadata": {
        "id": "TwHsQRWjz3i9",
        "outputId": "86849db3-cd2f-4cc5-ebb8-2d0caafa1a2c"
      },
      "outputs": [
        {
          "name": "stdout",
          "output_type": "stream",
          "text": [
            "Globalecoinsights\n"
          ]
        }
      ],
      "source": [
        "os.chdir(os.path.dirname(current_dir))\n",
        "print(\"Globalecoinsights\")"
      ]
    },
    {
      "cell_type": "markdown",
      "metadata": {
        "id": "M_xPk_Ijz3i-"
      },
      "source": [
        "Confirm the new current directory"
      ]
    },
    {
      "cell_type": "code",
      "execution_count": 3,
      "metadata": {
        "id": "vz3S-_kjz3jA",
        "outputId": "00b79ae4-75d0-4a96-d193-ac9ef9847ea2"
      },
      "outputs": [
        {
          "data": {
            "text/plain": [
              "'c:\\\\Users\\\\User\\\\Documents\\\\CODE INSTITUTE\\\\Hackathon 3'"
            ]
          },
          "execution_count": 3,
          "metadata": {},
          "output_type": "execute_result"
        }
      ],
      "source": [
        "current_dir = os.getcwd()\n",
        "current_dir"
      ]
    },
    {
      "cell_type": "markdown",
      "metadata": {
        "id": "-mavJ8DibrcQ"
      },
      "source": [
        "# Basic visualization"
      ]
    },
    {
      "cell_type": "markdown",
      "metadata": {},
      "source": [
        "Libraries"
      ]
    },
    {
      "cell_type": "code",
      "execution_count": 5,
      "metadata": {},
      "outputs": [],
      "source": [
        "import pandas as pd\n",
        "import numpy as np\n",
        "import plotly.express as px\n",
        "import plotly.io as pio\n",
        "import plotly.graph_objects as go"
      ]
    },
    {
      "cell_type": "markdown",
      "metadata": {
        "id": "ZY3l0-AxO93d"
      },
      "source": [
        "---"
      ]
    },
    {
      "cell_type": "code",
      "execution_count": 8,
      "metadata": {},
      "outputs": [
        {
          "ename": "FileNotFoundError",
          "evalue": "[Errno 2] No such file or directory: '/Users/Ewa/Documents/vscode-projects/GlobalEcoInsights2000-2024/temperature.csv'",
          "output_type": "error",
          "traceback": [
            "\u001b[31m---------------------------------------------------------------------------\u001b[39m",
            "\u001b[31mFileNotFoundError\u001b[39m                         Traceback (most recent call last)",
            "\u001b[36mCell\u001b[39m\u001b[36m \u001b[39m\u001b[32mIn[8]\u001b[39m\u001b[32m, line 2\u001b[39m\n\u001b[32m      1\u001b[39m \u001b[38;5;66;03m# Load the dataset into a pandas dataframe\u001b[39;00m\n\u001b[32m----> \u001b[39m\u001b[32m2\u001b[39m df = \u001b[43mpd\u001b[49m\u001b[43m.\u001b[49m\u001b[43mread_csv\u001b[49m\u001b[43m(\u001b[49m\u001b[33;43m\"\u001b[39;49m\u001b[33;43m/Users/Ewa/Documents/vscode-projects/GlobalEcoInsights2000-2024/temperature.csv\u001b[39;49m\u001b[33;43m\"\u001b[39;49m\u001b[43m)\u001b[49m\n",
            "\u001b[36mFile \u001b[39m\u001b[32mc:\\Users\\User\\Documents\\CODE INSTITUTE\\Hackathon 3\\.venv\\Lib\\site-packages\\pandas\\io\\parsers\\readers.py:948\u001b[39m, in \u001b[36mread_csv\u001b[39m\u001b[34m(filepath_or_buffer, sep, delimiter, header, names, index_col, usecols, dtype, engine, converters, true_values, false_values, skipinitialspace, skiprows, skipfooter, nrows, na_values, keep_default_na, na_filter, verbose, skip_blank_lines, parse_dates, infer_datetime_format, keep_date_col, date_parser, date_format, dayfirst, cache_dates, iterator, chunksize, compression, thousands, decimal, lineterminator, quotechar, quoting, doublequote, escapechar, comment, encoding, encoding_errors, dialect, on_bad_lines, delim_whitespace, low_memory, memory_map, float_precision, storage_options, dtype_backend)\u001b[39m\n\u001b[32m    935\u001b[39m kwds_defaults = _refine_defaults_read(\n\u001b[32m    936\u001b[39m     dialect,\n\u001b[32m    937\u001b[39m     delimiter,\n\u001b[32m   (...)\u001b[39m\u001b[32m    944\u001b[39m     dtype_backend=dtype_backend,\n\u001b[32m    945\u001b[39m )\n\u001b[32m    946\u001b[39m kwds.update(kwds_defaults)\n\u001b[32m--> \u001b[39m\u001b[32m948\u001b[39m \u001b[38;5;28;01mreturn\u001b[39;00m \u001b[43m_read\u001b[49m\u001b[43m(\u001b[49m\u001b[43mfilepath_or_buffer\u001b[49m\u001b[43m,\u001b[49m\u001b[43m \u001b[49m\u001b[43mkwds\u001b[49m\u001b[43m)\u001b[49m\n",
            "\u001b[36mFile \u001b[39m\u001b[32mc:\\Users\\User\\Documents\\CODE INSTITUTE\\Hackathon 3\\.venv\\Lib\\site-packages\\pandas\\io\\parsers\\readers.py:611\u001b[39m, in \u001b[36m_read\u001b[39m\u001b[34m(filepath_or_buffer, kwds)\u001b[39m\n\u001b[32m    608\u001b[39m _validate_names(kwds.get(\u001b[33m\"\u001b[39m\u001b[33mnames\u001b[39m\u001b[33m\"\u001b[39m, \u001b[38;5;28;01mNone\u001b[39;00m))\n\u001b[32m    610\u001b[39m \u001b[38;5;66;03m# Create the parser.\u001b[39;00m\n\u001b[32m--> \u001b[39m\u001b[32m611\u001b[39m parser = \u001b[43mTextFileReader\u001b[49m\u001b[43m(\u001b[49m\u001b[43mfilepath_or_buffer\u001b[49m\u001b[43m,\u001b[49m\u001b[43m \u001b[49m\u001b[43m*\u001b[49m\u001b[43m*\u001b[49m\u001b[43mkwds\u001b[49m\u001b[43m)\u001b[49m\n\u001b[32m    613\u001b[39m \u001b[38;5;28;01mif\u001b[39;00m chunksize \u001b[38;5;129;01mor\u001b[39;00m iterator:\n\u001b[32m    614\u001b[39m     \u001b[38;5;28;01mreturn\u001b[39;00m parser\n",
            "\u001b[36mFile \u001b[39m\u001b[32mc:\\Users\\User\\Documents\\CODE INSTITUTE\\Hackathon 3\\.venv\\Lib\\site-packages\\pandas\\io\\parsers\\readers.py:1448\u001b[39m, in \u001b[36mTextFileReader.__init__\u001b[39m\u001b[34m(self, f, engine, **kwds)\u001b[39m\n\u001b[32m   1445\u001b[39m     \u001b[38;5;28mself\u001b[39m.options[\u001b[33m\"\u001b[39m\u001b[33mhas_index_names\u001b[39m\u001b[33m\"\u001b[39m] = kwds[\u001b[33m\"\u001b[39m\u001b[33mhas_index_names\u001b[39m\u001b[33m\"\u001b[39m]\n\u001b[32m   1447\u001b[39m \u001b[38;5;28mself\u001b[39m.handles: IOHandles | \u001b[38;5;28;01mNone\u001b[39;00m = \u001b[38;5;28;01mNone\u001b[39;00m\n\u001b[32m-> \u001b[39m\u001b[32m1448\u001b[39m \u001b[38;5;28mself\u001b[39m._engine = \u001b[38;5;28;43mself\u001b[39;49m\u001b[43m.\u001b[49m\u001b[43m_make_engine\u001b[49m\u001b[43m(\u001b[49m\u001b[43mf\u001b[49m\u001b[43m,\u001b[49m\u001b[43m \u001b[49m\u001b[38;5;28;43mself\u001b[39;49m\u001b[43m.\u001b[49m\u001b[43mengine\u001b[49m\u001b[43m)\u001b[49m\n",
            "\u001b[36mFile \u001b[39m\u001b[32mc:\\Users\\User\\Documents\\CODE INSTITUTE\\Hackathon 3\\.venv\\Lib\\site-packages\\pandas\\io\\parsers\\readers.py:1705\u001b[39m, in \u001b[36mTextFileReader._make_engine\u001b[39m\u001b[34m(self, f, engine)\u001b[39m\n\u001b[32m   1703\u001b[39m     \u001b[38;5;28;01mif\u001b[39;00m \u001b[33m\"\u001b[39m\u001b[33mb\u001b[39m\u001b[33m\"\u001b[39m \u001b[38;5;129;01mnot\u001b[39;00m \u001b[38;5;129;01min\u001b[39;00m mode:\n\u001b[32m   1704\u001b[39m         mode += \u001b[33m\"\u001b[39m\u001b[33mb\u001b[39m\u001b[33m\"\u001b[39m\n\u001b[32m-> \u001b[39m\u001b[32m1705\u001b[39m \u001b[38;5;28mself\u001b[39m.handles = \u001b[43mget_handle\u001b[49m\u001b[43m(\u001b[49m\n\u001b[32m   1706\u001b[39m \u001b[43m    \u001b[49m\u001b[43mf\u001b[49m\u001b[43m,\u001b[49m\n\u001b[32m   1707\u001b[39m \u001b[43m    \u001b[49m\u001b[43mmode\u001b[49m\u001b[43m,\u001b[49m\n\u001b[32m   1708\u001b[39m \u001b[43m    \u001b[49m\u001b[43mencoding\u001b[49m\u001b[43m=\u001b[49m\u001b[38;5;28;43mself\u001b[39;49m\u001b[43m.\u001b[49m\u001b[43moptions\u001b[49m\u001b[43m.\u001b[49m\u001b[43mget\u001b[49m\u001b[43m(\u001b[49m\u001b[33;43m\"\u001b[39;49m\u001b[33;43mencoding\u001b[39;49m\u001b[33;43m\"\u001b[39;49m\u001b[43m,\u001b[49m\u001b[43m \u001b[49m\u001b[38;5;28;43;01mNone\u001b[39;49;00m\u001b[43m)\u001b[49m\u001b[43m,\u001b[49m\n\u001b[32m   1709\u001b[39m \u001b[43m    \u001b[49m\u001b[43mcompression\u001b[49m\u001b[43m=\u001b[49m\u001b[38;5;28;43mself\u001b[39;49m\u001b[43m.\u001b[49m\u001b[43moptions\u001b[49m\u001b[43m.\u001b[49m\u001b[43mget\u001b[49m\u001b[43m(\u001b[49m\u001b[33;43m\"\u001b[39;49m\u001b[33;43mcompression\u001b[39;49m\u001b[33;43m\"\u001b[39;49m\u001b[43m,\u001b[49m\u001b[43m \u001b[49m\u001b[38;5;28;43;01mNone\u001b[39;49;00m\u001b[43m)\u001b[49m\u001b[43m,\u001b[49m\n\u001b[32m   1710\u001b[39m \u001b[43m    \u001b[49m\u001b[43mmemory_map\u001b[49m\u001b[43m=\u001b[49m\u001b[38;5;28;43mself\u001b[39;49m\u001b[43m.\u001b[49m\u001b[43moptions\u001b[49m\u001b[43m.\u001b[49m\u001b[43mget\u001b[49m\u001b[43m(\u001b[49m\u001b[33;43m\"\u001b[39;49m\u001b[33;43mmemory_map\u001b[39;49m\u001b[33;43m\"\u001b[39;49m\u001b[43m,\u001b[49m\u001b[43m \u001b[49m\u001b[38;5;28;43;01mFalse\u001b[39;49;00m\u001b[43m)\u001b[49m\u001b[43m,\u001b[49m\n\u001b[32m   1711\u001b[39m \u001b[43m    \u001b[49m\u001b[43mis_text\u001b[49m\u001b[43m=\u001b[49m\u001b[43mis_text\u001b[49m\u001b[43m,\u001b[49m\n\u001b[32m   1712\u001b[39m \u001b[43m    \u001b[49m\u001b[43merrors\u001b[49m\u001b[43m=\u001b[49m\u001b[38;5;28;43mself\u001b[39;49m\u001b[43m.\u001b[49m\u001b[43moptions\u001b[49m\u001b[43m.\u001b[49m\u001b[43mget\u001b[49m\u001b[43m(\u001b[49m\u001b[33;43m\"\u001b[39;49m\u001b[33;43mencoding_errors\u001b[39;49m\u001b[33;43m\"\u001b[39;49m\u001b[43m,\u001b[49m\u001b[43m \u001b[49m\u001b[33;43m\"\u001b[39;49m\u001b[33;43mstrict\u001b[39;49m\u001b[33;43m\"\u001b[39;49m\u001b[43m)\u001b[49m\u001b[43m,\u001b[49m\n\u001b[32m   1713\u001b[39m \u001b[43m    \u001b[49m\u001b[43mstorage_options\u001b[49m\u001b[43m=\u001b[49m\u001b[38;5;28;43mself\u001b[39;49m\u001b[43m.\u001b[49m\u001b[43moptions\u001b[49m\u001b[43m.\u001b[49m\u001b[43mget\u001b[49m\u001b[43m(\u001b[49m\u001b[33;43m\"\u001b[39;49m\u001b[33;43mstorage_options\u001b[39;49m\u001b[33;43m\"\u001b[39;49m\u001b[43m,\u001b[49m\u001b[43m \u001b[49m\u001b[38;5;28;43;01mNone\u001b[39;49;00m\u001b[43m)\u001b[49m\u001b[43m,\u001b[49m\n\u001b[32m   1714\u001b[39m \u001b[43m\u001b[49m\u001b[43m)\u001b[49m\n\u001b[32m   1715\u001b[39m \u001b[38;5;28;01massert\u001b[39;00m \u001b[38;5;28mself\u001b[39m.handles \u001b[38;5;129;01mis\u001b[39;00m \u001b[38;5;129;01mnot\u001b[39;00m \u001b[38;5;28;01mNone\u001b[39;00m\n\u001b[32m   1716\u001b[39m f = \u001b[38;5;28mself\u001b[39m.handles.handle\n",
            "\u001b[36mFile \u001b[39m\u001b[32mc:\\Users\\User\\Documents\\CODE INSTITUTE\\Hackathon 3\\.venv\\Lib\\site-packages\\pandas\\io\\common.py:863\u001b[39m, in \u001b[36mget_handle\u001b[39m\u001b[34m(path_or_buf, mode, encoding, compression, memory_map, is_text, errors, storage_options)\u001b[39m\n\u001b[32m    858\u001b[39m \u001b[38;5;28;01melif\u001b[39;00m \u001b[38;5;28misinstance\u001b[39m(handle, \u001b[38;5;28mstr\u001b[39m):\n\u001b[32m    859\u001b[39m     \u001b[38;5;66;03m# Check whether the filename is to be opened in binary mode.\u001b[39;00m\n\u001b[32m    860\u001b[39m     \u001b[38;5;66;03m# Binary mode does not support 'encoding' and 'newline'.\u001b[39;00m\n\u001b[32m    861\u001b[39m     \u001b[38;5;28;01mif\u001b[39;00m ioargs.encoding \u001b[38;5;129;01mand\u001b[39;00m \u001b[33m\"\u001b[39m\u001b[33mb\u001b[39m\u001b[33m\"\u001b[39m \u001b[38;5;129;01mnot\u001b[39;00m \u001b[38;5;129;01min\u001b[39;00m ioargs.mode:\n\u001b[32m    862\u001b[39m         \u001b[38;5;66;03m# Encoding\u001b[39;00m\n\u001b[32m--> \u001b[39m\u001b[32m863\u001b[39m         handle = \u001b[38;5;28;43mopen\u001b[39;49m\u001b[43m(\u001b[49m\n\u001b[32m    864\u001b[39m \u001b[43m            \u001b[49m\u001b[43mhandle\u001b[49m\u001b[43m,\u001b[49m\n\u001b[32m    865\u001b[39m \u001b[43m            \u001b[49m\u001b[43mioargs\u001b[49m\u001b[43m.\u001b[49m\u001b[43mmode\u001b[49m\u001b[43m,\u001b[49m\n\u001b[32m    866\u001b[39m \u001b[43m            \u001b[49m\u001b[43mencoding\u001b[49m\u001b[43m=\u001b[49m\u001b[43mioargs\u001b[49m\u001b[43m.\u001b[49m\u001b[43mencoding\u001b[49m\u001b[43m,\u001b[49m\n\u001b[32m    867\u001b[39m \u001b[43m            \u001b[49m\u001b[43merrors\u001b[49m\u001b[43m=\u001b[49m\u001b[43merrors\u001b[49m\u001b[43m,\u001b[49m\n\u001b[32m    868\u001b[39m \u001b[43m            \u001b[49m\u001b[43mnewline\u001b[49m\u001b[43m=\u001b[49m\u001b[33;43m\"\u001b[39;49m\u001b[33;43m\"\u001b[39;49m\u001b[43m,\u001b[49m\n\u001b[32m    869\u001b[39m \u001b[43m        \u001b[49m\u001b[43m)\u001b[49m\n\u001b[32m    870\u001b[39m     \u001b[38;5;28;01melse\u001b[39;00m:\n\u001b[32m    871\u001b[39m         \u001b[38;5;66;03m# Binary mode\u001b[39;00m\n\u001b[32m    872\u001b[39m         handle = \u001b[38;5;28mopen\u001b[39m(handle, ioargs.mode)\n",
            "\u001b[31mFileNotFoundError\u001b[39m: [Errno 2] No such file or directory: '/Users/Ewa/Documents/vscode-projects/GlobalEcoInsights2000-2024/temperature.csv'"
          ]
        }
      ],
      "source": [
        "# Load the dataset into a pandas dataframe\n",
        "df = pd.read_csv(\"/Users/Ewa/Documents/vscode-projects/GlobalEcoInsights2000-2024/temperature.csv\")"
      ]
    },
    {
      "cell_type": "markdown",
      "metadata": {},
      "source": [
        "Hypothesis: \"Average temperature has increased over the years.\" Visualization: Line chart showing temperature trends per country"
      ]
    },
    {
      "cell_type": "code",
      "execution_count": 9,
      "metadata": {},
      "outputs": [
        {
          "ename": "NameError",
          "evalue": "name 'df' is not defined",
          "output_type": "error",
          "traceback": [
            "\u001b[31m---------------------------------------------------------------------------\u001b[39m",
            "\u001b[31mNameError\u001b[39m                                 Traceback (most recent call last)",
            "\u001b[36mCell\u001b[39m\u001b[36m \u001b[39m\u001b[32mIn[9]\u001b[39m\u001b[32m, line 4\u001b[39m\n\u001b[32m      1\u001b[39m \u001b[38;5;28;01mimport\u001b[39;00m\u001b[38;5;250m \u001b[39m\u001b[34;01mplotly\u001b[39;00m\u001b[34;01m.\u001b[39;00m\u001b[34;01mexpress\u001b[39;00m\u001b[38;5;250m \u001b[39m\u001b[38;5;28;01mas\u001b[39;00m\u001b[38;5;250m \u001b[39m\u001b[34;01mpx\u001b[39;00m\n\u001b[32m      3\u001b[39m \u001b[38;5;66;03m# Create a color-blind-friendly line chart for temperature trends over time per country\u001b[39;00m\n\u001b[32m----> \u001b[39m\u001b[32m4\u001b[39m fig = px.line(\u001b[43mdf\u001b[49m, x=\u001b[33m\"\u001b[39m\u001b[33mYear\u001b[39m\u001b[33m\"\u001b[39m, y=\u001b[33m\"\u001b[39m\u001b[33mAvg_Temperature_degC\u001b[39m\u001b[33m\"\u001b[39m, color=\u001b[33m\"\u001b[39m\u001b[33mCountry\u001b[39m\u001b[33m\"\u001b[39m,\n\u001b[32m      5\u001b[39m               title=\u001b[33m\"\u001b[39m\u001b[33mTemperature Trends Over Time by Country\u001b[39m\u001b[33m\"\u001b[39m,\n\u001b[32m      6\u001b[39m               labels={\u001b[33m\"\u001b[39m\u001b[33mAvg_Temperature_degC\u001b[39m\u001b[33m\"\u001b[39m: \u001b[33m\"\u001b[39m\u001b[33mAverage Temperature (°C)\u001b[39m\u001b[33m\"\u001b[39m},\n\u001b[32m      7\u001b[39m               line_group=\u001b[33m\"\u001b[39m\u001b[33mCountry\u001b[39m\u001b[33m\"\u001b[39m,\n\u001b[32m      8\u001b[39m               color_discrete_sequence=px.colors.sequential.Cividis)  \u001b[38;5;66;03m# Cividis is color-blind friendly\u001b[39;00m\n\u001b[32m     10\u001b[39m \u001b[38;5;66;03m# Improve interactivity\u001b[39;00m\n\u001b[32m     11\u001b[39m fig.update_layout(\n\u001b[32m     12\u001b[39m     hovermode=\u001b[33m\"\u001b[39m\u001b[33mx unified\u001b[39m\u001b[33m\"\u001b[39m,  \u001b[38;5;66;03m# Show all values for a given year on hover\u001b[39;00m\n\u001b[32m     13\u001b[39m     legend_title=\u001b[33m\"\u001b[39m\u001b[33mCountry\u001b[39m\u001b[33m\"\u001b[39m,\n\u001b[32m   (...)\u001b[39m\u001b[32m     16\u001b[39m     yaxis=\u001b[38;5;28mdict\u001b[39m(title=\u001b[33m\"\u001b[39m\u001b[33mAverage Temperature (°C)\u001b[39m\u001b[33m\"\u001b[39m, showgrid=\u001b[38;5;28;01mTrue\u001b[39;00m),\n\u001b[32m     17\u001b[39m )\n",
            "\u001b[31mNameError\u001b[39m: name 'df' is not defined"
          ]
        }
      ],
      "source": [
        "import plotly.express as px\n",
        "\n",
        "# Create a color-blind-friendly line chart for temperature trends over time per country\n",
        "fig = px.line(df, x=\"Year\", y=\"Avg_Temperature_degC\", color=\"Country\",\n",
        "              title=\"Temperature Trends Over Time by Country\",\n",
        "              labels={\"Avg_Temperature_degC\": \"Average Temperature (°C)\"},\n",
        "              line_group=\"Country\",\n",
        "              color_discrete_sequence=px.colors.sequential.Cividis)  # Cividis is color-blind friendly\n",
        "\n",
        "# Improve interactivity\n",
        "fig.update_layout(\n",
        "    hovermode=\"x unified\",  # Show all values for a given year on hover\n",
        "    legend_title=\"Country\",\n",
        "    template=\"plotly_white\",  # Clean background for better visibility\n",
        "    xaxis=dict(title=\"Year\", showgrid=True),\n",
        "    yaxis=dict(title=\"Average Temperature (°C)\", showgrid=True),\n",
        ")\n",
        "\n",
        "# Add interactive legend (click to hide/show countries)\n",
        "fig.update_traces(mode=\"lines+markers\", marker=dict(size=4))\n",
        "\n",
        "# Show the interactive plot\n",
        "fig.show()"
      ]
    },
    {
      "cell_type": "markdown",
      "metadata": {},
      "source": [
        "Hypothesis: \"Higher CO2 emissions correlate with increased temperature.\" Visualization: Scatter plot with regression trend line."
      ]
    },
    {
      "cell_type": "code",
      "execution_count": null,
      "metadata": {},
      "outputs": [],
      "source": [
        "# Create scatter plot for CO2 emissions vs. temperature\n",
        "fig = px.scatter(df, x=\"CO2_Emissions_tons_per_capita\", y=\"Avg_Temperature_degC\",\n",
        "                 color=\"Country\",  # Different colors for each country\n",
        "                 size=\"Population\",  # Bubble size represents population\n",
        "                 hover_name=\"Country\",\n",
        "                 title=\"CO2 Emissions vs. Average Temperature\",\n",
        "                 labels={\"CO2_Emissions_tons_per_capita\": \"CO2 Emissions (tons per capita)\",\n",
        "                         \"Avg_Temperature_degC\": \"Average Temperature (°C)\"},\n",
        "                 color_discrete_sequence=px.colors.sequential.Cividis)  # Color-blind-friendly\n",
        "\n",
        "# Improve interactivity\n",
        "fig.update_layout(\n",
        "    hovermode=\"closest\",  # Show closest point details on hover\n",
        "    template=\"plotly_white\",\n",
        "    xaxis=dict(title=\"CO2 Emissions (tons per capita)\", showgrid=True),\n",
        "    yaxis=dict(title=\"Average Temperature (°C)\", showgrid=True),\n",
        ")\n",
        "\n",
        "# Show the plot\n",
        "fig.show()"
      ]
    },
    {
      "cell_type": "markdown",
      "metadata": {},
      "source": [
        "Hypothesis: \"Countries with a higher percentage of renewable energy have lower CO2 emissions.\" Visualization: Bar chart comparing countries."
      ]
    },
    {
      "cell_type": "code",
      "execution_count": null,
      "metadata": {},
      "outputs": [],
      "source": [
        "# Create a bar chart for Renewable Energy vs. CO2 Emissions\n",
        "fig = px.bar(df, x=\"Country\", y=\"CO2_Emissions_tons_per_capita\",\n",
        "             color=\"Renewable_Energy_pct\",\n",
        "             title=\"Impact of Renewable Energy on CO2 Emissions\",\n",
        "             labels={\"CO2_Emissions_tons_per_capita\": \"CO2 Emissions (tons per capita)\",\n",
        "                     \"Renewable_Energy_pct\": \"Renewable Energy (%)\"},\n",
        "             color_continuous_scale=px.colors.sequential.Cividis)  # Color-blind friendly\n",
        "\n",
        "# Improve interactivity\n",
        "fig.update_layout(\n",
        "    xaxis=dict(title=\"Country\", tickangle=-45),  # Rotate country names for readability\n",
        "    yaxis=dict(title=\"CO2 Emissions (tons per capita)\"),\n",
        "    template=\"plotly_white\"\n",
        ")\n",
        "\n",
        "# Show the interactive bar chart\n",
        "fig.show()"
      ]
    },
    {
      "cell_type": "markdown",
      "metadata": {},
      "source": [
        "Hypothesis: \"A decrease in forest area percentage leads to an increase in extreme weather events.\" Visualization: Dual-axis line chart showing trends."
      ]
    },
    {
      "cell_type": "code",
      "execution_count": null,
      "metadata": {},
      "outputs": [],
      "source": [
        "# Aggregate data by year for trend analysis\n",
        "df_grouped = df.groupby(\"Year\").agg({\n",
        "    'Forest_Area_pct': 'mean',          # Example: mean of Forest_Area_pct\n",
        "    'Extreme_Weather_Events': 'mean',   # Example: mean of Extreme_Weather_Events\n",
        "    # Add other numeric columns here with their aggregation method\n",
        "}).reset_index()\n",
        "\n",
        "# Create figure\n",
        "fig = go.Figure()\n",
        "\n",
        "# Add line for Forest Area Percentage\n",
        "fig.add_trace(go.Scatter(x=df_grouped[\"Year\"], y=df_grouped[\"Forest_Area_pct\"],\n",
        "                         mode='lines+markers', name='Forest Area (%)',\n",
        "                         line=dict(color='green')))\n",
        "\n",
        "# Add line for Extreme Weather Events\n",
        "fig.add_trace(go.Scatter(x=df_grouped[\"Year\"], y=df_grouped[\"Extreme_Weather_Events\"],\n",
        "                         mode='lines+markers', name='Extreme Weather Events',\n",
        "                         line=dict(color='red'), yaxis=\"y2\"))\n",
        "\n",
        "# Update layout for dual-axis\n",
        "fig.update_layout(\n",
        "    title=\"Extreme Weather Events vs. Deforestation\",\n",
        "    xaxis=dict(title=\"Year\"),\n",
        "    yaxis=dict(title=\"Forest Area (%)\", side=\"left\", showgrid=False),\n",
        "    yaxis2=dict(title=\"Extreme Weather Events\", side=\"right\", overlaying=\"y\", showgrid=False),\n",
        "    template=\"plotly_white\"\n",
        ")\n",
        "\n",
        "# Show the plot\n",
        "fig.show()"
      ]
    },
    {
      "cell_type": "markdown",
      "metadata": {},
      "source": [
        "Hypothesis: \"Higher population growth contributes to increased CO2 emissions and rising sea levels.\" Multi-line chart with population, CO2, and sea level rise."
      ]
    },
    {
      "cell_type": "code",
      "execution_count": null,
      "metadata": {},
      "outputs": [],
      "source": [
        "# Check the grouped data\n",
        "df_grouped = df.groupby(\"Year\")[['Population', 'CO2_Emissions_tons_per_capita', 'Sea_Level_Rise_mm']].sum()\n",
        "print(df_grouped.columns)  # Ensure 'Population' is present"
      ]
    },
    {
      "cell_type": "code",
      "execution_count": null,
      "metadata": {},
      "outputs": [],
      "source": [
        "# 1. Check the original column names\n",
        "print(df.columns)\n",
        "\n",
        "# 2. Perform the grouping operation\n",
        "df_grouped = df.groupby(\"Year\")[['Population', 'CO2_Emissions_tons_per_capita', 'Sea_Level_Rise_mm']].sum()\n",
        "\n",
        "# 3. Check the columns after grouping\n",
        "print(df_grouped.columns)\n"
      ]
    },
    {
      "cell_type": "markdown",
      "metadata": {},
      "source": [
        "---"
      ]
    },
    {
      "cell_type": "code",
      "execution_count": null,
      "metadata": {},
      "outputs": [],
      "source": [
        "# Check the original DataFrame before grouping\n",
        "print(df.columns)\n",
        "\n",
        "# Group by 'Year' and aggregate the necessary columns\n",
        "df_grouped = df.groupby(\"Year\", as_index=False).agg({\n",
        "    'Population': 'sum',  # Make sure to aggregate the 'Population' column\n",
        "    'CO2_Emissions_tons_per_capita': 'mean',\n",
        "    'Sea_Level_Rise_mm': 'mean'\n",
        "})\n",
        "\n",
        "# Reset index to ensure 'Year' is a column (if it becomes an index during grouping)\n",
        "df_grouped = df_grouped.reset_index()\n",
        "\n",
        "# Check if 'Year' and 'Population' are now available as columns\n",
        "print(df_grouped.columns)\n",
        "\n",
        "# Plot for Population\n",
        "fig_population = go.Figure()\n",
        "fig_population.add_trace(go.Scatter(x=df_grouped[\"Year\"], y=df_grouped[\"Population\"],\n",
        "                                    mode='lines+markers', name='Population',\n",
        "                                    line=dict(color='blue')))\n",
        "\n",
        "fig_population.update_layout(\n",
        "    title=\"Population Over Time\",\n",
        "    xaxis_title=\"Year\",\n",
        "    yaxis_title=\"Population\",\n",
        "    template=\"plotly_dark\"\n",
        ")\n",
        "\n",
        "# Show the Population plot\n",
        "fig_population.show()\n",
        "\n",
        "# Plot for CO2 Emissions per capita\n",
        "fig_co2 = go.Figure()\n",
        "fig_co2.add_trace(go.Scatter(x=df_grouped[\"Year\"], y=df_grouped[\"CO2_Emissions_tons_per_capita\"],\n",
        "                             mode='lines+markers', name='CO2 Emissions per capita',\n",
        "                             line=dict(color='green')))\n",
        "\n",
        "fig_co2.update_layout(\n",
        "    title=\"CO2 Emissions per capita Over Time\",\n",
        "    xaxis_title=\"Year\",\n",
        "    yaxis_title=\"CO2 Emissions (tons per capita)\",\n",
        "    template=\"plotly_dark\"\n",
        ")\n",
        "\n",
        "# Show the CO2 Emissions plot\n",
        "fig_co2.show()\n",
        "\n",
        "# Plot for Sea Level Rise\n",
        "fig_sea_level = go.Figure()\n",
        "fig_sea_level.add_trace(go.Scatter(x=df_grouped[\"Year\"], y=df_grouped[\"Sea_Level_Rise_mm\"],\n",
        "                                  mode='lines+markers', name='Sea Level Rise (mm)',\n",
        "                                  line=dict(color='red')))\n",
        "\n",
        "fig_sea_level.update_layout(\n",
        "    title=\"Sea Level Rise Over Time\",\n",
        "    xaxis_title=\"Year\",\n",
        "    yaxis_title=\"Sea Level Rise (mm)\",\n",
        "    template=\"plotly_dark\"\n",
        ")\n",
        "\n",
        "# Show the Sea Level Rise plot\n",
        "fig_sea_level.show()"
      ]
    },
    {
      "cell_type": "markdown",
      "metadata": {},
      "source": [
        "NOTE"
      ]
    },
    {
      "cell_type": "markdown",
      "metadata": {},
      "source": [
        "* You may add as many sections as you want, as long as it supports your project workflow.\n",
        "* All notebook's cells should be run top-down (you can't create a dynamic wherein a given point you need to go back to a previous cell to execute some task, like go back to a previous cell and refresh a variable content)"
      ]
    },
    {
      "cell_type": "markdown",
      "metadata": {},
      "source": [
        "---"
      ]
    },
    {
      "cell_type": "markdown",
      "metadata": {
        "id": "ltNetd085qHf"
      },
      "source": [
        "# Push files to Repo"
      ]
    },
    {
      "cell_type": "markdown",
      "metadata": {},
      "source": [
        "* In cases where you don't need to push files to Repo, you may replace this section with \"Conclusions and Next Steps\" and state your conclusions and next steps."
      ]
    },
    {
      "cell_type": "code",
      "execution_count": null,
      "metadata": {
        "id": "aKlnIozA4eQO",
        "outputId": "fd09bc1f-adb1-4511-f6ce-492a6af570c0"
      },
      "outputs": [],
      "source": [
        "import os\n",
        "try:\n",
        "  # create your folder here\n",
        "  # os.makedirs(name='')\n",
        "except Exception as e:\n",
        "  print(e)\n"
      ]
    }
  ],
  "metadata": {
    "accelerator": "GPU",
    "colab": {
      "name": "Data Practitioner Jupyter Notebook.ipynb",
      "provenance": [],
      "toc_visible": true
    },
    "kernelspec": {
      "display_name": ".venv",
      "language": "python",
      "name": "python3"
    },
    "language_info": {
      "codemirror_mode": {
        "name": "ipython",
        "version": 3
      },
      "file_extension": ".py",
      "mimetype": "text/x-python",
      "name": "python",
      "nbconvert_exporter": "python",
      "pygments_lexer": "ipython3",
      "version": "3.12.8"
    },
    "orig_nbformat": 2
  },
  "nbformat": 4,
  "nbformat_minor": 2
}
