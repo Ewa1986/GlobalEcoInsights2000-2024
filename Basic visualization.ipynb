{
  "cells": [
    {
      "cell_type": "markdown",
      "metadata": {
        "id": "0aStgWSO0E0E"
      },
      "source": [
        "# **(ADD THE NOTEBOOK NAME HERE)**"
      ]
    },
    {
      "cell_type": "markdown",
      "metadata": {
        "id": "1eLEkw5O0ECa"
      },
      "source": [
        "## Objectives\n",
        "\n",
        "* Write your notebook objective here, for example, \"Fetch data from Kaggle and save as raw data\", or \"engineer features for modelling\"\n",
        "\n",
        "## Inputs\n",
        "\n",
        "* Write down which data or information you need to run the notebook \n",
        "\n",
        "## Outputs\n",
        "\n",
        "* Write here which files, code or artefacts you generate by the end of the notebook \n",
        "\n",
        "## Additional Comments\n",
        "\n",
        "* If you have any additional comments that don't fit in the previous bullets, please state them here. \n",
        "\n"
      ]
    },
    {
      "cell_type": "markdown",
      "metadata": {
        "id": "9uWZXH9LwoQg"
      },
      "source": [
        "---"
      ]
    },
    {
      "cell_type": "markdown",
      "metadata": {
        "id": "cqP-UeN-z3i2"
      },
      "source": [
        "# Change working directory"
      ]
    },
    {
      "cell_type": "markdown",
      "metadata": {},
      "source": [
        "* We are assuming you will store the notebooks in a subfolder, therefore when running the notebook in the editor, you will need to change the working directory"
      ]
    },
    {
      "cell_type": "markdown",
      "metadata": {
        "id": "aOGIGS-uz3i2"
      },
      "source": [
        "We need to change the working directory from its current folder to its parent folder\n",
        "* We access the current directory with os.getcwd()"
      ]
    },
    {
      "cell_type": "code",
      "execution_count": null,
      "metadata": {
        "id": "wZfF_j-Bz3i4",
        "outputId": "66943449-1436-4c3d-85c7-b85f9f78349b"
      },
      "outputs": [
        {
          "data": {
            "text/plain": [
              "'c:\\\\Users\\\\Ewa\\\\Documents\\\\vscode-projects\\\\GlobalEcoInsights2000-2024'"
            ]
          },
          "execution_count": 4,
          "metadata": {},
          "output_type": "execute_result"
        }
      ],
      "source": [
        "import os\n",
        "current_dir = os.getcwd()\n",
        "current_dir"
      ]
    },
    {
      "cell_type": "markdown",
      "metadata": {
        "id": "9MWW8E7lz3i7"
      },
      "source": [
        "We want to make the parent of the current directory the new current directory\n",
        "* os.path.dirname() gets the parent directory\n",
        "* os.chir() defines the new current directory"
      ]
    },
    {
      "cell_type": "code",
      "execution_count": 1,
      "metadata": {
        "id": "TwHsQRWjz3i9",
        "outputId": "86849db3-cd2f-4cc5-ebb8-2d0caafa1a2c"
      },
      "outputs": [
        {
          "ename": "NameError",
          "evalue": "name 'os' is not defined",
          "output_type": "error",
          "traceback": [
            "\u001b[1;31m---------------------------------------------------------------------------\u001b[0m",
            "\u001b[1;31mNameError\u001b[0m                                 Traceback (most recent call last)",
            "Cell \u001b[1;32mIn[1], line 1\u001b[0m\n\u001b[1;32m----> 1\u001b[0m \u001b[43mos\u001b[49m\u001b[38;5;241m.\u001b[39mchdir(os\u001b[38;5;241m.\u001b[39mpath\u001b[38;5;241m.\u001b[39mdirname(current_dir))\n\u001b[0;32m      2\u001b[0m \u001b[38;5;28mprint\u001b[39m(\u001b[38;5;124m\"\u001b[39m\u001b[38;5;124mGlobalecoinsights\u001b[39m\u001b[38;5;124m\"\u001b[39m)\n",
            "\u001b[1;31mNameError\u001b[0m: name 'os' is not defined"
          ]
        }
      ],
      "source": [
        "os.chdir(os.path.dirname(current_dir))\n",
        "print(\"Globalecoinsights\")"
      ]
    },
    {
      "cell_type": "markdown",
      "metadata": {
        "id": "M_xPk_Ijz3i-"
      },
      "source": [
        "Confirm the new current directory"
      ]
    },
    {
      "cell_type": "code",
      "execution_count": null,
      "metadata": {
        "id": "vz3S-_kjz3jA",
        "outputId": "00b79ae4-75d0-4a96-d193-ac9ef9847ea2"
      },
      "outputs": [
        {
          "data": {
            "text/plain": [
              "'c:\\\\Users\\\\Ewa\\\\Documents\\\\vscode-projects'"
            ]
          },
          "execution_count": 6,
          "metadata": {},
          "output_type": "execute_result"
        }
      ],
      "source": [
        "current_dir = os.getcwd()\n",
        "current_dir"
      ]
    },
    {
      "cell_type": "markdown",
      "metadata": {
        "id": "-mavJ8DibrcQ"
      },
      "source": [
        "# Basic visualization"
      ]
    },
    {
      "cell_type": "markdown",
      "metadata": {},
      "source": [
        "Libraries"
      ]
    },
    {
      "cell_type": "code",
      "execution_count": 2,
      "metadata": {},
      "outputs": [
        {
          "name": "stdout",
          "output_type": "stream",
          "text": [
            "Requirement already satisfied: numpy in c:\\python311\\lib\\site-packages (2.2.2)\n"
          ]
        },
        {
          "name": "stderr",
          "output_type": "stream",
          "text": [
            "WARNING: Ignoring invalid distribution ~ (C:\\Python311\\Lib\\site-packages)\n",
            "WARNING: Ignoring invalid distribution ~ip (C:\\Python311\\Lib\\site-packages)\n",
            "WARNING: Ignoring invalid distribution ~~p (C:\\Python311\\Lib\\site-packages)\n",
            "WARNING: Ignoring invalid distribution ~ (C:\\Python311\\Lib\\site-packages)\n",
            "WARNING: Ignoring invalid distribution ~ip (C:\\Python311\\Lib\\site-packages)\n",
            "WARNING: Ignoring invalid distribution ~~p (C:\\Python311\\Lib\\site-packages)\n",
            "WARNING: Ignoring invalid distribution ~ (C:\\Python311\\Lib\\site-packages)\n",
            "WARNING: Ignoring invalid distribution ~ip (C:\\Python311\\Lib\\site-packages)\n",
            "WARNING: Ignoring invalid distribution ~~p (C:\\Python311\\Lib\\site-packages)\n",
            "\n",
            "[notice] A new release of pip is available: 25.0 -> 25.0.1\n",
            "[notice] To update, run: C:\\Python311\\python.exe -m pip install --upgrade pip\n"
          ]
        }
      ],
      "source": [
        "!pip install numpy"
      ]
    },
    {
      "cell_type": "code",
      "execution_count": null,
      "metadata": {},
      "outputs": [],
      "source": [
        "import pandas as pd\n",
        "import numpy as np\n",
        "import plotly.express as px\n",
        "import plotly.io as pio\n",
        "import plotly.graph_objects as go"
      ]
    },
    {
      "cell_type": "markdown",
      "metadata": {
        "id": "ZY3l0-AxO93d"
      },
      "source": [
        "---"
      ]
    },
    {
      "cell_type": "code",
      "execution_count": null,
      "metadata": {},
      "outputs": [],
      "source": [
        "# Load the dataset into a pandas dataframe\n",
        "df = pd.read_csv(\"/Users/Ewa/Documents/vscode-projects/GlobalEcoInsights2000-2024/temperature.csv\")"
      ]
    },
    {
      "cell_type": "markdown",
      "metadata": {},
      "source": [
        "Hypothesis: \"Average temperature has increased over the years.\" Visualization: Line chart showing temperature trends per country"
      ]
    },
    {
      "cell_type": "code",
      "execution_count": null,
      "metadata": {},
      "outputs": [
        {
          "data": {
            "application/vnd.plotly.v1+json": {
              "config": {
                "plotlyServerURL": "https://plot.ly"
              },
              "data": [
                {
                  "hovertemplate": "Country=UK<br>Year=%{x}<br>Average Temperature (°C)=%{y}<extra></extra>",
                  "legendgroup": "UK",
                  "line": {
                    "color": "#00224e",
                    "dash": "solid"
                  },
                  "marker": {
                    "size": 4,
                    "symbol": "circle"
                  },
                  "mode": "lines+markers",
                  "name": "UK",
                  "orientation": "v",
                  "showlegend": true,
                  "type": "scatter",
                  "x": [
                    2006,
                    2022,
                    2011,
                    2018,
                    2018,
                    2012,
                    2000,
                    2011,
                    2001,
                    2000,
                    2016,
                    2019,
                    2014,
                    2018,
                    2005,
                    2000,
                    2019,
                    2001,
                    2000,
                    2000,
                    2019,
                    2018,
                    2007,
                    2023,
                    2001,
                    2005,
                    2000,
                    2002,
                    2014,
                    2016,
                    2003,
                    2021,
                    2014,
                    2004,
                    2016,
                    2017,
                    2002,
                    2022,
                    2010,
                    2011,
                    2004,
                    2006,
                    2006,
                    2020,
                    2007,
                    2021,
                    2004,
                    2023,
                    2000,
                    2009,
                    2021,
                    2005,
                    2009,
                    2012,
                    2003,
                    2022,
                    2006,
                    2016,
                    2014,
                    2021,
                    2015,
                    2001,
                    2019,
                    2011,
                    2000
                  ],
                  "xaxis": "x",
                  "y": [
                    8.9,
                    27.8,
                    13.8,
                    22.9,
                    24.5,
                    21.6,
                    22.9,
                    18.2,
                    7.4,
                    17.1,
                    28.3,
                    17.2,
                    7.1,
                    22.4,
                    30.7,
                    16.4,
                    8.7,
                    25.6,
                    22.4,
                    30.9,
                    23,
                    29.8,
                    13.7,
                    33.5,
                    7.1,
                    10.6,
                    20.5,
                    24,
                    25.3,
                    29.6,
                    7.1,
                    27.6,
                    5,
                    13.3,
                    22.5,
                    6.3,
                    15.6,
                    7.5,
                    19.3,
                    19.6,
                    16.7,
                    12.8,
                    13.1,
                    7.8,
                    10.4,
                    17.1,
                    16.2,
                    27.1,
                    33.5,
                    18.9,
                    6.1,
                    16.8,
                    11.8,
                    9.2,
                    10.9,
                    22.9,
                    30.7,
                    11.3,
                    29.6,
                    12.3,
                    7.3,
                    24.5,
                    31.2,
                    26.2,
                    21.8
                  ],
                  "yaxis": "y"
                },
                {
                  "hovertemplate": "Country=USA<br>Year=%{x}<br>Average Temperature (°C)=%{y}<extra></extra>",
                  "legendgroup": "USA",
                  "line": {
                    "color": "#123570",
                    "dash": "solid"
                  },
                  "marker": {
                    "size": 4,
                    "symbol": "circle"
                  },
                  "mode": "lines+markers",
                  "name": "USA",
                  "orientation": "v",
                  "showlegend": true,
                  "type": "scatter",
                  "x": [
                    2019,
                    2003,
                    2021,
                    2015,
                    2006,
                    2007,
                    2008,
                    2006,
                    2023,
                    2000,
                    2022,
                    2000,
                    2002,
                    2009,
                    2016,
                    2022,
                    2016,
                    2015,
                    2001,
                    2019,
                    2023,
                    2003,
                    2007,
                    2015,
                    2015,
                    2003,
                    2002,
                    2022,
                    2007,
                    2015,
                    2004,
                    2020,
                    2009,
                    2015,
                    2021,
                    2012,
                    2022,
                    2022,
                    2019,
                    2023,
                    2000,
                    2012,
                    2006,
                    2003,
                    2023,
                    2022,
                    2013,
                    2018,
                    2004,
                    2006,
                    2006,
                    2009,
                    2011,
                    2020,
                    2015,
                    2020,
                    2012,
                    2023,
                    2000,
                    2003,
                    2002,
                    2011,
                    2020,
                    2003,
                    2000,
                    2016,
                    2022,
                    2009,
                    2005,
                    2023,
                    2004,
                    2023,
                    2014
                  ],
                  "xaxis": "x",
                  "y": [
                    31,
                    27.4,
                    28.9,
                    10.6,
                    14.8,
                    27.5,
                    19.5,
                    28.5,
                    6.2,
                    9.9,
                    17.6,
                    28,
                    5.9,
                    16.5,
                    34.6,
                    14.7,
                    26.9,
                    29.9,
                    24.5,
                    27.8,
                    20,
                    12.4,
                    16.8,
                    26.5,
                    16.4,
                    19.4,
                    17,
                    10.5,
                    16.2,
                    28.8,
                    29.3,
                    21.1,
                    5.5,
                    18.7,
                    24,
                    11.8,
                    13.4,
                    9.9,
                    33.6,
                    23.6,
                    11.9,
                    19.4,
                    23.9,
                    9.5,
                    33.3,
                    29.3,
                    20.3,
                    18.9,
                    28.5,
                    32,
                    23.5,
                    14.6,
                    31.3,
                    13.3,
                    8.7,
                    8.1,
                    26.1,
                    11.3,
                    12.1,
                    11.8,
                    13.3,
                    30.3,
                    14.5,
                    15.2,
                    15.3,
                    16.9,
                    25.6,
                    5.9,
                    27.1,
                    12.6,
                    8.2,
                    6.8,
                    5.5
                  ],
                  "yaxis": "y"
                },
                {
                  "hovertemplate": "Country=France<br>Year=%{x}<br>Average Temperature (°C)=%{y}<extra></extra>",
                  "legendgroup": "France",
                  "line": {
                    "color": "#3b496c",
                    "dash": "solid"
                  },
                  "marker": {
                    "size": 4,
                    "symbol": "circle"
                  },
                  "mode": "lines+markers",
                  "name": "France",
                  "orientation": "v",
                  "showlegend": true,
                  "type": "scatter",
                  "x": [
                    2014,
                    2021,
                    2023,
                    2003,
                    2013,
                    2007,
                    2006,
                    2014,
                    2022,
                    2002,
                    2018,
                    2014,
                    2021,
                    2000,
                    2019,
                    2006,
                    2007,
                    2017,
                    2019,
                    2011,
                    2013,
                    2007,
                    2005,
                    2022,
                    2017,
                    2015,
                    2006,
                    2013,
                    2015,
                    2000,
                    2003,
                    2015,
                    2019,
                    2002,
                    2003,
                    2002,
                    2012,
                    2014,
                    2014,
                    2009,
                    2016,
                    2012,
                    2008,
                    2021,
                    2012,
                    2004,
                    2014,
                    2004,
                    2010,
                    2008,
                    2012,
                    2000,
                    2021,
                    2015,
                    2023,
                    2018,
                    2018,
                    2015,
                    2023,
                    2023,
                    2001,
                    2008,
                    2012,
                    2020,
                    2014,
                    2021
                  ],
                  "xaxis": "x",
                  "y": [
                    33.9,
                    21.9,
                    9.8,
                    25.8,
                    8.7,
                    21.3,
                    24.7,
                    15.8,
                    12.1,
                    9.4,
                    23.2,
                    26.2,
                    5.5,
                    12.6,
                    12.7,
                    9.8,
                    34.8,
                    28,
                    29.4,
                    21.7,
                    12.7,
                    25.4,
                    29.7,
                    20.2,
                    15.3,
                    29.6,
                    14.7,
                    23.2,
                    19.3,
                    28.3,
                    19.5,
                    13.9,
                    28.5,
                    30.4,
                    11,
                    30.8,
                    28.4,
                    34.7,
                    14.7,
                    8.4,
                    32.6,
                    6.3,
                    7.9,
                    10.4,
                    27.7,
                    31.4,
                    25.6,
                    10,
                    14,
                    6.5,
                    5.2,
                    8.9,
                    17.9,
                    30.6,
                    21.4,
                    18.8,
                    24.8,
                    14.4,
                    31.9,
                    15.9,
                    27,
                    24.6,
                    5.9,
                    5.1,
                    16.7,
                    11.8
                  ],
                  "yaxis": "y"
                },
                {
                  "hovertemplate": "Country=Argentina<br>Year=%{x}<br>Average Temperature (°C)=%{y}<extra></extra>",
                  "legendgroup": "Argentina",
                  "line": {
                    "color": "#575d6d",
                    "dash": "solid"
                  },
                  "marker": {
                    "size": 4,
                    "symbol": "circle"
                  },
                  "mode": "lines+markers",
                  "name": "Argentina",
                  "orientation": "v",
                  "showlegend": true,
                  "type": "scatter",
                  "x": [
                    2010,
                    2006,
                    2004,
                    2008,
                    2013,
                    2001,
                    2021,
                    2009,
                    2013,
                    2014,
                    2010,
                    2023,
                    2000,
                    2008,
                    2009,
                    2008,
                    2005,
                    2005,
                    2001,
                    2003,
                    2023,
                    2007,
                    2015,
                    2021,
                    2020,
                    2005,
                    2021,
                    2006,
                    2006,
                    2006,
                    2009,
                    2023,
                    2008,
                    2020,
                    2016,
                    2023,
                    2009,
                    2018,
                    2019,
                    2001,
                    2012,
                    2018,
                    2002,
                    2016,
                    2022,
                    2009,
                    2005,
                    2008,
                    2019,
                    2013,
                    2005,
                    2014,
                    2012,
                    2020,
                    2005,
                    2013,
                    2004,
                    2014,
                    2002,
                    2023,
                    2013,
                    2018,
                    2009,
                    2001,
                    2022,
                    2023,
                    2019
                  ],
                  "xaxis": "x",
                  "y": [
                    5.9,
                    30.7,
                    9.8,
                    18,
                    25.4,
                    33.2,
                    21,
                    11,
                    29.6,
                    33.4,
                    24.5,
                    30.2,
                    16.9,
                    25.1,
                    15.7,
                    21.7,
                    9,
                    9.7,
                    24.8,
                    10,
                    22.4,
                    7.7,
                    20.7,
                    13.9,
                    8.4,
                    27,
                    12.9,
                    22.9,
                    25.1,
                    12.3,
                    16.4,
                    20.3,
                    28.6,
                    9.2,
                    7.2,
                    13,
                    8.8,
                    34.6,
                    21.5,
                    21.5,
                    21.3,
                    27.6,
                    14.3,
                    21.2,
                    27.7,
                    20.1,
                    24.3,
                    10.4,
                    11.8,
                    23,
                    5.7,
                    25.9,
                    20.6,
                    11.1,
                    10,
                    23.9,
                    15.4,
                    19.8,
                    27.6,
                    29,
                    34.7,
                    24.7,
                    34.6,
                    8.4,
                    7.2,
                    8.9,
                    23.8
                  ],
                  "yaxis": "y"
                },
                {
                  "hovertemplate": "Country=Germany<br>Year=%{x}<br>Average Temperature (°C)=%{y}<extra></extra>",
                  "legendgroup": "Germany",
                  "line": {
                    "color": "#707173",
                    "dash": "solid"
                  },
                  "marker": {
                    "size": 4,
                    "symbol": "circle"
                  },
                  "mode": "lines+markers",
                  "name": "Germany",
                  "orientation": "v",
                  "showlegend": true,
                  "type": "scatter",
                  "x": [
                    2007,
                    2007,
                    2022,
                    2002,
                    2012,
                    2004,
                    2009,
                    2021,
                    2022,
                    2012,
                    2018,
                    2005,
                    2007,
                    2001,
                    2022,
                    2021,
                    2008,
                    2009,
                    2022,
                    2015,
                    2023,
                    2017,
                    2013,
                    2018,
                    2000,
                    2023,
                    2023,
                    2004,
                    2007,
                    2015,
                    2007,
                    2018,
                    2016,
                    2015,
                    2004,
                    2003,
                    2002,
                    2017,
                    2009,
                    2001,
                    2016,
                    2009,
                    2006,
                    2009,
                    2014,
                    2001,
                    2009,
                    2001,
                    2001,
                    2018,
                    2010,
                    2022,
                    2004,
                    2007,
                    2019,
                    2007,
                    2001,
                    2005,
                    2000,
                    2005,
                    2011
                  ],
                  "xaxis": "x",
                  "y": [
                    26.9,
                    11,
                    12.4,
                    8.1,
                    23.4,
                    18,
                    6.3,
                    23.9,
                    22.9,
                    19,
                    30.1,
                    22.6,
                    33.5,
                    15.3,
                    27,
                    16.2,
                    28.1,
                    18.1,
                    21.5,
                    22.6,
                    32.4,
                    29.7,
                    17.9,
                    7.6,
                    5.1,
                    13.2,
                    18.3,
                    28.1,
                    9.8,
                    25.2,
                    21,
                    22.3,
                    29.9,
                    8.7,
                    8.7,
                    30.5,
                    23.5,
                    9,
                    10.7,
                    23.6,
                    18.3,
                    34.3,
                    25,
                    23,
                    21.7,
                    34.7,
                    19.4,
                    19.2,
                    6.3,
                    27,
                    24.9,
                    13.7,
                    13.5,
                    20.6,
                    8.3,
                    17.6,
                    30.3,
                    27.2,
                    14.4,
                    32,
                    24.1
                  ],
                  "yaxis": "y"
                },
                {
                  "hovertemplate": "Country=China<br>Year=%{x}<br>Average Temperature (°C)=%{y}<extra></extra>",
                  "legendgroup": "China",
                  "line": {
                    "color": "#8a8678",
                    "dash": "solid"
                  },
                  "marker": {
                    "size": 4,
                    "symbol": "circle"
                  },
                  "mode": "lines+markers",
                  "name": "China",
                  "orientation": "v",
                  "showlegend": true,
                  "type": "scatter",
                  "x": [
                    2020,
                    2020,
                    2016,
                    2020,
                    2017,
                    2003,
                    2003,
                    2021,
                    2017,
                    2018,
                    2004,
                    2008,
                    2012,
                    2000,
                    2023,
                    2016,
                    2023,
                    2004,
                    2003,
                    2018,
                    2000,
                    2015,
                    2007,
                    2021,
                    2017,
                    2012,
                    2011,
                    2016,
                    2011,
                    2011,
                    2012,
                    2011,
                    2021,
                    2004,
                    2003,
                    2022,
                    2004,
                    2022,
                    2010,
                    2000,
                    2018,
                    2003,
                    2019,
                    2018,
                    2015,
                    2020,
                    2007,
                    2004,
                    2006,
                    2011,
                    2000,
                    2001,
                    2017,
                    2020,
                    2016,
                    2018,
                    2007,
                    2006,
                    2018,
                    2023,
                    2010,
                    2022,
                    2015,
                    2010,
                    2019,
                    2013,
                    2014
                  ],
                  "xaxis": "x",
                  "y": [
                    32.3,
                    19.1,
                    32.4,
                    22.7,
                    16.9,
                    28.3,
                    7.5,
                    29.7,
                    15.7,
                    19.4,
                    21.3,
                    34.8,
                    17.2,
                    18.3,
                    22.5,
                    16.9,
                    12,
                    33.9,
                    33.2,
                    22.3,
                    31,
                    10.1,
                    20.8,
                    18.3,
                    23.5,
                    30,
                    6.6,
                    10.1,
                    5.6,
                    27.1,
                    12.7,
                    22.2,
                    14.4,
                    29.8,
                    7.4,
                    22.8,
                    10.8,
                    17.9,
                    11.6,
                    28.8,
                    14.7,
                    33.7,
                    31.7,
                    24.8,
                    20.4,
                    11.8,
                    8.3,
                    9.9,
                    9.5,
                    28.4,
                    26.7,
                    27.4,
                    29.8,
                    10.2,
                    19.9,
                    18.1,
                    5.4,
                    13.5,
                    34.4,
                    28.8,
                    30.9,
                    28.6,
                    28.8,
                    13.3,
                    10,
                    14.4,
                    7.6
                  ],
                  "yaxis": "y"
                },
                {
                  "hovertemplate": "Country='South Africa'<br>Year=%{x}<br>Average Temperature (°C)=%{y}<extra></extra>",
                  "legendgroup": "'South Africa'",
                  "line": {
                    "color": "#a59c74",
                    "dash": "solid"
                  },
                  "marker": {
                    "size": 4,
                    "symbol": "circle"
                  },
                  "mode": "lines+markers",
                  "name": "'South Africa'",
                  "orientation": "v",
                  "showlegend": true,
                  "type": "scatter",
                  "x": [
                    2018,
                    2023,
                    2014,
                    2020,
                    2017,
                    2001,
                    2002,
                    2014,
                    2014,
                    2020,
                    2006,
                    2000,
                    2012,
                    2011,
                    2001,
                    2010,
                    2022,
                    2015,
                    2016,
                    2000,
                    2015,
                    2004,
                    2000,
                    2020,
                    2021,
                    2009,
                    2009,
                    2016,
                    2012,
                    2015,
                    2009,
                    2001,
                    2000,
                    2007,
                    2010,
                    2011,
                    2020,
                    2004,
                    2023,
                    2016,
                    2008,
                    2006,
                    2017,
                    2000,
                    2011,
                    2000,
                    2013,
                    2002,
                    2016,
                    2012,
                    2022,
                    2022,
                    2013,
                    2016,
                    2019,
                    2014,
                    2004,
                    2001,
                    2015,
                    2021,
                    2013,
                    2012,
                    2021,
                    2000,
                    2014,
                    2012,
                    2014,
                    2004,
                    2020,
                    2022,
                    2003,
                    2003,
                    2003
                  ],
                  "xaxis": "x",
                  "y": [
                    33.9,
                    14.6,
                    5,
                    26.7,
                    11.3,
                    34.3,
                    33.8,
                    20.4,
                    13.5,
                    17,
                    12,
                    31.5,
                    18.5,
                    21,
                    24.2,
                    9.9,
                    32.8,
                    31.1,
                    13.9,
                    14.9,
                    23.9,
                    21.9,
                    30.4,
                    25.1,
                    12.7,
                    17,
                    17.7,
                    12.2,
                    26.6,
                    33,
                    33.1,
                    5,
                    24,
                    17.1,
                    15.6,
                    10.3,
                    13,
                    30.9,
                    24.6,
                    32.9,
                    8.2,
                    6.1,
                    31.9,
                    34.8,
                    21.7,
                    15.3,
                    20.7,
                    27.8,
                    27,
                    10.3,
                    34.4,
                    6.7,
                    32.1,
                    9.7,
                    26.8,
                    33.4,
                    21.5,
                    23.4,
                    7.9,
                    21.7,
                    7.8,
                    18.2,
                    7.8,
                    31.9,
                    23.4,
                    29.6,
                    8.9,
                    22.3,
                    10,
                    15.8,
                    29.2,
                    10.1,
                    30.2
                  ],
                  "yaxis": "y"
                },
                {
                  "hovertemplate": "Country=Australia<br>Year=%{x}<br>Average Temperature (°C)=%{y}<extra></extra>",
                  "legendgroup": "Australia",
                  "line": {
                    "color": "#c3b369",
                    "dash": "solid"
                  },
                  "marker": {
                    "size": 4,
                    "symbol": "circle"
                  },
                  "mode": "lines+markers",
                  "name": "Australia",
                  "orientation": "v",
                  "showlegend": true,
                  "type": "scatter",
                  "x": [
                    2010,
                    2011,
                    2015,
                    2011,
                    2022,
                    2011,
                    2004,
                    2003,
                    2006,
                    2021,
                    2019,
                    2010,
                    2019,
                    2004,
                    2016,
                    2005,
                    2019,
                    2000,
                    2018,
                    2019,
                    2002,
                    2004,
                    2022,
                    2002,
                    2001,
                    2019,
                    2020,
                    2002,
                    2000,
                    2004,
                    2004,
                    2011,
                    2020,
                    2012,
                    2003,
                    2003,
                    2012,
                    2010,
                    2008,
                    2018,
                    2017,
                    2002,
                    2020,
                    2020,
                    2000,
                    2017,
                    2016,
                    2014,
                    2016,
                    2011,
                    2018,
                    2008,
                    2023,
                    2022,
                    2001,
                    2018,
                    2016
                  ],
                  "xaxis": "x",
                  "y": [
                    18.3,
                    5.5,
                    6.2,
                    19.8,
                    11.1,
                    17.5,
                    23.2,
                    23.1,
                    20.4,
                    24.9,
                    23,
                    16.9,
                    14.9,
                    7.7,
                    8.1,
                    34.4,
                    23.1,
                    8.3,
                    5.4,
                    21.5,
                    20.6,
                    22.8,
                    16,
                    15.3,
                    18.4,
                    17.3,
                    34.2,
                    23.3,
                    11.4,
                    9.2,
                    10.2,
                    20.8,
                    6.9,
                    16.1,
                    20,
                    24.1,
                    18,
                    30.3,
                    20.3,
                    24.1,
                    29,
                    32.9,
                    28.5,
                    11.8,
                    16.1,
                    23.7,
                    24.3,
                    27.2,
                    32.2,
                    27.2,
                    10.7,
                    18.1,
                    11.5,
                    27.9,
                    19.4,
                    34.5,
                    21
                  ],
                  "yaxis": "y"
                },
                {
                  "hovertemplate": "Country=Indonesia<br>Year=%{x}<br>Average Temperature (°C)=%{y}<extra></extra>",
                  "legendgroup": "Indonesia",
                  "line": {
                    "color": "#e1cc55",
                    "dash": "solid"
                  },
                  "marker": {
                    "size": 4,
                    "symbol": "circle"
                  },
                  "mode": "lines+markers",
                  "name": "Indonesia",
                  "orientation": "v",
                  "showlegend": true,
                  "type": "scatter",
                  "x": [
                    2010,
                    2001,
                    2016,
                    2007,
                    2023,
                    2015,
                    2007,
                    2002,
                    2006,
                    2004,
                    2010,
                    2006,
                    2009,
                    2021,
                    2011,
                    2021,
                    2021,
                    2000,
                    2006,
                    2016,
                    2000,
                    2003,
                    2000,
                    2007,
                    2022,
                    2001,
                    2000,
                    2004,
                    2021,
                    2000,
                    2015,
                    2000,
                    2008,
                    2011,
                    2019,
                    2008,
                    2019,
                    2019,
                    2012,
                    2015,
                    2010,
                    2000,
                    2020,
                    2011,
                    2007,
                    2012,
                    2021,
                    2016,
                    2004,
                    2020,
                    2004,
                    2006,
                    2001,
                    2009,
                    2010,
                    2007,
                    2023,
                    2002,
                    2020,
                    2005,
                    2014,
                    2014,
                    2014,
                    2010,
                    2014,
                    2002,
                    2016,
                    2007,
                    2003,
                    2002,
                    2004,
                    2018,
                    2007,
                    2005,
                    2021
                  ],
                  "xaxis": "x",
                  "y": [
                    14.4,
                    9.6,
                    5.6,
                    33.5,
                    28.5,
                    11.6,
                    30.4,
                    20.1,
                    12.1,
                    24,
                    18.1,
                    22.8,
                    24.6,
                    18.4,
                    8.8,
                    21.3,
                    33.6,
                    10.8,
                    26.5,
                    34.3,
                    29.7,
                    10.2,
                    31.1,
                    6.8,
                    15.9,
                    15,
                    20,
                    5.7,
                    9.6,
                    16.6,
                    27.6,
                    26.7,
                    12.3,
                    13.4,
                    16.6,
                    19.2,
                    14.5,
                    7.8,
                    9.8,
                    27.3,
                    10.8,
                    30.2,
                    30,
                    19.1,
                    16.6,
                    19.6,
                    24.1,
                    26,
                    16.3,
                    26.2,
                    13,
                    21.4,
                    31.5,
                    10.5,
                    15.7,
                    19.9,
                    27.8,
                    5.5,
                    21.6,
                    7.8,
                    10.6,
                    15.7,
                    15.9,
                    19.6,
                    8.7,
                    34.4,
                    13.9,
                    26.6,
                    15.2,
                    17.2,
                    12,
                    29.1,
                    5.8,
                    29.8,
                    26
                  ],
                  "yaxis": "y"
                },
                {
                  "hovertemplate": "Country=Brazil<br>Year=%{x}<br>Average Temperature (°C)=%{y}<extra></extra>",
                  "legendgroup": "Brazil",
                  "line": {
                    "color": "#fee838",
                    "dash": "solid"
                  },
                  "marker": {
                    "size": 4,
                    "symbol": "circle"
                  },
                  "mode": "lines+markers",
                  "name": "Brazil",
                  "orientation": "v",
                  "showlegend": true,
                  "type": "scatter",
                  "x": [
                    2020,
                    2002,
                    2006,
                    2011,
                    2009,
                    2011,
                    2020,
                    2002,
                    2000,
                    2006,
                    2006,
                    2011,
                    2011,
                    2020,
                    2015,
                    2017,
                    2004,
                    2013,
                    2019,
                    2018,
                    2013,
                    2014,
                    2016,
                    2020,
                    2002,
                    2022,
                    2001,
                    2008,
                    2018,
                    2014,
                    2010,
                    2014,
                    2020,
                    2018,
                    2011,
                    2018,
                    2010,
                    2023,
                    2008,
                    2016,
                    2012,
                    2008,
                    2003,
                    2007,
                    2005,
                    2012,
                    2008,
                    2017,
                    2021,
                    2015,
                    2016,
                    2016,
                    2011,
                    2014,
                    2001,
                    2010,
                    2023,
                    2016,
                    2017,
                    2018,
                    2011,
                    2013,
                    2012,
                    2003,
                    2008,
                    2010,
                    2010
                  ],
                  "xaxis": "x",
                  "y": [
                    26.7,
                    11.8,
                    32.2,
                    26.7,
                    31.5,
                    14.7,
                    23.8,
                    19.1,
                    31.2,
                    9.9,
                    24.6,
                    5.3,
                    22.7,
                    21,
                    28.9,
                    7.7,
                    16.4,
                    20.7,
                    21,
                    30.8,
                    28.8,
                    24.1,
                    28.1,
                    14.1,
                    11.9,
                    18.4,
                    26.7,
                    32.2,
                    16.4,
                    34.9,
                    34.4,
                    30.9,
                    31.2,
                    12,
                    24.7,
                    12.5,
                    13,
                    24.4,
                    16.6,
                    18.5,
                    8.2,
                    27.4,
                    7.1,
                    25.3,
                    34.4,
                    26.8,
                    19.7,
                    23.4,
                    27.5,
                    6.6,
                    33.1,
                    17,
                    34.2,
                    6.4,
                    7.6,
                    12.1,
                    14.3,
                    26.6,
                    8.8,
                    9.8,
                    29,
                    20.2,
                    32.5,
                    27.8,
                    7.1,
                    5,
                    17.6
                  ],
                  "yaxis": "y"
                },
                {
                  "hovertemplate": "Country=India<br>Year=%{x}<br>Average Temperature (°C)=%{y}<extra></extra>",
                  "legendgroup": "India",
                  "line": {
                    "color": "#00224e",
                    "dash": "solid"
                  },
                  "marker": {
                    "size": 4,
                    "symbol": "circle"
                  },
                  "mode": "lines+markers",
                  "name": "India",
                  "orientation": "v",
                  "showlegend": true,
                  "type": "scatter",
                  "x": [
                    2023,
                    2005,
                    2000,
                    2003,
                    2019,
                    2007,
                    2023,
                    2013,
                    2012,
                    2019,
                    2002,
                    2015,
                    2019,
                    2016,
                    2021,
                    2005,
                    2012,
                    2001,
                    2002,
                    2020,
                    2000,
                    2019,
                    2021,
                    2018,
                    2021,
                    2005,
                    2004,
                    2000,
                    2022,
                    2004,
                    2013,
                    2009,
                    2011,
                    2002,
                    2002,
                    2015,
                    2016,
                    2003,
                    2002,
                    2012,
                    2016,
                    2018,
                    2007,
                    2021,
                    2018,
                    2008,
                    2021,
                    2017,
                    2004,
                    2004,
                    2000,
                    2022,
                    2014,
                    2001,
                    2003,
                    2005,
                    2014,
                    2007,
                    2017,
                    2002,
                    2022,
                    2005,
                    2006,
                    2017,
                    2009,
                    2005,
                    2005,
                    2016,
                    2005,
                    2019
                  ],
                  "xaxis": "x",
                  "y": [
                    31,
                    7.7,
                    20.9,
                    18.9,
                    27.7,
                    22.8,
                    22.8,
                    28.8,
                    14.4,
                    21.2,
                    32,
                    14.5,
                    16.3,
                    9.5,
                    29,
                    32.5,
                    17.7,
                    20.8,
                    30.5,
                    9.6,
                    15.1,
                    13.1,
                    7.7,
                    33.8,
                    14,
                    7.8,
                    33.3,
                    16.7,
                    11.7,
                    19.4,
                    14.5,
                    23.1,
                    10.3,
                    17.6,
                    29.3,
                    16.8,
                    11.8,
                    6.4,
                    12.8,
                    5.4,
                    31.4,
                    27.4,
                    34,
                    31.4,
                    27.3,
                    16.3,
                    5.3,
                    14.7,
                    9.5,
                    22.6,
                    32.3,
                    23.6,
                    21.9,
                    9.3,
                    7.7,
                    11.8,
                    27.5,
                    31.2,
                    21.8,
                    8.5,
                    14.6,
                    34.9,
                    16.4,
                    12.6,
                    23.4,
                    24.7,
                    34.8,
                    16.4,
                    17.4,
                    23.6
                  ],
                  "yaxis": "y"
                },
                {
                  "hovertemplate": "Country=Russia<br>Year=%{x}<br>Average Temperature (°C)=%{y}<extra></extra>",
                  "legendgroup": "Russia",
                  "line": {
                    "color": "#123570",
                    "dash": "solid"
                  },
                  "marker": {
                    "size": 4,
                    "symbol": "circle"
                  },
                  "mode": "lines+markers",
                  "name": "Russia",
                  "orientation": "v",
                  "showlegend": true,
                  "type": "scatter",
                  "x": [
                    2002,
                    2020,
                    2011,
                    2008,
                    2014,
                    2003,
                    2020,
                    2015,
                    2017,
                    2016,
                    2007,
                    2008,
                    2022,
                    2012,
                    2003,
                    2006,
                    2008,
                    2023,
                    2011,
                    2016,
                    2001,
                    2022,
                    2002,
                    2008,
                    2002,
                    2002,
                    2015,
                    2011,
                    2018,
                    2019,
                    2017,
                    2013,
                    2007,
                    2010,
                    2015,
                    2015,
                    2018,
                    2020,
                    2019,
                    2009,
                    2001,
                    2007,
                    2008,
                    2006,
                    2022,
                    2020,
                    2020,
                    2013,
                    2015,
                    2002,
                    2002,
                    2005,
                    2007,
                    2002,
                    2000,
                    2002,
                    2015,
                    2004,
                    2007,
                    2013,
                    2005,
                    2000,
                    2016,
                    2020,
                    2010,
                    2003,
                    2020,
                    2004,
                    2009,
                    2008,
                    2013,
                    2006,
                    2011,
                    2021
                  ],
                  "xaxis": "x",
                  "y": [
                    26.4,
                    18.6,
                    23.2,
                    34.2,
                    9.4,
                    19.5,
                    23.5,
                    23.4,
                    33.1,
                    23.5,
                    14.9,
                    15,
                    16.2,
                    17.4,
                    7.9,
                    18.5,
                    12.6,
                    30.9,
                    11.9,
                    25.6,
                    19.4,
                    9.3,
                    32.6,
                    22.9,
                    24.3,
                    24.6,
                    32.9,
                    8.7,
                    24.4,
                    19.2,
                    11.2,
                    9.3,
                    23.1,
                    28.2,
                    24.4,
                    8.5,
                    15.4,
                    22,
                    5.5,
                    24.6,
                    33.9,
                    25.4,
                    30,
                    24.8,
                    12.6,
                    29.9,
                    17.7,
                    5.3,
                    19.9,
                    21.2,
                    17.4,
                    22.3,
                    24.9,
                    23.1,
                    6.9,
                    27.2,
                    22,
                    30.6,
                    32.7,
                    28.2,
                    8.8,
                    15.1,
                    17.1,
                    30.4,
                    11.5,
                    21.3,
                    12.7,
                    33.4,
                    27.5,
                    16.7,
                    16.2,
                    29.7,
                    15.1,
                    25.5
                  ],
                  "yaxis": "y"
                },
                {
                  "hovertemplate": "Country=Canada<br>Year=%{x}<br>Average Temperature (°C)=%{y}<extra></extra>",
                  "legendgroup": "Canada",
                  "line": {
                    "color": "#3b496c",
                    "dash": "solid"
                  },
                  "marker": {
                    "size": 4,
                    "symbol": "circle"
                  },
                  "mode": "lines+markers",
                  "name": "Canada",
                  "orientation": "v",
                  "showlegend": true,
                  "type": "scatter",
                  "x": [
                    2001,
                    2019,
                    2012,
                    2014,
                    2007,
                    2002,
                    2008,
                    2004,
                    2013,
                    2004,
                    2023,
                    2010,
                    2005,
                    2006,
                    2002,
                    2005,
                    2008,
                    2000,
                    2002,
                    2016,
                    2023,
                    2016,
                    2002,
                    2000,
                    2009,
                    2012,
                    2000,
                    2013,
                    2013,
                    2004,
                    2000,
                    2018,
                    2001,
                    2002,
                    2006,
                    2012,
                    2013,
                    2022,
                    2002,
                    2020,
                    2012,
                    2005,
                    2013,
                    2017,
                    2005,
                    2021,
                    2003,
                    2006,
                    2016,
                    2023,
                    2005,
                    2019,
                    2014,
                    2015,
                    2016,
                    2008,
                    2005,
                    2021,
                    2002,
                    2013,
                    2018,
                    2017,
                    2002,
                    2007,
                    2005,
                    2012,
                    2004
                  ],
                  "xaxis": "x",
                  "y": [
                    21.3,
                    21.8,
                    14,
                    24.8,
                    26.7,
                    27.3,
                    5.6,
                    10.2,
                    22.6,
                    15.8,
                    10.7,
                    5.5,
                    8.4,
                    31.3,
                    18.3,
                    19.3,
                    10.9,
                    23.5,
                    15.8,
                    32.2,
                    28,
                    9.5,
                    12.1,
                    14.4,
                    24.1,
                    24.2,
                    22.8,
                    11.9,
                    10.7,
                    19.2,
                    16.5,
                    29.8,
                    21.2,
                    33.7,
                    12,
                    11.4,
                    16.6,
                    28.7,
                    19.9,
                    33.3,
                    28.5,
                    20.6,
                    9.7,
                    16.3,
                    13.2,
                    25.1,
                    11.6,
                    6.6,
                    27.3,
                    23.4,
                    9.5,
                    29.5,
                    30.4,
                    25.4,
                    31.2,
                    27.4,
                    25.9,
                    13.3,
                    21.7,
                    6,
                    34,
                    14.7,
                    32,
                    32.1,
                    16.4,
                    8.8,
                    34.2
                  ],
                  "yaxis": "y"
                },
                {
                  "hovertemplate": "Country=Mexico<br>Year=%{x}<br>Average Temperature (°C)=%{y}<extra></extra>",
                  "legendgroup": "Mexico",
                  "line": {
                    "color": "#575d6d",
                    "dash": "solid"
                  },
                  "marker": {
                    "size": 4,
                    "symbol": "circle"
                  },
                  "mode": "lines+markers",
                  "name": "Mexico",
                  "orientation": "v",
                  "showlegend": true,
                  "type": "scatter",
                  "x": [
                    2011,
                    2006,
                    2017,
                    2014,
                    2013,
                    2005,
                    2001,
                    2023,
                    2006,
                    2002,
                    2016,
                    2004,
                    2011,
                    2010,
                    2017,
                    2021,
                    2008,
                    2013,
                    2001,
                    2022,
                    2007,
                    2019,
                    2019,
                    2020,
                    2018,
                    2001,
                    2017,
                    2015,
                    2021,
                    2011,
                    2011,
                    2011,
                    2010,
                    2012,
                    2017,
                    2000,
                    2003,
                    2023,
                    2003,
                    2014,
                    2000,
                    2022,
                    2009,
                    2001,
                    2015,
                    2021,
                    2001,
                    2016,
                    2012,
                    2021,
                    2003,
                    2014,
                    2019,
                    2010,
                    2018
                  ],
                  "xaxis": "x",
                  "y": [
                    11.1,
                    34.5,
                    9.5,
                    33.6,
                    22.1,
                    7.2,
                    7.9,
                    28.5,
                    6.6,
                    11.7,
                    10.4,
                    34.2,
                    23.3,
                    8.3,
                    31.9,
                    29.5,
                    25.1,
                    17.7,
                    15.2,
                    22.4,
                    8.6,
                    28.6,
                    6.9,
                    20.2,
                    15.9,
                    10.1,
                    25.7,
                    18.5,
                    31.5,
                    6.1,
                    29.1,
                    17.4,
                    33.8,
                    8.2,
                    25.6,
                    8.2,
                    24.7,
                    11.5,
                    5.1,
                    28,
                    25.6,
                    34,
                    25.5,
                    17.9,
                    8.4,
                    34.3,
                    18.6,
                    18.4,
                    26.8,
                    34.2,
                    31.4,
                    20.8,
                    29.2,
                    31,
                    27.8
                  ],
                  "yaxis": "y"
                },
                {
                  "hovertemplate": "Country=Japan<br>Year=%{x}<br>Average Temperature (°C)=%{y}<extra></extra>",
                  "legendgroup": "Japan",
                  "line": {
                    "color": "#707173",
                    "dash": "solid"
                  },
                  "marker": {
                    "size": 4,
                    "symbol": "circle"
                  },
                  "mode": "lines+markers",
                  "name": "Japan",
                  "orientation": "v",
                  "showlegend": true,
                  "type": "scatter",
                  "x": [
                    2009,
                    2014,
                    2001,
                    2007,
                    2014,
                    2022,
                    2008,
                    2002,
                    2016,
                    2018,
                    2003,
                    2015,
                    2002,
                    2019,
                    2008,
                    2006,
                    2010,
                    2008,
                    2002,
                    2022,
                    2017,
                    2003,
                    2011,
                    2014,
                    2021,
                    2014,
                    2011,
                    2021,
                    2023,
                    2016,
                    2017,
                    2016,
                    2004,
                    2022,
                    2015,
                    2004,
                    2022,
                    2011,
                    2018,
                    2020,
                    2020,
                    2017,
                    2003,
                    2009,
                    2022,
                    2021,
                    2004,
                    2018,
                    2012,
                    2017,
                    2017,
                    2001,
                    2005,
                    2018,
                    2004,
                    2016,
                    2019,
                    2008,
                    2023,
                    2021,
                    2004,
                    2012,
                    2018
                  ],
                  "xaxis": "x",
                  "y": [
                    34,
                    18.9,
                    24.7,
                    15.4,
                    25.1,
                    31.9,
                    19.4,
                    27.1,
                    6,
                    20.7,
                    33.2,
                    12.3,
                    25,
                    15.5,
                    14.5,
                    27.6,
                    24.5,
                    21.4,
                    27.4,
                    10.4,
                    22.9,
                    25.1,
                    22.2,
                    16.9,
                    23.8,
                    31.9,
                    25,
                    31.3,
                    21.9,
                    23.4,
                    9,
                    8.1,
                    7.3,
                    29.8,
                    34.1,
                    12.7,
                    7.1,
                    8.8,
                    32.8,
                    29.4,
                    9.1,
                    5.9,
                    16.6,
                    34.5,
                    8.7,
                    16.1,
                    22.6,
                    28.4,
                    6.7,
                    28.6,
                    29.8,
                    28.6,
                    10.7,
                    5.7,
                    17.5,
                    34.4,
                    21.3,
                    10.9,
                    27.7,
                    10.1,
                    7.8,
                    14.4,
                    34
                  ],
                  "yaxis": "y"
                }
              ],
              "layout": {
                "hovermode": "x unified",
                "legend": {
                  "title": {
                    "text": "Country"
                  },
                  "tracegroupgap": 0
                },
                "template": {
                  "data": {
                    "bar": [
                      {
                        "error_x": {
                          "color": "#2a3f5f"
                        },
                        "error_y": {
                          "color": "#2a3f5f"
                        },
                        "marker": {
                          "line": {
                            "color": "white",
                            "width": 0.5
                          },
                          "pattern": {
                            "fillmode": "overlay",
                            "size": 10,
                            "solidity": 0.2
                          }
                        },
                        "type": "bar"
                      }
                    ],
                    "barpolar": [
                      {
                        "marker": {
                          "line": {
                            "color": "white",
                            "width": 0.5
                          },
                          "pattern": {
                            "fillmode": "overlay",
                            "size": 10,
                            "solidity": 0.2
                          }
                        },
                        "type": "barpolar"
                      }
                    ],
                    "carpet": [
                      {
                        "aaxis": {
                          "endlinecolor": "#2a3f5f",
                          "gridcolor": "#C8D4E3",
                          "linecolor": "#C8D4E3",
                          "minorgridcolor": "#C8D4E3",
                          "startlinecolor": "#2a3f5f"
                        },
                        "baxis": {
                          "endlinecolor": "#2a3f5f",
                          "gridcolor": "#C8D4E3",
                          "linecolor": "#C8D4E3",
                          "minorgridcolor": "#C8D4E3",
                          "startlinecolor": "#2a3f5f"
                        },
                        "type": "carpet"
                      }
                    ],
                    "choropleth": [
                      {
                        "colorbar": {
                          "outlinewidth": 0,
                          "ticks": ""
                        },
                        "type": "choropleth"
                      }
                    ],
                    "contour": [
                      {
                        "colorbar": {
                          "outlinewidth": 0,
                          "ticks": ""
                        },
                        "colorscale": [
                          [
                            0,
                            "#0d0887"
                          ],
                          [
                            0.1111111111111111,
                            "#46039f"
                          ],
                          [
                            0.2222222222222222,
                            "#7201a8"
                          ],
                          [
                            0.3333333333333333,
                            "#9c179e"
                          ],
                          [
                            0.4444444444444444,
                            "#bd3786"
                          ],
                          [
                            0.5555555555555556,
                            "#d8576b"
                          ],
                          [
                            0.6666666666666666,
                            "#ed7953"
                          ],
                          [
                            0.7777777777777778,
                            "#fb9f3a"
                          ],
                          [
                            0.8888888888888888,
                            "#fdca26"
                          ],
                          [
                            1,
                            "#f0f921"
                          ]
                        ],
                        "type": "contour"
                      }
                    ],
                    "contourcarpet": [
                      {
                        "colorbar": {
                          "outlinewidth": 0,
                          "ticks": ""
                        },
                        "type": "contourcarpet"
                      }
                    ],
                    "heatmap": [
                      {
                        "colorbar": {
                          "outlinewidth": 0,
                          "ticks": ""
                        },
                        "colorscale": [
                          [
                            0,
                            "#0d0887"
                          ],
                          [
                            0.1111111111111111,
                            "#46039f"
                          ],
                          [
                            0.2222222222222222,
                            "#7201a8"
                          ],
                          [
                            0.3333333333333333,
                            "#9c179e"
                          ],
                          [
                            0.4444444444444444,
                            "#bd3786"
                          ],
                          [
                            0.5555555555555556,
                            "#d8576b"
                          ],
                          [
                            0.6666666666666666,
                            "#ed7953"
                          ],
                          [
                            0.7777777777777778,
                            "#fb9f3a"
                          ],
                          [
                            0.8888888888888888,
                            "#fdca26"
                          ],
                          [
                            1,
                            "#f0f921"
                          ]
                        ],
                        "type": "heatmap"
                      }
                    ],
                    "heatmapgl": [
                      {
                        "colorbar": {
                          "outlinewidth": 0,
                          "ticks": ""
                        },
                        "colorscale": [
                          [
                            0,
                            "#0d0887"
                          ],
                          [
                            0.1111111111111111,
                            "#46039f"
                          ],
                          [
                            0.2222222222222222,
                            "#7201a8"
                          ],
                          [
                            0.3333333333333333,
                            "#9c179e"
                          ],
                          [
                            0.4444444444444444,
                            "#bd3786"
                          ],
                          [
                            0.5555555555555556,
                            "#d8576b"
                          ],
                          [
                            0.6666666666666666,
                            "#ed7953"
                          ],
                          [
                            0.7777777777777778,
                            "#fb9f3a"
                          ],
                          [
                            0.8888888888888888,
                            "#fdca26"
                          ],
                          [
                            1,
                            "#f0f921"
                          ]
                        ],
                        "type": "heatmapgl"
                      }
                    ],
                    "histogram": [
                      {
                        "marker": {
                          "pattern": {
                            "fillmode": "overlay",
                            "size": 10,
                            "solidity": 0.2
                          }
                        },
                        "type": "histogram"
                      }
                    ],
                    "histogram2d": [
                      {
                        "colorbar": {
                          "outlinewidth": 0,
                          "ticks": ""
                        },
                        "colorscale": [
                          [
                            0,
                            "#0d0887"
                          ],
                          [
                            0.1111111111111111,
                            "#46039f"
                          ],
                          [
                            0.2222222222222222,
                            "#7201a8"
                          ],
                          [
                            0.3333333333333333,
                            "#9c179e"
                          ],
                          [
                            0.4444444444444444,
                            "#bd3786"
                          ],
                          [
                            0.5555555555555556,
                            "#d8576b"
                          ],
                          [
                            0.6666666666666666,
                            "#ed7953"
                          ],
                          [
                            0.7777777777777778,
                            "#fb9f3a"
                          ],
                          [
                            0.8888888888888888,
                            "#fdca26"
                          ],
                          [
                            1,
                            "#f0f921"
                          ]
                        ],
                        "type": "histogram2d"
                      }
                    ],
                    "histogram2dcontour": [
                      {
                        "colorbar": {
                          "outlinewidth": 0,
                          "ticks": ""
                        },
                        "colorscale": [
                          [
                            0,
                            "#0d0887"
                          ],
                          [
                            0.1111111111111111,
                            "#46039f"
                          ],
                          [
                            0.2222222222222222,
                            "#7201a8"
                          ],
                          [
                            0.3333333333333333,
                            "#9c179e"
                          ],
                          [
                            0.4444444444444444,
                            "#bd3786"
                          ],
                          [
                            0.5555555555555556,
                            "#d8576b"
                          ],
                          [
                            0.6666666666666666,
                            "#ed7953"
                          ],
                          [
                            0.7777777777777778,
                            "#fb9f3a"
                          ],
                          [
                            0.8888888888888888,
                            "#fdca26"
                          ],
                          [
                            1,
                            "#f0f921"
                          ]
                        ],
                        "type": "histogram2dcontour"
                      }
                    ],
                    "mesh3d": [
                      {
                        "colorbar": {
                          "outlinewidth": 0,
                          "ticks": ""
                        },
                        "type": "mesh3d"
                      }
                    ],
                    "parcoords": [
                      {
                        "line": {
                          "colorbar": {
                            "outlinewidth": 0,
                            "ticks": ""
                          }
                        },
                        "type": "parcoords"
                      }
                    ],
                    "pie": [
                      {
                        "automargin": true,
                        "type": "pie"
                      }
                    ],
                    "scatter": [
                      {
                        "fillpattern": {
                          "fillmode": "overlay",
                          "size": 10,
                          "solidity": 0.2
                        },
                        "type": "scatter"
                      }
                    ],
                    "scatter3d": [
                      {
                        "line": {
                          "colorbar": {
                            "outlinewidth": 0,
                            "ticks": ""
                          }
                        },
                        "marker": {
                          "colorbar": {
                            "outlinewidth": 0,
                            "ticks": ""
                          }
                        },
                        "type": "scatter3d"
                      }
                    ],
                    "scattercarpet": [
                      {
                        "marker": {
                          "colorbar": {
                            "outlinewidth": 0,
                            "ticks": ""
                          }
                        },
                        "type": "scattercarpet"
                      }
                    ],
                    "scattergeo": [
                      {
                        "marker": {
                          "colorbar": {
                            "outlinewidth": 0,
                            "ticks": ""
                          }
                        },
                        "type": "scattergeo"
                      }
                    ],
                    "scattergl": [
                      {
                        "marker": {
                          "colorbar": {
                            "outlinewidth": 0,
                            "ticks": ""
                          }
                        },
                        "type": "scattergl"
                      }
                    ],
                    "scattermapbox": [
                      {
                        "marker": {
                          "colorbar": {
                            "outlinewidth": 0,
                            "ticks": ""
                          }
                        },
                        "type": "scattermapbox"
                      }
                    ],
                    "scatterpolar": [
                      {
                        "marker": {
                          "colorbar": {
                            "outlinewidth": 0,
                            "ticks": ""
                          }
                        },
                        "type": "scatterpolar"
                      }
                    ],
                    "scatterpolargl": [
                      {
                        "marker": {
                          "colorbar": {
                            "outlinewidth": 0,
                            "ticks": ""
                          }
                        },
                        "type": "scatterpolargl"
                      }
                    ],
                    "scatterternary": [
                      {
                        "marker": {
                          "colorbar": {
                            "outlinewidth": 0,
                            "ticks": ""
                          }
                        },
                        "type": "scatterternary"
                      }
                    ],
                    "surface": [
                      {
                        "colorbar": {
                          "outlinewidth": 0,
                          "ticks": ""
                        },
                        "colorscale": [
                          [
                            0,
                            "#0d0887"
                          ],
                          [
                            0.1111111111111111,
                            "#46039f"
                          ],
                          [
                            0.2222222222222222,
                            "#7201a8"
                          ],
                          [
                            0.3333333333333333,
                            "#9c179e"
                          ],
                          [
                            0.4444444444444444,
                            "#bd3786"
                          ],
                          [
                            0.5555555555555556,
                            "#d8576b"
                          ],
                          [
                            0.6666666666666666,
                            "#ed7953"
                          ],
                          [
                            0.7777777777777778,
                            "#fb9f3a"
                          ],
                          [
                            0.8888888888888888,
                            "#fdca26"
                          ],
                          [
                            1,
                            "#f0f921"
                          ]
                        ],
                        "type": "surface"
                      }
                    ],
                    "table": [
                      {
                        "cells": {
                          "fill": {
                            "color": "#EBF0F8"
                          },
                          "line": {
                            "color": "white"
                          }
                        },
                        "header": {
                          "fill": {
                            "color": "#C8D4E3"
                          },
                          "line": {
                            "color": "white"
                          }
                        },
                        "type": "table"
                      }
                    ]
                  },
                  "layout": {
                    "annotationdefaults": {
                      "arrowcolor": "#2a3f5f",
                      "arrowhead": 0,
                      "arrowwidth": 1
                    },
                    "autotypenumbers": "strict",
                    "coloraxis": {
                      "colorbar": {
                        "outlinewidth": 0,
                        "ticks": ""
                      }
                    },
                    "colorscale": {
                      "diverging": [
                        [
                          0,
                          "#8e0152"
                        ],
                        [
                          0.1,
                          "#c51b7d"
                        ],
                        [
                          0.2,
                          "#de77ae"
                        ],
                        [
                          0.3,
                          "#f1b6da"
                        ],
                        [
                          0.4,
                          "#fde0ef"
                        ],
                        [
                          0.5,
                          "#f7f7f7"
                        ],
                        [
                          0.6,
                          "#e6f5d0"
                        ],
                        [
                          0.7,
                          "#b8e186"
                        ],
                        [
                          0.8,
                          "#7fbc41"
                        ],
                        [
                          0.9,
                          "#4d9221"
                        ],
                        [
                          1,
                          "#276419"
                        ]
                      ],
                      "sequential": [
                        [
                          0,
                          "#0d0887"
                        ],
                        [
                          0.1111111111111111,
                          "#46039f"
                        ],
                        [
                          0.2222222222222222,
                          "#7201a8"
                        ],
                        [
                          0.3333333333333333,
                          "#9c179e"
                        ],
                        [
                          0.4444444444444444,
                          "#bd3786"
                        ],
                        [
                          0.5555555555555556,
                          "#d8576b"
                        ],
                        [
                          0.6666666666666666,
                          "#ed7953"
                        ],
                        [
                          0.7777777777777778,
                          "#fb9f3a"
                        ],
                        [
                          0.8888888888888888,
                          "#fdca26"
                        ],
                        [
                          1,
                          "#f0f921"
                        ]
                      ],
                      "sequentialminus": [
                        [
                          0,
                          "#0d0887"
                        ],
                        [
                          0.1111111111111111,
                          "#46039f"
                        ],
                        [
                          0.2222222222222222,
                          "#7201a8"
                        ],
                        [
                          0.3333333333333333,
                          "#9c179e"
                        ],
                        [
                          0.4444444444444444,
                          "#bd3786"
                        ],
                        [
                          0.5555555555555556,
                          "#d8576b"
                        ],
                        [
                          0.6666666666666666,
                          "#ed7953"
                        ],
                        [
                          0.7777777777777778,
                          "#fb9f3a"
                        ],
                        [
                          0.8888888888888888,
                          "#fdca26"
                        ],
                        [
                          1,
                          "#f0f921"
                        ]
                      ]
                    },
                    "colorway": [
                      "#636efa",
                      "#EF553B",
                      "#00cc96",
                      "#ab63fa",
                      "#FFA15A",
                      "#19d3f3",
                      "#FF6692",
                      "#B6E880",
                      "#FF97FF",
                      "#FECB52"
                    ],
                    "font": {
                      "color": "#2a3f5f"
                    },
                    "geo": {
                      "bgcolor": "white",
                      "lakecolor": "white",
                      "landcolor": "white",
                      "showlakes": true,
                      "showland": true,
                      "subunitcolor": "#C8D4E3"
                    },
                    "hoverlabel": {
                      "align": "left"
                    },
                    "hovermode": "closest",
                    "mapbox": {
                      "style": "light"
                    },
                    "paper_bgcolor": "white",
                    "plot_bgcolor": "white",
                    "polar": {
                      "angularaxis": {
                        "gridcolor": "#EBF0F8",
                        "linecolor": "#EBF0F8",
                        "ticks": ""
                      },
                      "bgcolor": "white",
                      "radialaxis": {
                        "gridcolor": "#EBF0F8",
                        "linecolor": "#EBF0F8",
                        "ticks": ""
                      }
                    },
                    "scene": {
                      "xaxis": {
                        "backgroundcolor": "white",
                        "gridcolor": "#DFE8F3",
                        "gridwidth": 2,
                        "linecolor": "#EBF0F8",
                        "showbackground": true,
                        "ticks": "",
                        "zerolinecolor": "#EBF0F8"
                      },
                      "yaxis": {
                        "backgroundcolor": "white",
                        "gridcolor": "#DFE8F3",
                        "gridwidth": 2,
                        "linecolor": "#EBF0F8",
                        "showbackground": true,
                        "ticks": "",
                        "zerolinecolor": "#EBF0F8"
                      },
                      "zaxis": {
                        "backgroundcolor": "white",
                        "gridcolor": "#DFE8F3",
                        "gridwidth": 2,
                        "linecolor": "#EBF0F8",
                        "showbackground": true,
                        "ticks": "",
                        "zerolinecolor": "#EBF0F8"
                      }
                    },
                    "shapedefaults": {
                      "line": {
                        "color": "#2a3f5f"
                      }
                    },
                    "ternary": {
                      "aaxis": {
                        "gridcolor": "#DFE8F3",
                        "linecolor": "#A2B1C6",
                        "ticks": ""
                      },
                      "baxis": {
                        "gridcolor": "#DFE8F3",
                        "linecolor": "#A2B1C6",
                        "ticks": ""
                      },
                      "bgcolor": "white",
                      "caxis": {
                        "gridcolor": "#DFE8F3",
                        "linecolor": "#A2B1C6",
                        "ticks": ""
                      }
                    },
                    "title": {
                      "x": 0.05
                    },
                    "xaxis": {
                      "automargin": true,
                      "gridcolor": "#EBF0F8",
                      "linecolor": "#EBF0F8",
                      "ticks": "",
                      "title": {
                        "standoff": 15
                      },
                      "zerolinecolor": "#EBF0F8",
                      "zerolinewidth": 2
                    },
                    "yaxis": {
                      "automargin": true,
                      "gridcolor": "#EBF0F8",
                      "linecolor": "#EBF0F8",
                      "ticks": "",
                      "title": {
                        "standoff": 15
                      },
                      "zerolinecolor": "#EBF0F8",
                      "zerolinewidth": 2
                    }
                  }
                },
                "title": {
                  "text": "Temperature Trends Over Time by Country"
                },
                "xaxis": {
                  "anchor": "y",
                  "domain": [
                    0,
                    1
                  ],
                  "showgrid": true,
                  "title": {
                    "text": "Year"
                  }
                },
                "yaxis": {
                  "anchor": "x",
                  "domain": [
                    0,
                    1
                  ],
                  "showgrid": true,
                  "title": {
                    "text": "Average Temperature (°C)"
                  }
                }
              }
            }
          },
          "metadata": {},
          "output_type": "display_data"
        }
      ],
      "source": [
        "import plotly.express as px\n",
        "\n",
        "# Create a color-blind-friendly line chart for temperature trends over time per country\n",
        "fig = px.line(df, x=\"Year\", y=\"Avg_Temperature_degC\", color=\"Country\",\n",
        "              title=\"Temperature Trends Over Time by Country\",\n",
        "              labels={\"Avg_Temperature_degC\": \"Average Temperature (°C)\"},\n",
        "              line_group=\"Country\",\n",
        "              color_discrete_sequence=px.colors.sequential.Cividis)  # Cividis is color-blind friendly\n",
        "\n",
        "# Improve interactivity\n",
        "fig.update_layout(\n",
        "    hovermode=\"x unified\",  # Show all values for a given year on hover\n",
        "    legend_title=\"Country\",\n",
        "    template=\"plotly_white\",  # Clean background for better visibility\n",
        "    xaxis=dict(title=\"Year\", showgrid=True),\n",
        "    yaxis=dict(title=\"Average Temperature (°C)\", showgrid=True),\n",
        ")\n",
        "\n",
        "# Add interactive legend (click to hide/show countries)\n",
        "fig.update_traces(mode=\"lines+markers\", marker=dict(size=4))\n",
        "\n",
        "# Show the interactive plot\n",
        "fig.show()"
      ]
    },
    {
      "cell_type": "markdown",
      "metadata": {},
      "source": [
        "Hypothesis: \"Higher CO2 emissions correlate with increased temperature.\" Visualization: Scatter plot with regression trend line."
      ]
    },
    {
      "cell_type": "code",
      "execution_count": null,
      "metadata": {},
      "outputs": [
        {
          "data": {
            "application/vnd.plotly.v1+json": {
              "config": {
                "plotlyServerURL": "https://plot.ly"
              },
              "data": [
                {
                  "hovertemplate": "<b>%{hovertext}</b><br><br>Country=UK<br>CO2 Emissions (tons per capita)=%{x}<br>Average Temperature (°C)=%{y}<br>Population=%{marker.size}<extra></extra>",
                  "hovertext": [
                    "UK",
                    "UK",
                    "UK",
                    "UK",
                    "UK",
                    "UK",
                    "UK",
                    "UK",
                    "UK",
                    "UK",
                    "UK",
                    "UK",
                    "UK",
                    "UK",
                    "UK",
                    "UK",
                    "UK",
                    "UK",
                    "UK",
                    "UK",
                    "UK",
                    "UK",
                    "UK",
                    "UK",
                    "UK",
                    "UK",
                    "UK",
                    "UK",
                    "UK",
                    "UK",
                    "UK",
                    "UK",
                    "UK",
                    "UK",
                    "UK",
                    "UK",
                    "UK",
                    "UK",
                    "UK",
                    "UK",
                    "UK",
                    "UK",
                    "UK",
                    "UK",
                    "UK",
                    "UK",
                    "UK",
                    "UK",
                    "UK",
                    "UK",
                    "UK",
                    "UK",
                    "UK",
                    "UK",
                    "UK",
                    "UK",
                    "UK",
                    "UK",
                    "UK",
                    "UK",
                    "UK",
                    "UK",
                    "UK",
                    "UK",
                    "UK"
                  ],
                  "legendgroup": "UK",
                  "marker": {
                    "color": "#00224e",
                    "size": [
                      530911230,
                      980305187,
                      158680885,
                      531510898,
                      78354231,
                      730110223,
                      1366969728,
                      204257967,
                      838168075,
                      343373633,
                      1102449044,
                      898807235,
                      636476204,
                      1156608764,
                      38697835,
                      925086342,
                      1215468402,
                      183851069,
                      1101337256,
                      1270851030,
                      20916998,
                      32581057,
                      934132667,
                      828538833,
                      901531557,
                      1125808525,
                      39478806,
                      305315340,
                      772826167,
                      1238813576,
                      727544812,
                      1363325194,
                      1211235150,
                      1230785104,
                      1290081090,
                      1193832295,
                      1274221100,
                      1387457528,
                      1297221349,
                      167459760,
                      367224757,
                      444312143,
                      1041665235,
                      31063151,
                      1221935909,
                      284705392,
                      331580116,
                      1018161882,
                      949007159,
                      809451155,
                      540662250,
                      339256508,
                      716127278,
                      910306304,
                      450513176,
                      194197411,
                      161097813,
                      824678707,
                      1362964625,
                      337303115,
                      628479992,
                      31249071,
                      1313095544,
                      1287012541,
                      876123161
                    ],
                    "sizemode": "area",
                    "sizeref": 3492540.1825,
                    "symbol": "circle"
                  },
                  "mode": "markers",
                  "name": "UK",
                  "orientation": "v",
                  "showlegend": true,
                  "type": "scatter",
                  "x": [
                    9.3,
                    16.6,
                    5.4,
                    17.4,
                    18.3,
                    1.1,
                    13.7,
                    8.1,
                    16.1,
                    13.4,
                    18.2,
                    16.3,
                    17.1,
                    12,
                    2.4,
                    15.9,
                    19.6,
                    16.8,
                    9.2,
                    11.1,
                    16.4,
                    15.8,
                    3.1,
                    9.1,
                    15.4,
                    14.2,
                    11.8,
                    14.5,
                    12.9,
                    11.5,
                    12.1,
                    13.7,
                    17,
                    8,
                    19.6,
                    11,
                    17.2,
                    19.2,
                    10.5,
                    0.5,
                    1.6,
                    19.5,
                    11.5,
                    12.1,
                    16.5,
                    20,
                    14.3,
                    19.5,
                    2.8,
                    16.9,
                    16.4,
                    13.7,
                    11.3,
                    12.8,
                    6.9,
                    13.6,
                    7.4,
                    10.5,
                    15.9,
                    12.9,
                    15.1,
                    4.7,
                    16.3,
                    8.6,
                    10
                  ],
                  "xaxis": "x",
                  "y": [
                    8.9,
                    27.8,
                    13.8,
                    22.9,
                    24.5,
                    21.6,
                    22.9,
                    18.2,
                    7.4,
                    17.1,
                    28.3,
                    17.2,
                    7.1,
                    22.4,
                    30.7,
                    16.4,
                    8.7,
                    25.6,
                    22.4,
                    30.9,
                    23,
                    29.8,
                    13.7,
                    33.5,
                    7.1,
                    10.6,
                    20.5,
                    24,
                    25.3,
                    29.6,
                    7.1,
                    27.6,
                    5,
                    13.3,
                    22.5,
                    6.3,
                    15.6,
                    7.5,
                    19.3,
                    19.6,
                    16.7,
                    12.8,
                    13.1,
                    7.8,
                    10.4,
                    17.1,
                    16.2,
                    27.1,
                    33.5,
                    18.9,
                    6.1,
                    16.8,
                    11.8,
                    9.2,
                    10.9,
                    22.9,
                    30.7,
                    11.3,
                    29.6,
                    12.3,
                    7.3,
                    24.5,
                    31.2,
                    26.2,
                    21.8
                  ],
                  "yaxis": "y"
                },
                {
                  "hovertemplate": "<b>%{hovertext}</b><br><br>Country=USA<br>CO2 Emissions (tons per capita)=%{x}<br>Average Temperature (°C)=%{y}<br>Population=%{marker.size}<extra></extra>",
                  "hovertext": [
                    "USA",
                    "USA",
                    "USA",
                    "USA",
                    "USA",
                    "USA",
                    "USA",
                    "USA",
                    "USA",
                    "USA",
                    "USA",
                    "USA",
                    "USA",
                    "USA",
                    "USA",
                    "USA",
                    "USA",
                    "USA",
                    "USA",
                    "USA",
                    "USA",
                    "USA",
                    "USA",
                    "USA",
                    "USA",
                    "USA",
                    "USA",
                    "USA",
                    "USA",
                    "USA",
                    "USA",
                    "USA",
                    "USA",
                    "USA",
                    "USA",
                    "USA",
                    "USA",
                    "USA",
                    "USA",
                    "USA",
                    "USA",
                    "USA",
                    "USA",
                    "USA",
                    "USA",
                    "USA",
                    "USA",
                    "USA",
                    "USA",
                    "USA",
                    "USA",
                    "USA",
                    "USA",
                    "USA",
                    "USA",
                    "USA",
                    "USA",
                    "USA",
                    "USA",
                    "USA",
                    "USA",
                    "USA",
                    "USA",
                    "USA",
                    "USA",
                    "USA",
                    "USA",
                    "USA",
                    "USA",
                    "USA",
                    "USA",
                    "USA",
                    "USA"
                  ],
                  "legendgroup": "USA",
                  "marker": {
                    "color": "#123570",
                    "size": [
                      107364344,
                      798905927,
                      1019475941,
                      52552633,
                      772375173,
                      330887513,
                      1140062010,
                      411773643,
                      487618104,
                      739358801,
                      787469860,
                      161376204,
                      1167300328,
                      1293640510,
                      1041486581,
                      660650168,
                      722640614,
                      708549477,
                      214534006,
                      648823762,
                      1310548957,
                      866033515,
                      41988408,
                      1377728769,
                      93560788,
                      536356608,
                      84528761,
                      267009905,
                      1078493355,
                      204172325,
                      1377931241,
                      320264723,
                      474288233,
                      977078792,
                      1169884055,
                      56245653,
                      1049605777,
                      688166625,
                      1356634360,
                      1196150514,
                      297043004,
                      918159557,
                      1146873886,
                      786397155,
                      589637290,
                      1339427830,
                      202353097,
                      922097331,
                      1001119882,
                      1109563889,
                      629814899,
                      643338166,
                      310976210,
                      1199856255,
                      172575234,
                      1072790036,
                      857993113,
                      420542436,
                      1380798693,
                      1373223501,
                      927083911,
                      814540393,
                      515313114,
                      788823352,
                      884137537,
                      818022751,
                      299488478,
                      703726244,
                      1152039496,
                      572998076,
                      1105460942,
                      762718291,
                      560097732
                    ],
                    "sizemode": "area",
                    "sizeref": 3492540.1825,
                    "symbol": "circle"
                  },
                  "mode": "markers",
                  "name": "USA",
                  "orientation": "v",
                  "showlegend": true,
                  "type": "scatter",
                  "x": [
                    4.8,
                    1.8,
                    13.3,
                    14.9,
                    9.6,
                    5.8,
                    17.7,
                    1.4,
                    18.6,
                    3.7,
                    12.1,
                    17.8,
                    3.5,
                    10.9,
                    5,
                    7.8,
                    3.8,
                    16.7,
                    19.4,
                    14.7,
                    17.9,
                    0.6,
                    6.3,
                    5.5,
                    17.5,
                    12.8,
                    0.5,
                    16.5,
                    13.9,
                    0.6,
                    17.3,
                    11.2,
                    6.4,
                    2.1,
                    18.8,
                    15.5,
                    7.7,
                    13.1,
                    5.7,
                    11.2,
                    18.8,
                    15.7,
                    19,
                    5,
                    9.4,
                    11.4,
                    14.8,
                    14.1,
                    8.2,
                    17.2,
                    19.8,
                    8.9,
                    12.9,
                    1.4,
                    4.2,
                    11.1,
                    7.9,
                    3,
                    9.3,
                    14.4,
                    1.9,
                    12.7,
                    18.7,
                    14.2,
                    15.6,
                    18.8,
                    10.1,
                    15.8,
                    12,
                    1.1,
                    14.4,
                    17.5,
                    10.7
                  ],
                  "xaxis": "x",
                  "y": [
                    31,
                    27.4,
                    28.9,
                    10.6,
                    14.8,
                    27.5,
                    19.5,
                    28.5,
                    6.2,
                    9.9,
                    17.6,
                    28,
                    5.9,
                    16.5,
                    34.6,
                    14.7,
                    26.9,
                    29.9,
                    24.5,
                    27.8,
                    20,
                    12.4,
                    16.8,
                    26.5,
                    16.4,
                    19.4,
                    17,
                    10.5,
                    16.2,
                    28.8,
                    29.3,
                    21.1,
                    5.5,
                    18.7,
                    24,
                    11.8,
                    13.4,
                    9.9,
                    33.6,
                    23.6,
                    11.9,
                    19.4,
                    23.9,
                    9.5,
                    33.3,
                    29.3,
                    20.3,
                    18.9,
                    28.5,
                    32,
                    23.5,
                    14.6,
                    31.3,
                    13.3,
                    8.7,
                    8.1,
                    26.1,
                    11.3,
                    12.1,
                    11.8,
                    13.3,
                    30.3,
                    14.5,
                    15.2,
                    15.3,
                    16.9,
                    25.6,
                    5.9,
                    27.1,
                    12.6,
                    8.2,
                    6.8,
                    5.5
                  ],
                  "yaxis": "y"
                },
                {
                  "hovertemplate": "<b>%{hovertext}</b><br><br>Country=France<br>CO2 Emissions (tons per capita)=%{x}<br>Average Temperature (°C)=%{y}<br>Population=%{marker.size}<extra></extra>",
                  "hovertext": [
                    "France",
                    "France",
                    "France",
                    "France",
                    "France",
                    "France",
                    "France",
                    "France",
                    "France",
                    "France",
                    "France",
                    "France",
                    "France",
                    "France",
                    "France",
                    "France",
                    "France",
                    "France",
                    "France",
                    "France",
                    "France",
                    "France",
                    "France",
                    "France",
                    "France",
                    "France",
                    "France",
                    "France",
                    "France",
                    "France",
                    "France",
                    "France",
                    "France",
                    "France",
                    "France",
                    "France",
                    "France",
                    "France",
                    "France",
                    "France",
                    "France",
                    "France",
                    "France",
                    "France",
                    "France",
                    "France",
                    "France",
                    "France",
                    "France",
                    "France",
                    "France",
                    "France",
                    "France",
                    "France",
                    "France",
                    "France",
                    "France",
                    "France",
                    "France",
                    "France",
                    "France",
                    "France",
                    "France",
                    "France",
                    "France",
                    "France"
                  ],
                  "legendgroup": "France",
                  "marker": {
                    "color": "#3b496c",
                    "size": [
                      441101758,
                      680925261,
                      1311466901,
                      458944956,
                      72414944,
                      141991057,
                      730089798,
                      1280929698,
                      24043592,
                      1080854924,
                      863465591,
                      140376298,
                      940617342,
                      400673293,
                      358801890,
                      1278299069,
                      1335512175,
                      1280061358,
                      57650147,
                      1214544133,
                      1199331484,
                      444435735,
                      1030270792,
                      797324959,
                      342901215,
                      1379671819,
                      690916097,
                      458035062,
                      826741489,
                      61481382,
                      413929509,
                      907108797,
                      1331017695,
                      193419191,
                      1151159927,
                      1193787532,
                      226805324,
                      81521377,
                      1151040277,
                      619079995,
                      333230308,
                      1318582449,
                      148647462,
                      1148375055,
                      1117897844,
                      663371850,
                      93966977,
                      1182846641,
                      218199220,
                      76154255,
                      313545957,
                      178651192,
                      885256390,
                      833635961,
                      343707677,
                      955697187,
                      1267230374,
                      618908216,
                      1004488364,
                      373729923,
                      1018260723,
                      460686642,
                      699195057,
                      943264951,
                      1139899651,
                      769315232
                    ],
                    "sizemode": "area",
                    "sizeref": 3492540.1825,
                    "symbol": "circle"
                  },
                  "mode": "markers",
                  "name": "France",
                  "orientation": "v",
                  "showlegend": true,
                  "type": "scatter",
                  "x": [
                    2.8,
                    7.1,
                    10.9,
                    11,
                    6.1,
                    5.5,
                    16.7,
                    14.1,
                    8.2,
                    19,
                    12.1,
                    16.9,
                    7.7,
                    19.9,
                    16.6,
                    16,
                    17.1,
                    7.4,
                    16.2,
                    5.2,
                    9.8,
                    7.1,
                    18.6,
                    17.4,
                    0.6,
                    1.3,
                    13.5,
                    19,
                    8.3,
                    4.8,
                    11.6,
                    17.6,
                    12.3,
                    11.9,
                    7.1,
                    19.3,
                    3.2,
                    8.2,
                    5.4,
                    17.9,
                    18.1,
                    10.1,
                    12.9,
                    13.8,
                    17.8,
                    15.6,
                    6.2,
                    5.8,
                    2.9,
                    11,
                    2.8,
                    19.1,
                    19.6,
                    4.1,
                    11.2,
                    3.9,
                    5.4,
                    10.2,
                    19.9,
                    4.5,
                    13.3,
                    18.3,
                    4.6,
                    8.5,
                    7.8,
                    5
                  ],
                  "xaxis": "x",
                  "y": [
                    33.9,
                    21.9,
                    9.8,
                    25.8,
                    8.7,
                    21.3,
                    24.7,
                    15.8,
                    12.1,
                    9.4,
                    23.2,
                    26.2,
                    5.5,
                    12.6,
                    12.7,
                    9.8,
                    34.8,
                    28,
                    29.4,
                    21.7,
                    12.7,
                    25.4,
                    29.7,
                    20.2,
                    15.3,
                    29.6,
                    14.7,
                    23.2,
                    19.3,
                    28.3,
                    19.5,
                    13.9,
                    28.5,
                    30.4,
                    11,
                    30.8,
                    28.4,
                    34.7,
                    14.7,
                    8.4,
                    32.6,
                    6.3,
                    7.9,
                    10.4,
                    27.7,
                    31.4,
                    25.6,
                    10,
                    14,
                    6.5,
                    5.2,
                    8.9,
                    17.9,
                    30.6,
                    21.4,
                    18.8,
                    24.8,
                    14.4,
                    31.9,
                    15.9,
                    27,
                    24.6,
                    5.9,
                    5.1,
                    16.7,
                    11.8
                  ],
                  "yaxis": "y"
                },
                {
                  "hovertemplate": "<b>%{hovertext}</b><br><br>Country=Argentina<br>CO2 Emissions (tons per capita)=%{x}<br>Average Temperature (°C)=%{y}<br>Population=%{marker.size}<extra></extra>",
                  "hovertext": [
                    "Argentina",
                    "Argentina",
                    "Argentina",
                    "Argentina",
                    "Argentina",
                    "Argentina",
                    "Argentina",
                    "Argentina",
                    "Argentina",
                    "Argentina",
                    "Argentina",
                    "Argentina",
                    "Argentina",
                    "Argentina",
                    "Argentina",
                    "Argentina",
                    "Argentina",
                    "Argentina",
                    "Argentina",
                    "Argentina",
                    "Argentina",
                    "Argentina",
                    "Argentina",
                    "Argentina",
                    "Argentina",
                    "Argentina",
                    "Argentina",
                    "Argentina",
                    "Argentina",
                    "Argentina",
                    "Argentina",
                    "Argentina",
                    "Argentina",
                    "Argentina",
                    "Argentina",
                    "Argentina",
                    "Argentina",
                    "Argentina",
                    "Argentina",
                    "Argentina",
                    "Argentina",
                    "Argentina",
                    "Argentina",
                    "Argentina",
                    "Argentina",
                    "Argentina",
                    "Argentina",
                    "Argentina",
                    "Argentina",
                    "Argentina",
                    "Argentina",
                    "Argentina",
                    "Argentina",
                    "Argentina",
                    "Argentina",
                    "Argentina",
                    "Argentina",
                    "Argentina",
                    "Argentina",
                    "Argentina",
                    "Argentina",
                    "Argentina",
                    "Argentina",
                    "Argentina",
                    "Argentina",
                    "Argentina",
                    "Argentina"
                  ],
                  "legendgroup": "Argentina",
                  "marker": {
                    "color": "#575d6d",
                    "size": [
                      1069669579,
                      586706107,
                      742981303,
                      1209391736,
                      1075399963,
                      1078565697,
                      432913646,
                      504454279,
                      994673524,
                      796318481,
                      200316893,
                      542661199,
                      564877556,
                      803864353,
                      548470440,
                      1025547493,
                      1253813851,
                      704269727,
                      332640493,
                      1211429158,
                      94830920,
                      203114192,
                      455823356,
                      46153952,
                      1225881222,
                      898654624,
                      809907325,
                      1069151826,
                      417520615,
                      964717552,
                      306798170,
                      599934182,
                      398067665,
                      817572573,
                      1353028485,
                      935533058,
                      1344612647,
                      298632383,
                      781668712,
                      597841637,
                      449021301,
                      555420966,
                      845772793,
                      395181795,
                      1096617947,
                      380527763,
                      417690049,
                      1339539083,
                      697781804,
                      1152666411,
                      1356785799,
                      441359567,
                      927578734,
                      210449747,
                      567420977,
                      537312924,
                      1114422920,
                      1209870465,
                      711474124,
                      536217615,
                      785566655,
                      740582553,
                      1283287571,
                      1334032802,
                      545401489,
                      361616455,
                      1120533308
                    ],
                    "sizemode": "area",
                    "sizeref": 3492540.1825,
                    "symbol": "circle"
                  },
                  "mode": "markers",
                  "name": "Argentina",
                  "orientation": "v",
                  "showlegend": true,
                  "type": "scatter",
                  "x": [
                    1.8,
                    11.6,
                    2.1,
                    7.1,
                    9.2,
                    18.2,
                    9.7,
                    12,
                    17.2,
                    16.4,
                    13.6,
                    18.1,
                    3.9,
                    15.4,
                    2.5,
                    2.6,
                    1.1,
                    5.3,
                    14.3,
                    16.5,
                    4.4,
                    19.9,
                    12.8,
                    16.3,
                    6.5,
                    14.3,
                    3.6,
                    16.6,
                    14.4,
                    5.7,
                    17.2,
                    8.6,
                    16,
                    11.8,
                    16.7,
                    6.2,
                    1.4,
                    10.7,
                    6.5,
                    1.1,
                    1,
                    14.5,
                    16.6,
                    8.1,
                    0.7,
                    1.5,
                    14.8,
                    2.9,
                    3.4,
                    0.9,
                    10.6,
                    7.6,
                    15.7,
                    15.4,
                    11.2,
                    10.9,
                    8.5,
                    19.6,
                    13.6,
                    18.3,
                    7.4,
                    17.8,
                    7,
                    16.8,
                    18.9,
                    18.1,
                    8.9
                  ],
                  "xaxis": "x",
                  "y": [
                    5.9,
                    30.7,
                    9.8,
                    18,
                    25.4,
                    33.2,
                    21,
                    11,
                    29.6,
                    33.4,
                    24.5,
                    30.2,
                    16.9,
                    25.1,
                    15.7,
                    21.7,
                    9,
                    9.7,
                    24.8,
                    10,
                    22.4,
                    7.7,
                    20.7,
                    13.9,
                    8.4,
                    27,
                    12.9,
                    22.9,
                    25.1,
                    12.3,
                    16.4,
                    20.3,
                    28.6,
                    9.2,
                    7.2,
                    13,
                    8.8,
                    34.6,
                    21.5,
                    21.5,
                    21.3,
                    27.6,
                    14.3,
                    21.2,
                    27.7,
                    20.1,
                    24.3,
                    10.4,
                    11.8,
                    23,
                    5.7,
                    25.9,
                    20.6,
                    11.1,
                    10,
                    23.9,
                    15.4,
                    19.8,
                    27.6,
                    29,
                    34.7,
                    24.7,
                    34.6,
                    8.4,
                    7.2,
                    8.9,
                    23.8
                  ],
                  "yaxis": "y"
                },
                {
                  "hovertemplate": "<b>%{hovertext}</b><br><br>Country=Germany<br>CO2 Emissions (tons per capita)=%{x}<br>Average Temperature (°C)=%{y}<br>Population=%{marker.size}<extra></extra>",
                  "hovertext": [
                    "Germany",
                    "Germany",
                    "Germany",
                    "Germany",
                    "Germany",
                    "Germany",
                    "Germany",
                    "Germany",
                    "Germany",
                    "Germany",
                    "Germany",
                    "Germany",
                    "Germany",
                    "Germany",
                    "Germany",
                    "Germany",
                    "Germany",
                    "Germany",
                    "Germany",
                    "Germany",
                    "Germany",
                    "Germany",
                    "Germany",
                    "Germany",
                    "Germany",
                    "Germany",
                    "Germany",
                    "Germany",
                    "Germany",
                    "Germany",
                    "Germany",
                    "Germany",
                    "Germany",
                    "Germany",
                    "Germany",
                    "Germany",
                    "Germany",
                    "Germany",
                    "Germany",
                    "Germany",
                    "Germany",
                    "Germany",
                    "Germany",
                    "Germany",
                    "Germany",
                    "Germany",
                    "Germany",
                    "Germany",
                    "Germany",
                    "Germany",
                    "Germany",
                    "Germany",
                    "Germany",
                    "Germany",
                    "Germany",
                    "Germany",
                    "Germany",
                    "Germany",
                    "Germany",
                    "Germany",
                    "Germany"
                  ],
                  "legendgroup": "Germany",
                  "marker": {
                    "color": "#707173",
                    "size": [
                      124079175,
                      1179622755,
                      272039781,
                      1254853974,
                      1108141910,
                      440663289,
                      64317241,
                      1298244488,
                      1331115761,
                      539924174,
                      791466287,
                      1345594489,
                      427187850,
                      573710142,
                      990503091,
                      652730854,
                      333786819,
                      1267782685,
                      248771060,
                      55182052,
                      555356797,
                      770503180,
                      226407206,
                      1255100522,
                      495220820,
                      538799164,
                      1017684486,
                      806325524,
                      637933053,
                      217257105,
                      1064569796,
                      1016644563,
                      597867288,
                      907925675,
                      1200864257,
                      1038669571,
                      512192626,
                      934953242,
                      1303590308,
                      293218023,
                      1180680940,
                      1280706662,
                      703458181,
                      1082501828,
                      598463676,
                      1377569278,
                      814653356,
                      1178735383,
                      1119422832,
                      791709171,
                      63908951,
                      630704719,
                      489265598,
                      57953426,
                      567106041,
                      423388217,
                      16901724,
                      950422541,
                      1357011909,
                      1374002297,
                      398407112
                    ],
                    "sizemode": "area",
                    "sizeref": 3492540.1825,
                    "symbol": "circle"
                  },
                  "mode": "markers",
                  "name": "Germany",
                  "orientation": "v",
                  "showlegend": true,
                  "type": "scatter",
                  "x": [
                    5.6,
                    17.6,
                    19.1,
                    19.7,
                    10.9,
                    17.3,
                    0.5,
                    13.1,
                    14.9,
                    9.3,
                    2.1,
                    10.6,
                    7.9,
                    2.2,
                    19.6,
                    10.4,
                    3.7,
                    1.2,
                    6.4,
                    12.3,
                    12,
                    19.4,
                    4.8,
                    14.6,
                    11.2,
                    16.5,
                    4.2,
                    18.9,
                    9.8,
                    1.5,
                    13.8,
                    18.3,
                    6.9,
                    1.3,
                    3.1,
                    7.7,
                    18,
                    17,
                    18.2,
                    3.7,
                    4.8,
                    15.8,
                    7.9,
                    9.9,
                    17.7,
                    4.7,
                    2.4,
                    16.3,
                    6.7,
                    5.3,
                    11.2,
                    1.8,
                    12.7,
                    2.1,
                    4.5,
                    3.3,
                    9.7,
                    6,
                    0.7,
                    16.6,
                    17.3
                  ],
                  "xaxis": "x",
                  "y": [
                    26.9,
                    11,
                    12.4,
                    8.1,
                    23.4,
                    18,
                    6.3,
                    23.9,
                    22.9,
                    19,
                    30.1,
                    22.6,
                    33.5,
                    15.3,
                    27,
                    16.2,
                    28.1,
                    18.1,
                    21.5,
                    22.6,
                    32.4,
                    29.7,
                    17.9,
                    7.6,
                    5.1,
                    13.2,
                    18.3,
                    28.1,
                    9.8,
                    25.2,
                    21,
                    22.3,
                    29.9,
                    8.7,
                    8.7,
                    30.5,
                    23.5,
                    9,
                    10.7,
                    23.6,
                    18.3,
                    34.3,
                    25,
                    23,
                    21.7,
                    34.7,
                    19.4,
                    19.2,
                    6.3,
                    27,
                    24.9,
                    13.7,
                    13.5,
                    20.6,
                    8.3,
                    17.6,
                    30.3,
                    27.2,
                    14.4,
                    32,
                    24.1
                  ],
                  "yaxis": "y"
                },
                {
                  "hovertemplate": "<b>%{hovertext}</b><br><br>Country=China<br>CO2 Emissions (tons per capita)=%{x}<br>Average Temperature (°C)=%{y}<br>Population=%{marker.size}<extra></extra>",
                  "hovertext": [
                    "China",
                    "China",
                    "China",
                    "China",
                    "China",
                    "China",
                    "China",
                    "China",
                    "China",
                    "China",
                    "China",
                    "China",
                    "China",
                    "China",
                    "China",
                    "China",
                    "China",
                    "China",
                    "China",
                    "China",
                    "China",
                    "China",
                    "China",
                    "China",
                    "China",
                    "China",
                    "China",
                    "China",
                    "China",
                    "China",
                    "China",
                    "China",
                    "China",
                    "China",
                    "China",
                    "China",
                    "China",
                    "China",
                    "China",
                    "China",
                    "China",
                    "China",
                    "China",
                    "China",
                    "China",
                    "China",
                    "China",
                    "China",
                    "China",
                    "China",
                    "China",
                    "China",
                    "China",
                    "China",
                    "China",
                    "China",
                    "China",
                    "China",
                    "China",
                    "China",
                    "China",
                    "China",
                    "China",
                    "China",
                    "China",
                    "China",
                    "China"
                  ],
                  "legendgroup": "China",
                  "marker": {
                    "color": "#8a8678",
                    "size": [
                      1202028857,
                      1074542897,
                      1358197397,
                      491426196,
                      456955256,
                      205087750,
                      502277267,
                      334345649,
                      305543477,
                      275361525,
                      825442314,
                      1119409767,
                      560862422,
                      521491291,
                      554504868,
                      776918225,
                      508830032,
                      247496090,
                      1102285590,
                      563892519,
                      1076162478,
                      1250306574,
                      1203797363,
                      393241030,
                      165154106,
                      144123536,
                      189064050,
                      733130914,
                      883572947,
                      1024446336,
                      1014597705,
                      1175564118,
                      222866661,
                      206788510,
                      1134255035,
                      97623054,
                      34357473,
                      804974926,
                      946279632,
                      385683145,
                      931316975,
                      757020571,
                      136202316,
                      341648458,
                      227429665,
                      573451526,
                      124297006,
                      350813108,
                      945299929,
                      276902589,
                      784881916,
                      171927360,
                      600974146,
                      738275078,
                      438565972,
                      792341941,
                      115282073,
                      1011298802,
                      305046905,
                      1180278134,
                      3660891,
                      1090719866,
                      674280911,
                      400506741,
                      608237759,
                      709386257,
                      316387268
                    ],
                    "sizemode": "area",
                    "sizeref": 3492540.1825,
                    "symbol": "circle"
                  },
                  "mode": "markers",
                  "name": "China",
                  "orientation": "v",
                  "showlegend": true,
                  "type": "scatter",
                  "x": [
                    1.4,
                    19.8,
                    4.8,
                    3.2,
                    15.9,
                    12.3,
                    9.7,
                    12.6,
                    9.7,
                    5.5,
                    10.3,
                    19.8,
                    11.1,
                    3.7,
                    6.6,
                    10,
                    16.9,
                    7.4,
                    4.5,
                    6.4,
                    3.4,
                    18.4,
                    1.7,
                    10.8,
                    2.5,
                    15.8,
                    16.6,
                    2.8,
                    3,
                    13.7,
                    20,
                    13.9,
                    14.3,
                    14.6,
                    5.7,
                    17.2,
                    13,
                    13.7,
                    9.7,
                    5.2,
                    13,
                    18.6,
                    12.9,
                    4.7,
                    15.4,
                    16.8,
                    10.5,
                    9.2,
                    8.3,
                    13,
                    15.4,
                    19,
                    11.4,
                    17.1,
                    1.1,
                    11.4,
                    13.7,
                    12.7,
                    15.8,
                    4.5,
                    12.1,
                    8.9,
                    11.3,
                    13.5,
                    16.4,
                    1.5,
                    10.2
                  ],
                  "xaxis": "x",
                  "y": [
                    32.3,
                    19.1,
                    32.4,
                    22.7,
                    16.9,
                    28.3,
                    7.5,
                    29.7,
                    15.7,
                    19.4,
                    21.3,
                    34.8,
                    17.2,
                    18.3,
                    22.5,
                    16.9,
                    12,
                    33.9,
                    33.2,
                    22.3,
                    31,
                    10.1,
                    20.8,
                    18.3,
                    23.5,
                    30,
                    6.6,
                    10.1,
                    5.6,
                    27.1,
                    12.7,
                    22.2,
                    14.4,
                    29.8,
                    7.4,
                    22.8,
                    10.8,
                    17.9,
                    11.6,
                    28.8,
                    14.7,
                    33.7,
                    31.7,
                    24.8,
                    20.4,
                    11.8,
                    8.3,
                    9.9,
                    9.5,
                    28.4,
                    26.7,
                    27.4,
                    29.8,
                    10.2,
                    19.9,
                    18.1,
                    5.4,
                    13.5,
                    34.4,
                    28.8,
                    30.9,
                    28.6,
                    28.8,
                    13.3,
                    10,
                    14.4,
                    7.6
                  ],
                  "yaxis": "y"
                },
                {
                  "hovertemplate": "<b>%{hovertext}</b><br><br>Country='South Africa'<br>CO2 Emissions (tons per capita)=%{x}<br>Average Temperature (°C)=%{y}<br>Population=%{marker.size}<extra></extra>",
                  "hovertext": [
                    "'South Africa'",
                    "'South Africa'",
                    "'South Africa'",
                    "'South Africa'",
                    "'South Africa'",
                    "'South Africa'",
                    "'South Africa'",
                    "'South Africa'",
                    "'South Africa'",
                    "'South Africa'",
                    "'South Africa'",
                    "'South Africa'",
                    "'South Africa'",
                    "'South Africa'",
                    "'South Africa'",
                    "'South Africa'",
                    "'South Africa'",
                    "'South Africa'",
                    "'South Africa'",
                    "'South Africa'",
                    "'South Africa'",
                    "'South Africa'",
                    "'South Africa'",
                    "'South Africa'",
                    "'South Africa'",
                    "'South Africa'",
                    "'South Africa'",
                    "'South Africa'",
                    "'South Africa'",
                    "'South Africa'",
                    "'South Africa'",
                    "'South Africa'",
                    "'South Africa'",
                    "'South Africa'",
                    "'South Africa'",
                    "'South Africa'",
                    "'South Africa'",
                    "'South Africa'",
                    "'South Africa'",
                    "'South Africa'",
                    "'South Africa'",
                    "'South Africa'",
                    "'South Africa'",
                    "'South Africa'",
                    "'South Africa'",
                    "'South Africa'",
                    "'South Africa'",
                    "'South Africa'",
                    "'South Africa'",
                    "'South Africa'",
                    "'South Africa'",
                    "'South Africa'",
                    "'South Africa'",
                    "'South Africa'",
                    "'South Africa'",
                    "'South Africa'",
                    "'South Africa'",
                    "'South Africa'",
                    "'South Africa'",
                    "'South Africa'",
                    "'South Africa'",
                    "'South Africa'",
                    "'South Africa'",
                    "'South Africa'",
                    "'South Africa'",
                    "'South Africa'",
                    "'South Africa'",
                    "'South Africa'",
                    "'South Africa'",
                    "'South Africa'",
                    "'South Africa'",
                    "'South Africa'",
                    "'South Africa'"
                  ],
                  "legendgroup": "'South Africa'",
                  "marker": {
                    "color": "#a59c74",
                    "size": [
                      83947380,
                      1311714067,
                      227838160,
                      491644777,
                      941922654,
                      1356204695,
                      351991271,
                      942604659,
                      758625247,
                      148881368,
                      165768267,
                      578915635,
                      575218436,
                      1140524807,
                      614224337,
                      1289186948,
                      934565900,
                      358440341,
                      478389387,
                      131635220,
                      975428867,
                      948953337,
                      755505933,
                      1142896221,
                      1112155060,
                      1002416208,
                      125314911,
                      663913018,
                      60938189,
                      514381167,
                      329758237,
                      779600765,
                      313096322,
                      1245372198,
                      1026431056,
                      1119101202,
                      805165392,
                      999167792,
                      583534992,
                      976037143,
                      748997300,
                      298662647,
                      1323666625,
                      824102127,
                      717982156,
                      1106864831,
                      1383289354,
                      169324386,
                      1045450055,
                      1093034759,
                      455208813,
                      1088137161,
                      110285989,
                      542638938,
                      689862289,
                      1064093028,
                      756443018,
                      936138519,
                      1113296994,
                      845679328,
                      760436315,
                      90703756,
                      306103394,
                      64497807,
                      560722005,
                      1381708532,
                      46184187,
                      289985187,
                      121780956,
                      655042381,
                      1159052094,
                      330834956,
                      1168018187
                    ],
                    "sizemode": "area",
                    "sizeref": 3492540.1825,
                    "symbol": "circle"
                  },
                  "mode": "markers",
                  "name": "'South Africa'",
                  "orientation": "v",
                  "showlegend": true,
                  "type": "scatter",
                  "x": [
                    6,
                    14.7,
                    1.1,
                    13.7,
                    0.6,
                    9.7,
                    6.8,
                    3.2,
                    16.5,
                    15.3,
                    10.8,
                    10.5,
                    1.4,
                    17,
                    2.4,
                    9.8,
                    9.4,
                    13.8,
                    1.2,
                    19,
                    10.5,
                    15.2,
                    12.2,
                    10.8,
                    4.2,
                    14.6,
                    11.5,
                    11.3,
                    9.6,
                    5.2,
                    11.7,
                    4,
                    14.3,
                    10.8,
                    13.1,
                    4.5,
                    10.2,
                    8.6,
                    15.3,
                    18,
                    0.8,
                    16.7,
                    16.3,
                    8.6,
                    3.4,
                    15.4,
                    11.2,
                    4.4,
                    2.9,
                    1.5,
                    9,
                    15.8,
                    8.9,
                    3.7,
                    2.8,
                    19.8,
                    10.6,
                    1.9,
                    3.3,
                    4.7,
                    11.1,
                    18.8,
                    12.5,
                    17.9,
                    10.5,
                    16.5,
                    8,
                    4.4,
                    2.7,
                    16.2,
                    2,
                    12.8,
                    8.5
                  ],
                  "xaxis": "x",
                  "y": [
                    33.9,
                    14.6,
                    5,
                    26.7,
                    11.3,
                    34.3,
                    33.8,
                    20.4,
                    13.5,
                    17,
                    12,
                    31.5,
                    18.5,
                    21,
                    24.2,
                    9.9,
                    32.8,
                    31.1,
                    13.9,
                    14.9,
                    23.9,
                    21.9,
                    30.4,
                    25.1,
                    12.7,
                    17,
                    17.7,
                    12.2,
                    26.6,
                    33,
                    33.1,
                    5,
                    24,
                    17.1,
                    15.6,
                    10.3,
                    13,
                    30.9,
                    24.6,
                    32.9,
                    8.2,
                    6.1,
                    31.9,
                    34.8,
                    21.7,
                    15.3,
                    20.7,
                    27.8,
                    27,
                    10.3,
                    34.4,
                    6.7,
                    32.1,
                    9.7,
                    26.8,
                    33.4,
                    21.5,
                    23.4,
                    7.9,
                    21.7,
                    7.8,
                    18.2,
                    7.8,
                    31.9,
                    23.4,
                    29.6,
                    8.9,
                    22.3,
                    10,
                    15.8,
                    29.2,
                    10.1,
                    30.2
                  ],
                  "yaxis": "y"
                },
                {
                  "hovertemplate": "<b>%{hovertext}</b><br><br>Country=Australia<br>CO2 Emissions (tons per capita)=%{x}<br>Average Temperature (°C)=%{y}<br>Population=%{marker.size}<extra></extra>",
                  "hovertext": [
                    "Australia",
                    "Australia",
                    "Australia",
                    "Australia",
                    "Australia",
                    "Australia",
                    "Australia",
                    "Australia",
                    "Australia",
                    "Australia",
                    "Australia",
                    "Australia",
                    "Australia",
                    "Australia",
                    "Australia",
                    "Australia",
                    "Australia",
                    "Australia",
                    "Australia",
                    "Australia",
                    "Australia",
                    "Australia",
                    "Australia",
                    "Australia",
                    "Australia",
                    "Australia",
                    "Australia",
                    "Australia",
                    "Australia",
                    "Australia",
                    "Australia",
                    "Australia",
                    "Australia",
                    "Australia",
                    "Australia",
                    "Australia",
                    "Australia",
                    "Australia",
                    "Australia",
                    "Australia",
                    "Australia",
                    "Australia",
                    "Australia",
                    "Australia",
                    "Australia",
                    "Australia",
                    "Australia",
                    "Australia",
                    "Australia",
                    "Australia",
                    "Australia",
                    "Australia",
                    "Australia",
                    "Australia",
                    "Australia",
                    "Australia",
                    "Australia"
                  ],
                  "legendgroup": "Australia",
                  "marker": {
                    "color": "#c3b369",
                    "size": [
                      849496137,
                      966063065,
                      428326345,
                      444296725,
                      325979799,
                      1058333501,
                      1359133613,
                      970758730,
                      174232548,
                      281959311,
                      161618848,
                      373401883,
                      519602850,
                      1027559585,
                      1297393635,
                      748486965,
                      165930526,
                      353488527,
                      1338375247,
                      714759147,
                      31674998,
                      217927603,
                      916438404,
                      1235851188,
                      66141905,
                      59676502,
                      1332348555,
                      40028538,
                      1388230143,
                      212718211,
                      517404742,
                      1165547123,
                      26451115,
                      393935884,
                      621558597,
                      366223269,
                      1014270408,
                      1151520192,
                      1362033433,
                      717984590,
                      313504125,
                      790364317,
                      1103288537,
                      977900597,
                      753610692,
                      1190249588,
                      321328118,
                      761742932,
                      751679888,
                      1028924329,
                      1020760264,
                      1086928352,
                      1010451727,
                      748156329,
                      1268489003,
                      1211016796,
                      380662109
                    ],
                    "sizemode": "area",
                    "sizeref": 3492540.1825,
                    "symbol": "circle"
                  },
                  "mode": "markers",
                  "name": "Australia",
                  "orientation": "v",
                  "showlegend": true,
                  "type": "scatter",
                  "x": [
                    1.9,
                    11.7,
                    1.5,
                    13.5,
                    11.2,
                    15.1,
                    12.9,
                    4.7,
                    1.8,
                    4.9,
                    7.7,
                    1,
                    13.1,
                    8.6,
                    8.2,
                    4,
                    9.5,
                    12.1,
                    9.1,
                    5.2,
                    1.1,
                    14.1,
                    5.8,
                    8.3,
                    11.7,
                    1.3,
                    5.9,
                    8,
                    2.2,
                    1.1,
                    1.7,
                    11.4,
                    14.6,
                    1.7,
                    18.6,
                    16.9,
                    7.6,
                    9,
                    4.8,
                    12.8,
                    2.4,
                    18.2,
                    0.8,
                    16.1,
                    17.1,
                    7.9,
                    15,
                    2,
                    15.8,
                    8.7,
                    10.3,
                    12.2,
                    9.2,
                    18.5,
                    7.3,
                    14.6,
                    14.9
                  ],
                  "xaxis": "x",
                  "y": [
                    18.3,
                    5.5,
                    6.2,
                    19.8,
                    11.1,
                    17.5,
                    23.2,
                    23.1,
                    20.4,
                    24.9,
                    23,
                    16.9,
                    14.9,
                    7.7,
                    8.1,
                    34.4,
                    23.1,
                    8.3,
                    5.4,
                    21.5,
                    20.6,
                    22.8,
                    16,
                    15.3,
                    18.4,
                    17.3,
                    34.2,
                    23.3,
                    11.4,
                    9.2,
                    10.2,
                    20.8,
                    6.9,
                    16.1,
                    20,
                    24.1,
                    18,
                    30.3,
                    20.3,
                    24.1,
                    29,
                    32.9,
                    28.5,
                    11.8,
                    16.1,
                    23.7,
                    24.3,
                    27.2,
                    32.2,
                    27.2,
                    10.7,
                    18.1,
                    11.5,
                    27.9,
                    19.4,
                    34.5,
                    21
                  ],
                  "yaxis": "y"
                },
                {
                  "hovertemplate": "<b>%{hovertext}</b><br><br>Country=Indonesia<br>CO2 Emissions (tons per capita)=%{x}<br>Average Temperature (°C)=%{y}<br>Population=%{marker.size}<extra></extra>",
                  "hovertext": [
                    "Indonesia",
                    "Indonesia",
                    "Indonesia",
                    "Indonesia",
                    "Indonesia",
                    "Indonesia",
                    "Indonesia",
                    "Indonesia",
                    "Indonesia",
                    "Indonesia",
                    "Indonesia",
                    "Indonesia",
                    "Indonesia",
                    "Indonesia",
                    "Indonesia",
                    "Indonesia",
                    "Indonesia",
                    "Indonesia",
                    "Indonesia",
                    "Indonesia",
                    "Indonesia",
                    "Indonesia",
                    "Indonesia",
                    "Indonesia",
                    "Indonesia",
                    "Indonesia",
                    "Indonesia",
                    "Indonesia",
                    "Indonesia",
                    "Indonesia",
                    "Indonesia",
                    "Indonesia",
                    "Indonesia",
                    "Indonesia",
                    "Indonesia",
                    "Indonesia",
                    "Indonesia",
                    "Indonesia",
                    "Indonesia",
                    "Indonesia",
                    "Indonesia",
                    "Indonesia",
                    "Indonesia",
                    "Indonesia",
                    "Indonesia",
                    "Indonesia",
                    "Indonesia",
                    "Indonesia",
                    "Indonesia",
                    "Indonesia",
                    "Indonesia",
                    "Indonesia",
                    "Indonesia",
                    "Indonesia",
                    "Indonesia",
                    "Indonesia",
                    "Indonesia",
                    "Indonesia",
                    "Indonesia",
                    "Indonesia",
                    "Indonesia",
                    "Indonesia",
                    "Indonesia",
                    "Indonesia",
                    "Indonesia",
                    "Indonesia",
                    "Indonesia",
                    "Indonesia",
                    "Indonesia",
                    "Indonesia",
                    "Indonesia",
                    "Indonesia",
                    "Indonesia",
                    "Indonesia",
                    "Indonesia"
                  ],
                  "legendgroup": "Indonesia",
                  "marker": {
                    "color": "#e1cc55",
                    "size": [
                      1345958932,
                      300442653,
                      227533555,
                      278626073,
                      866280953,
                      46316734,
                      1144952571,
                      639588420,
                      666108195,
                      841932971,
                      899066343,
                      875175631,
                      91233652,
                      1280891832,
                      1041970958,
                      495198828,
                      884111039,
                      947854491,
                      1179906692,
                      578387192,
                      811864189,
                      1129377860,
                      275452460,
                      1264503560,
                      838390349,
                      389949929,
                      938024200,
                      113072938,
                      744131853,
                      381441078,
                      1029993337,
                      540634691,
                      262587298,
                      1358606331,
                      566743465,
                      490479768,
                      947298966,
                      483741561,
                      1182540700,
                      1132944962,
                      442921564,
                      629396369,
                      633829632,
                      1082449514,
                      914386174,
                      1319258942,
                      827751807,
                      117179548,
                      802398351,
                      378091478,
                      1219902888,
                      454764789,
                      440187461,
                      1289226003,
                      1089256242,
                      318523214,
                      1330131634,
                      10978954,
                      445421988,
                      673431694,
                      809753207,
                      1305532079,
                      617022634,
                      235905387,
                      553908390,
                      168531317,
                      972853753,
                      1126838160,
                      411423216,
                      462496639,
                      342865321,
                      1160732321,
                      266267433,
                      431162461,
                      916703921
                    ],
                    "sizemode": "area",
                    "sizeref": 3492540.1825,
                    "symbol": "circle"
                  },
                  "mode": "markers",
                  "name": "Indonesia",
                  "orientation": "v",
                  "showlegend": true,
                  "type": "scatter",
                  "x": [
                    4.9,
                    8.9,
                    8.4,
                    17,
                    16.5,
                    2.3,
                    8.5,
                    12.2,
                    8.3,
                    9.6,
                    8.4,
                    17.3,
                    9.3,
                    11.8,
                    3.5,
                    9.4,
                    18.6,
                    13.1,
                    2.3,
                    1.4,
                    7.2,
                    17.4,
                    11.9,
                    17.4,
                    11.5,
                    18.2,
                    18.7,
                    16.6,
                    15.7,
                    14.9,
                    13.4,
                    19.8,
                    6.4,
                    9.9,
                    7.4,
                    8.4,
                    18.1,
                    8.9,
                    6.3,
                    2.4,
                    14.7,
                    12,
                    1.7,
                    17.7,
                    6.5,
                    15.2,
                    7.2,
                    6.6,
                    12.5,
                    14.3,
                    5.3,
                    7.4,
                    7,
                    18.9,
                    9.4,
                    13,
                    9.3,
                    11.9,
                    18.8,
                    0.6,
                    14.7,
                    14.9,
                    9,
                    8.8,
                    4.7,
                    7,
                    15.5,
                    10.9,
                    14.6,
                    9.1,
                    15,
                    16.7,
                    17.7,
                    6.3,
                    9.5
                  ],
                  "xaxis": "x",
                  "y": [
                    14.4,
                    9.6,
                    5.6,
                    33.5,
                    28.5,
                    11.6,
                    30.4,
                    20.1,
                    12.1,
                    24,
                    18.1,
                    22.8,
                    24.6,
                    18.4,
                    8.8,
                    21.3,
                    33.6,
                    10.8,
                    26.5,
                    34.3,
                    29.7,
                    10.2,
                    31.1,
                    6.8,
                    15.9,
                    15,
                    20,
                    5.7,
                    9.6,
                    16.6,
                    27.6,
                    26.7,
                    12.3,
                    13.4,
                    16.6,
                    19.2,
                    14.5,
                    7.8,
                    9.8,
                    27.3,
                    10.8,
                    30.2,
                    30,
                    19.1,
                    16.6,
                    19.6,
                    24.1,
                    26,
                    16.3,
                    26.2,
                    13,
                    21.4,
                    31.5,
                    10.5,
                    15.7,
                    19.9,
                    27.8,
                    5.5,
                    21.6,
                    7.8,
                    10.6,
                    15.7,
                    15.9,
                    19.6,
                    8.7,
                    34.4,
                    13.9,
                    26.6,
                    15.2,
                    17.2,
                    12,
                    29.1,
                    5.8,
                    29.8,
                    26
                  ],
                  "yaxis": "y"
                },
                {
                  "hovertemplate": "<b>%{hovertext}</b><br><br>Country=Brazil<br>CO2 Emissions (tons per capita)=%{x}<br>Average Temperature (°C)=%{y}<br>Population=%{marker.size}<extra></extra>",
                  "hovertext": [
                    "Brazil",
                    "Brazil",
                    "Brazil",
                    "Brazil",
                    "Brazil",
                    "Brazil",
                    "Brazil",
                    "Brazil",
                    "Brazil",
                    "Brazil",
                    "Brazil",
                    "Brazil",
                    "Brazil",
                    "Brazil",
                    "Brazil",
                    "Brazil",
                    "Brazil",
                    "Brazil",
                    "Brazil",
                    "Brazil",
                    "Brazil",
                    "Brazil",
                    "Brazil",
                    "Brazil",
                    "Brazil",
                    "Brazil",
                    "Brazil",
                    "Brazil",
                    "Brazil",
                    "Brazil",
                    "Brazil",
                    "Brazil",
                    "Brazil",
                    "Brazil",
                    "Brazil",
                    "Brazil",
                    "Brazil",
                    "Brazil",
                    "Brazil",
                    "Brazil",
                    "Brazil",
                    "Brazil",
                    "Brazil",
                    "Brazil",
                    "Brazil",
                    "Brazil",
                    "Brazil",
                    "Brazil",
                    "Brazil",
                    "Brazil",
                    "Brazil",
                    "Brazil",
                    "Brazil",
                    "Brazil",
                    "Brazil",
                    "Brazil",
                    "Brazil",
                    "Brazil",
                    "Brazil",
                    "Brazil",
                    "Brazil",
                    "Brazil",
                    "Brazil",
                    "Brazil",
                    "Brazil",
                    "Brazil",
                    "Brazil"
                  ],
                  "legendgroup": "Brazil",
                  "marker": {
                    "color": "#fee838",
                    "size": [
                      1106863791,
                      367803209,
                      1155260147,
                      267058271,
                      172465953,
                      661509073,
                      1246729629,
                      947263298,
                      255339962,
                      1082347326,
                      69840394,
                      1361023908,
                      1297261375,
                      1042719729,
                      1213528698,
                      9355425,
                      681529141,
                      792568468,
                      341217904,
                      1247636178,
                      481755340,
                      246829711,
                      1393981934,
                      1391047250,
                      374520492,
                      302427829,
                      694412542,
                      1107521006,
                      446630103,
                      1269827972,
                      1263782460,
                      617520058,
                      937363773,
                      856099723,
                      1091856204,
                      32747976,
                      1060152685,
                      55101132,
                      698150132,
                      297280556,
                      294211471,
                      79510809,
                      18750431,
                      196111561,
                      104922177,
                      615628540,
                      212780506,
                      958819872,
                      552258722,
                      925802277,
                      245823381,
                      1221021496,
                      803907356,
                      558731629,
                      552246665,
                      56127465,
                      743306453,
                      83325440,
                      1256199697,
                      239135473,
                      959148511,
                      420231924,
                      802778534,
                      1047317550,
                      413504125,
                      909090341,
                      584023989
                    ],
                    "sizemode": "area",
                    "sizeref": 3492540.1825,
                    "symbol": "circle"
                  },
                  "mode": "markers",
                  "name": "Brazil",
                  "orientation": "v",
                  "showlegend": true,
                  "type": "scatter",
                  "x": [
                    12.2,
                    14,
                    19.4,
                    5.6,
                    9.3,
                    9.2,
                    6,
                    14.5,
                    14.6,
                    14.5,
                    1.3,
                    17.8,
                    0.7,
                    12.3,
                    20,
                    18.2,
                    10.1,
                    14.8,
                    19.8,
                    0.6,
                    17.7,
                    12.8,
                    16.9,
                    3.3,
                    4.7,
                    9.5,
                    5.1,
                    14.6,
                    3,
                    17.4,
                    3.2,
                    10.2,
                    14.7,
                    12.3,
                    13.6,
                    18,
                    14,
                    14,
                    8.1,
                    13.4,
                    19.1,
                    3.9,
                    9.4,
                    19.9,
                    5,
                    6.9,
                    17,
                    1.4,
                    14.6,
                    8.6,
                    10.3,
                    4.9,
                    18.7,
                    0.9,
                    17.6,
                    12.3,
                    12.2,
                    0.7,
                    10.8,
                    0.5,
                    1.5,
                    11.2,
                    8.8,
                    16.1,
                    0.7,
                    15.8,
                    16
                  ],
                  "xaxis": "x",
                  "y": [
                    26.7,
                    11.8,
                    32.2,
                    26.7,
                    31.5,
                    14.7,
                    23.8,
                    19.1,
                    31.2,
                    9.9,
                    24.6,
                    5.3,
                    22.7,
                    21,
                    28.9,
                    7.7,
                    16.4,
                    20.7,
                    21,
                    30.8,
                    28.8,
                    24.1,
                    28.1,
                    14.1,
                    11.9,
                    18.4,
                    26.7,
                    32.2,
                    16.4,
                    34.9,
                    34.4,
                    30.9,
                    31.2,
                    12,
                    24.7,
                    12.5,
                    13,
                    24.4,
                    16.6,
                    18.5,
                    8.2,
                    27.4,
                    7.1,
                    25.3,
                    34.4,
                    26.8,
                    19.7,
                    23.4,
                    27.5,
                    6.6,
                    33.1,
                    17,
                    34.2,
                    6.4,
                    7.6,
                    12.1,
                    14.3,
                    26.6,
                    8.8,
                    9.8,
                    29,
                    20.2,
                    32.5,
                    27.8,
                    7.1,
                    5,
                    17.6
                  ],
                  "yaxis": "y"
                },
                {
                  "hovertemplate": "<b>%{hovertext}</b><br><br>Country=India<br>CO2 Emissions (tons per capita)=%{x}<br>Average Temperature (°C)=%{y}<br>Population=%{marker.size}<extra></extra>",
                  "hovertext": [
                    "India",
                    "India",
                    "India",
                    "India",
                    "India",
                    "India",
                    "India",
                    "India",
                    "India",
                    "India",
                    "India",
                    "India",
                    "India",
                    "India",
                    "India",
                    "India",
                    "India",
                    "India",
                    "India",
                    "India",
                    "India",
                    "India",
                    "India",
                    "India",
                    "India",
                    "India",
                    "India",
                    "India",
                    "India",
                    "India",
                    "India",
                    "India",
                    "India",
                    "India",
                    "India",
                    "India",
                    "India",
                    "India",
                    "India",
                    "India",
                    "India",
                    "India",
                    "India",
                    "India",
                    "India",
                    "India",
                    "India",
                    "India",
                    "India",
                    "India",
                    "India",
                    "India",
                    "India",
                    "India",
                    "India",
                    "India",
                    "India",
                    "India",
                    "India",
                    "India",
                    "India",
                    "India",
                    "India",
                    "India",
                    "India",
                    "India",
                    "India",
                    "India",
                    "India",
                    "India"
                  ],
                  "legendgroup": "India",
                  "marker": {
                    "color": "#00224e",
                    "size": [
                      365927452,
                      588745515,
                      1237433800,
                      322675191,
                      1097734281,
                      1223349324,
                      707948505,
                      867702697,
                      1366390185,
                      1333758926,
                      1104495874,
                      813268912,
                      296295792,
                      926054419,
                      1218629667,
                      471324215,
                      294913021,
                      42474142,
                      377355052,
                      988849880,
                      104256346,
                      556011992,
                      479208779,
                      573634321,
                      140110299,
                      20339904,
                      357936501,
                      349817800,
                      807462613,
                      990213564,
                      1063134918,
                      928647198,
                      575572757,
                      40236300,
                      866716200,
                      970973825,
                      472080203,
                      9918562,
                      457184922,
                      574018793,
                      702602016,
                      122071965,
                      522918956,
                      1242658359,
                      322950922,
                      281361562,
                      62104574,
                      538949949,
                      668910266,
                      200614447,
                      211473371,
                      1314459009,
                      757754968,
                      874069049,
                      142785204,
                      1011963413,
                      894808615,
                      403372362,
                      1113231627,
                      986237569,
                      938604707,
                      442386268,
                      30380783,
                      1206594322,
                      534063088,
                      776502158,
                      1287584579,
                      1018037875,
                      13350251,
                      1358019778
                    ],
                    "sizemode": "area",
                    "sizeref": 3492540.1825,
                    "symbol": "circle"
                  },
                  "mode": "markers",
                  "name": "India",
                  "orientation": "v",
                  "showlegend": true,
                  "type": "scatter",
                  "x": [
                    17.6,
                    6.1,
                    15.9,
                    19,
                    5.1,
                    9.1,
                    17.7,
                    10.8,
                    11.8,
                    3.8,
                    15,
                    1.6,
                    9.6,
                    19.9,
                    18.8,
                    2.5,
                    8.3,
                    1,
                    13.5,
                    5.7,
                    18.4,
                    11.9,
                    8.7,
                    7.9,
                    13.7,
                    12.9,
                    17.5,
                    8.2,
                    11.1,
                    16.8,
                    18.2,
                    7,
                    4.5,
                    6.6,
                    7.4,
                    12.6,
                    2.6,
                    9.4,
                    1.4,
                    11.7,
                    17.6,
                    19.1,
                    18.1,
                    16.6,
                    10.6,
                    18.7,
                    7.6,
                    5.7,
                    9.9,
                    9.9,
                    6.5,
                    8.1,
                    4.2,
                    14.8,
                    19.6,
                    12.3,
                    18.5,
                    7.8,
                    9.3,
                    0.8,
                    18.3,
                    7.8,
                    5.4,
                    1.2,
                    15.8,
                    10.6,
                    15.8,
                    6.7,
                    2,
                    8
                  ],
                  "xaxis": "x",
                  "y": [
                    31,
                    7.7,
                    20.9,
                    18.9,
                    27.7,
                    22.8,
                    22.8,
                    28.8,
                    14.4,
                    21.2,
                    32,
                    14.5,
                    16.3,
                    9.5,
                    29,
                    32.5,
                    17.7,
                    20.8,
                    30.5,
                    9.6,
                    15.1,
                    13.1,
                    7.7,
                    33.8,
                    14,
                    7.8,
                    33.3,
                    16.7,
                    11.7,
                    19.4,
                    14.5,
                    23.1,
                    10.3,
                    17.6,
                    29.3,
                    16.8,
                    11.8,
                    6.4,
                    12.8,
                    5.4,
                    31.4,
                    27.4,
                    34,
                    31.4,
                    27.3,
                    16.3,
                    5.3,
                    14.7,
                    9.5,
                    22.6,
                    32.3,
                    23.6,
                    21.9,
                    9.3,
                    7.7,
                    11.8,
                    27.5,
                    31.2,
                    21.8,
                    8.5,
                    14.6,
                    34.9,
                    16.4,
                    12.6,
                    23.4,
                    24.7,
                    34.8,
                    16.4,
                    17.4,
                    23.6
                  ],
                  "yaxis": "y"
                },
                {
                  "hovertemplate": "<b>%{hovertext}</b><br><br>Country=Russia<br>CO2 Emissions (tons per capita)=%{x}<br>Average Temperature (°C)=%{y}<br>Population=%{marker.size}<extra></extra>",
                  "hovertext": [
                    "Russia",
                    "Russia",
                    "Russia",
                    "Russia",
                    "Russia",
                    "Russia",
                    "Russia",
                    "Russia",
                    "Russia",
                    "Russia",
                    "Russia",
                    "Russia",
                    "Russia",
                    "Russia",
                    "Russia",
                    "Russia",
                    "Russia",
                    "Russia",
                    "Russia",
                    "Russia",
                    "Russia",
                    "Russia",
                    "Russia",
                    "Russia",
                    "Russia",
                    "Russia",
                    "Russia",
                    "Russia",
                    "Russia",
                    "Russia",
                    "Russia",
                    "Russia",
                    "Russia",
                    "Russia",
                    "Russia",
                    "Russia",
                    "Russia",
                    "Russia",
                    "Russia",
                    "Russia",
                    "Russia",
                    "Russia",
                    "Russia",
                    "Russia",
                    "Russia",
                    "Russia",
                    "Russia",
                    "Russia",
                    "Russia",
                    "Russia",
                    "Russia",
                    "Russia",
                    "Russia",
                    "Russia",
                    "Russia",
                    "Russia",
                    "Russia",
                    "Russia",
                    "Russia",
                    "Russia",
                    "Russia",
                    "Russia",
                    "Russia",
                    "Russia",
                    "Russia",
                    "Russia",
                    "Russia",
                    "Russia",
                    "Russia",
                    "Russia",
                    "Russia",
                    "Russia",
                    "Russia",
                    "Russia"
                  ],
                  "legendgroup": "Russia",
                  "marker": {
                    "color": "#123570",
                    "size": [
                      29715260,
                      11186886,
                      1034642225,
                      1031018863,
                      513004938,
                      507687964,
                      863711591,
                      74913944,
                      562654674,
                      1073643084,
                      1364174738,
                      1046546091,
                      501887577,
                      1085609772,
                      885787660,
                      759565231,
                      1184550275,
                      1012843726,
                      874974281,
                      603930696,
                      1035525610,
                      981675241,
                      367347075,
                      268168851,
                      12811984,
                      216501490,
                      170058004,
                      117422206,
                      1197982965,
                      1112504950,
                      1303319060,
                      27559312,
                      61974096,
                      147628865,
                      829537443,
                      48647611,
                      889870619,
                      1128364538,
                      12631400,
                      925981847,
                      877308425,
                      1038917176,
                      1362092917,
                      1307076526,
                      829586067,
                      536210430,
                      655879251,
                      892723644,
                      1139652750,
                      542400855,
                      583661545,
                      484197278,
                      1397016073,
                      246218329,
                      1051785465,
                      1117841407,
                      61229895,
                      355055964,
                      414805054,
                      333480086,
                      1344684674,
                      242436875,
                      1241932098,
                      521663999,
                      620506174,
                      1095475598,
                      278429462,
                      1084717946,
                      1142110790,
                      725773318,
                      197145427,
                      788798529,
                      798368160,
                      1252394217
                    ],
                    "sizemode": "area",
                    "sizeref": 3492540.1825,
                    "symbol": "circle"
                  },
                  "mode": "markers",
                  "name": "Russia",
                  "orientation": "v",
                  "showlegend": true,
                  "type": "scatter",
                  "x": [
                    6.9,
                    5.7,
                    1.8,
                    13,
                    9.7,
                    17.9,
                    4.8,
                    8.2,
                    5.9,
                    13.7,
                    6.3,
                    17.5,
                    16.4,
                    8.1,
                    2,
                    7.1,
                    0.6,
                    11.4,
                    10.9,
                    3.4,
                    3,
                    19.4,
                    3.4,
                    10.1,
                    7.6,
                    1.1,
                    16,
                    1.8,
                    2.5,
                    16.9,
                    8.6,
                    9.4,
                    2.8,
                    8.3,
                    17.7,
                    12.9,
                    4.1,
                    1.2,
                    9,
                    13.2,
                    12.6,
                    10.8,
                    16.3,
                    4,
                    13.6,
                    5,
                    15.7,
                    11.3,
                    8,
                    8.8,
                    16.6,
                    1.1,
                    12.4,
                    5.7,
                    4,
                    3.6,
                    13.6,
                    2.9,
                    17.6,
                    8.9,
                    2.1,
                    15.8,
                    4.2,
                    10.6,
                    14,
                    11.5,
                    3.9,
                    2.8,
                    12.4,
                    7.8,
                    12.7,
                    8.3,
                    6.2,
                    18.5
                  ],
                  "xaxis": "x",
                  "y": [
                    26.4,
                    18.6,
                    23.2,
                    34.2,
                    9.4,
                    19.5,
                    23.5,
                    23.4,
                    33.1,
                    23.5,
                    14.9,
                    15,
                    16.2,
                    17.4,
                    7.9,
                    18.5,
                    12.6,
                    30.9,
                    11.9,
                    25.6,
                    19.4,
                    9.3,
                    32.6,
                    22.9,
                    24.3,
                    24.6,
                    32.9,
                    8.7,
                    24.4,
                    19.2,
                    11.2,
                    9.3,
                    23.1,
                    28.2,
                    24.4,
                    8.5,
                    15.4,
                    22,
                    5.5,
                    24.6,
                    33.9,
                    25.4,
                    30,
                    24.8,
                    12.6,
                    29.9,
                    17.7,
                    5.3,
                    19.9,
                    21.2,
                    17.4,
                    22.3,
                    24.9,
                    23.1,
                    6.9,
                    27.2,
                    22,
                    30.6,
                    32.7,
                    28.2,
                    8.8,
                    15.1,
                    17.1,
                    30.4,
                    11.5,
                    21.3,
                    12.7,
                    33.4,
                    27.5,
                    16.7,
                    16.2,
                    29.7,
                    15.1,
                    25.5
                  ],
                  "yaxis": "y"
                },
                {
                  "hovertemplate": "<b>%{hovertext}</b><br><br>Country=Canada<br>CO2 Emissions (tons per capita)=%{x}<br>Average Temperature (°C)=%{y}<br>Population=%{marker.size}<extra></extra>",
                  "hovertext": [
                    "Canada",
                    "Canada",
                    "Canada",
                    "Canada",
                    "Canada",
                    "Canada",
                    "Canada",
                    "Canada",
                    "Canada",
                    "Canada",
                    "Canada",
                    "Canada",
                    "Canada",
                    "Canada",
                    "Canada",
                    "Canada",
                    "Canada",
                    "Canada",
                    "Canada",
                    "Canada",
                    "Canada",
                    "Canada",
                    "Canada",
                    "Canada",
                    "Canada",
                    "Canada",
                    "Canada",
                    "Canada",
                    "Canada",
                    "Canada",
                    "Canada",
                    "Canada",
                    "Canada",
                    "Canada",
                    "Canada",
                    "Canada",
                    "Canada",
                    "Canada",
                    "Canada",
                    "Canada",
                    "Canada",
                    "Canada",
                    "Canada",
                    "Canada",
                    "Canada",
                    "Canada",
                    "Canada",
                    "Canada",
                    "Canada",
                    "Canada",
                    "Canada",
                    "Canada",
                    "Canada",
                    "Canada",
                    "Canada",
                    "Canada",
                    "Canada",
                    "Canada",
                    "Canada",
                    "Canada",
                    "Canada",
                    "Canada",
                    "Canada",
                    "Canada",
                    "Canada",
                    "Canada",
                    "Canada"
                  ],
                  "legendgroup": "Canada",
                  "marker": {
                    "color": "#3b496c",
                    "size": [
                      1189649940,
                      1395185778,
                      1225949571,
                      1211830133,
                      475005508,
                      66735271,
                      428691595,
                      152248022,
                      531451276,
                      552912628,
                      1243293089,
                      72556185,
                      864707568,
                      847822613,
                      1386998486,
                      978026054,
                      416299975,
                      584732301,
                      614382775,
                      343865425,
                      338334548,
                      355644712,
                      45925925,
                      496479467,
                      915322799,
                      240259011,
                      248996061,
                      254618460,
                      1167788803,
                      60556258,
                      329517333,
                      298239516,
                      535387911,
                      1146777310,
                      1330161573,
                      276284677,
                      956249631,
                      599372628,
                      449460600,
                      117312606,
                      232840139,
                      1138205296,
                      1141561184,
                      1391480145,
                      1257944094,
                      1268064913,
                      625984226,
                      459323770,
                      574525178,
                      1380296219,
                      904452825,
                      968769498,
                      778188462,
                      646048990,
                      695971780,
                      108305812,
                      393359182,
                      347844379,
                      461516676,
                      717609187,
                      670245096,
                      1143896678,
                      1182222401,
                      73639916,
                      700477453,
                      1007525728,
                      94344322
                    ],
                    "sizemode": "area",
                    "sizeref": 3492540.1825,
                    "symbol": "circle"
                  },
                  "mode": "markers",
                  "name": "Canada",
                  "orientation": "v",
                  "showlegend": true,
                  "type": "scatter",
                  "x": [
                    12.7,
                    1,
                    1.4,
                    11.7,
                    14.7,
                    19.1,
                    16.7,
                    8.4,
                    2.8,
                    8,
                    10.9,
                    13.7,
                    11.9,
                    11.2,
                    11.5,
                    13,
                    10.8,
                    7,
                    13.8,
                    2.7,
                    8.3,
                    6.2,
                    0.9,
                    1.2,
                    15.3,
                    18,
                    9.6,
                    18.8,
                    18.7,
                    5.5,
                    17.6,
                    14.5,
                    14.9,
                    2.4,
                    9.4,
                    11.6,
                    14.6,
                    5.9,
                    10.8,
                    19.4,
                    12.3,
                    3.5,
                    19.1,
                    2.3,
                    5.9,
                    17,
                    15.2,
                    4.9,
                    11.1,
                    4.5,
                    6.3,
                    9.5,
                    10.9,
                    4.5,
                    8.4,
                    13.5,
                    8.1,
                    10.3,
                    17.3,
                    14.2,
                    1.1,
                    12.1,
                    17.4,
                    5.5,
                    5.8,
                    9.5,
                    0.8
                  ],
                  "xaxis": "x",
                  "y": [
                    21.3,
                    21.8,
                    14,
                    24.8,
                    26.7,
                    27.3,
                    5.6,
                    10.2,
                    22.6,
                    15.8,
                    10.7,
                    5.5,
                    8.4,
                    31.3,
                    18.3,
                    19.3,
                    10.9,
                    23.5,
                    15.8,
                    32.2,
                    28,
                    9.5,
                    12.1,
                    14.4,
                    24.1,
                    24.2,
                    22.8,
                    11.9,
                    10.7,
                    19.2,
                    16.5,
                    29.8,
                    21.2,
                    33.7,
                    12,
                    11.4,
                    16.6,
                    28.7,
                    19.9,
                    33.3,
                    28.5,
                    20.6,
                    9.7,
                    16.3,
                    13.2,
                    25.1,
                    11.6,
                    6.6,
                    27.3,
                    23.4,
                    9.5,
                    29.5,
                    30.4,
                    25.4,
                    31.2,
                    27.4,
                    25.9,
                    13.3,
                    21.7,
                    6,
                    34,
                    14.7,
                    32,
                    32.1,
                    16.4,
                    8.8,
                    34.2
                  ],
                  "yaxis": "y"
                },
                {
                  "hovertemplate": "<b>%{hovertext}</b><br><br>Country=Mexico<br>CO2 Emissions (tons per capita)=%{x}<br>Average Temperature (°C)=%{y}<br>Population=%{marker.size}<extra></extra>",
                  "hovertext": [
                    "Mexico",
                    "Mexico",
                    "Mexico",
                    "Mexico",
                    "Mexico",
                    "Mexico",
                    "Mexico",
                    "Mexico",
                    "Mexico",
                    "Mexico",
                    "Mexico",
                    "Mexico",
                    "Mexico",
                    "Mexico",
                    "Mexico",
                    "Mexico",
                    "Mexico",
                    "Mexico",
                    "Mexico",
                    "Mexico",
                    "Mexico",
                    "Mexico",
                    "Mexico",
                    "Mexico",
                    "Mexico",
                    "Mexico",
                    "Mexico",
                    "Mexico",
                    "Mexico",
                    "Mexico",
                    "Mexico",
                    "Mexico",
                    "Mexico",
                    "Mexico",
                    "Mexico",
                    "Mexico",
                    "Mexico",
                    "Mexico",
                    "Mexico",
                    "Mexico",
                    "Mexico",
                    "Mexico",
                    "Mexico",
                    "Mexico",
                    "Mexico",
                    "Mexico",
                    "Mexico",
                    "Mexico",
                    "Mexico",
                    "Mexico",
                    "Mexico",
                    "Mexico",
                    "Mexico",
                    "Mexico",
                    "Mexico"
                  ],
                  "legendgroup": "Mexico",
                  "marker": {
                    "color": "#575d6d",
                    "size": [
                      250843348,
                      1017231293,
                      1216476753,
                      22094509,
                      157599009,
                      1128035409,
                      1326300382,
                      880619657,
                      1308776395,
                      202831247,
                      935911975,
                      1177772833,
                      877150174,
                      1280296355,
                      1095137353,
                      153653744,
                      237078466,
                      664661890,
                      162233683,
                      722568466,
                      1275080026,
                      1121338990,
                      782955174,
                      30190953,
                      461954875,
                      131368589,
                      761831829,
                      672570272,
                      1082464871,
                      1120735671,
                      955410877,
                      1333450369,
                      1185883781,
                      324319642,
                      1357107613,
                      475061537,
                      106846880,
                      866432043,
                      237659268,
                      590386085,
                      563852853,
                      1229940655,
                      144553139,
                      207497580,
                      627755536,
                      1001208309,
                      791167156,
                      1270499456,
                      76892270,
                      749585197,
                      562074315,
                      936223565,
                      1166786685,
                      1388289771,
                      199412389
                    ],
                    "sizemode": "area",
                    "sizeref": 3492540.1825,
                    "symbol": "circle"
                  },
                  "mode": "markers",
                  "name": "Mexico",
                  "orientation": "v",
                  "showlegend": true,
                  "type": "scatter",
                  "x": [
                    16.8,
                    3.7,
                    3.8,
                    15.8,
                    5.7,
                    5.2,
                    8,
                    10.9,
                    3.1,
                    4.6,
                    18.5,
                    9.7,
                    2.3,
                    9.8,
                    14.8,
                    6,
                    4.6,
                    3.5,
                    6.2,
                    18.9,
                    4.1,
                    2.5,
                    2.7,
                    15.4,
                    7.2,
                    11.2,
                    3.5,
                    10.2,
                    8.4,
                    18.4,
                    0.8,
                    15.6,
                    4,
                    16.9,
                    3.3,
                    5.5,
                    7.4,
                    8.6,
                    18,
                    16.2,
                    3.3,
                    6.8,
                    2.5,
                    14.9,
                    14.1,
                    2.3,
                    8,
                    16.2,
                    12.1,
                    19.8,
                    8.5,
                    17.5,
                    8.4,
                    16.6,
                    11.3
                  ],
                  "xaxis": "x",
                  "y": [
                    11.1,
                    34.5,
                    9.5,
                    33.6,
                    22.1,
                    7.2,
                    7.9,
                    28.5,
                    6.6,
                    11.7,
                    10.4,
                    34.2,
                    23.3,
                    8.3,
                    31.9,
                    29.5,
                    25.1,
                    17.7,
                    15.2,
                    22.4,
                    8.6,
                    28.6,
                    6.9,
                    20.2,
                    15.9,
                    10.1,
                    25.7,
                    18.5,
                    31.5,
                    6.1,
                    29.1,
                    17.4,
                    33.8,
                    8.2,
                    25.6,
                    8.2,
                    24.7,
                    11.5,
                    5.1,
                    28,
                    25.6,
                    34,
                    25.5,
                    17.9,
                    8.4,
                    34.3,
                    18.6,
                    18.4,
                    26.8,
                    34.2,
                    31.4,
                    20.8,
                    29.2,
                    31,
                    27.8
                  ],
                  "yaxis": "y"
                },
                {
                  "hovertemplate": "<b>%{hovertext}</b><br><br>Country=Japan<br>CO2 Emissions (tons per capita)=%{x}<br>Average Temperature (°C)=%{y}<br>Population=%{marker.size}<extra></extra>",
                  "hovertext": [
                    "Japan",
                    "Japan",
                    "Japan",
                    "Japan",
                    "Japan",
                    "Japan",
                    "Japan",
                    "Japan",
                    "Japan",
                    "Japan",
                    "Japan",
                    "Japan",
                    "Japan",
                    "Japan",
                    "Japan",
                    "Japan",
                    "Japan",
                    "Japan",
                    "Japan",
                    "Japan",
                    "Japan",
                    "Japan",
                    "Japan",
                    "Japan",
                    "Japan",
                    "Japan",
                    "Japan",
                    "Japan",
                    "Japan",
                    "Japan",
                    "Japan",
                    "Japan",
                    "Japan",
                    "Japan",
                    "Japan",
                    "Japan",
                    "Japan",
                    "Japan",
                    "Japan",
                    "Japan",
                    "Japan",
                    "Japan",
                    "Japan",
                    "Japan",
                    "Japan",
                    "Japan",
                    "Japan",
                    "Japan",
                    "Japan",
                    "Japan",
                    "Japan",
                    "Japan",
                    "Japan",
                    "Japan",
                    "Japan",
                    "Japan",
                    "Japan",
                    "Japan",
                    "Japan",
                    "Japan",
                    "Japan",
                    "Japan",
                    "Japan"
                  ],
                  "legendgroup": "Japan",
                  "marker": {
                    "color": "#707173",
                    "size": [
                      176809981,
                      214294469,
                      838339418,
                      194923647,
                      1146020851,
                      433898990,
                      242481524,
                      690744654,
                      274995524,
                      465764328,
                      252075147,
                      421082224,
                      824431639,
                      693961526,
                      35139374,
                      63232362,
                      156286200,
                      235549454,
                      324417204,
                      1360173043,
                      1335375745,
                      1077312172,
                      565411899,
                      1048951853,
                      428766962,
                      1382916110,
                      1378540228,
                      606697131,
                      760660662,
                      43209016,
                      831550186,
                      1144515609,
                      1263362850,
                      968059240,
                      220754183,
                      1307202006,
                      521147693,
                      552503699,
                      1274619263,
                      733726265,
                      399126588,
                      606960201,
                      109741109,
                      52187343,
                      734430197,
                      5467801,
                      355479880,
                      471260143,
                      872248030,
                      1039025430,
                      1385374585,
                      509030277,
                      1328981569,
                      604216448,
                      1350315792,
                      902591144,
                      912478829,
                      1296305728,
                      1368121693,
                      847894451,
                      604837682,
                      961408872,
                      704210527
                    ],
                    "sizemode": "area",
                    "sizeref": 3492540.1825,
                    "symbol": "circle"
                  },
                  "mode": "markers",
                  "name": "Japan",
                  "orientation": "v",
                  "showlegend": true,
                  "type": "scatter",
                  "x": [
                    10,
                    10.7,
                    3.1,
                    1.3,
                    16.7,
                    9.5,
                    9.3,
                    13.1,
                    19.5,
                    11.1,
                    15.6,
                    5.1,
                    14.8,
                    6.9,
                    14.8,
                    14.4,
                    12.2,
                    10.7,
                    6.6,
                    4.8,
                    11.3,
                    9.8,
                    15.2,
                    3,
                    19.5,
                    14.9,
                    17.6,
                    2,
                    4.9,
                    19,
                    15.3,
                    11.2,
                    17.3,
                    19.9,
                    19.1,
                    16.2,
                    16.3,
                    5.3,
                    12.6,
                    9.5,
                    15.3,
                    5.4,
                    7.1,
                    12.8,
                    3.9,
                    3.6,
                    10.4,
                    9.9,
                    19.2,
                    6.6,
                    1.9,
                    4.5,
                    15.7,
                    18.3,
                    9.3,
                    19.6,
                    11.9,
                    4.8,
                    4.7,
                    5,
                    6,
                    17.3,
                    7.2
                  ],
                  "xaxis": "x",
                  "y": [
                    34,
                    18.9,
                    24.7,
                    15.4,
                    25.1,
                    31.9,
                    19.4,
                    27.1,
                    6,
                    20.7,
                    33.2,
                    12.3,
                    25,
                    15.5,
                    14.5,
                    27.6,
                    24.5,
                    21.4,
                    27.4,
                    10.4,
                    22.9,
                    25.1,
                    22.2,
                    16.9,
                    23.8,
                    31.9,
                    25,
                    31.3,
                    21.9,
                    23.4,
                    9,
                    8.1,
                    7.3,
                    29.8,
                    34.1,
                    12.7,
                    7.1,
                    8.8,
                    32.8,
                    29.4,
                    9.1,
                    5.9,
                    16.6,
                    34.5,
                    8.7,
                    16.1,
                    22.6,
                    28.4,
                    6.7,
                    28.6,
                    29.8,
                    28.6,
                    10.7,
                    5.7,
                    17.5,
                    34.4,
                    21.3,
                    10.9,
                    27.7,
                    10.1,
                    7.8,
                    14.4,
                    34
                  ],
                  "yaxis": "y"
                }
              ],
              "layout": {
                "hovermode": "closest",
                "legend": {
                  "itemsizing": "constant",
                  "title": {
                    "text": "Country"
                  },
                  "tracegroupgap": 0
                },
                "template": {
                  "data": {
                    "bar": [
                      {
                        "error_x": {
                          "color": "#2a3f5f"
                        },
                        "error_y": {
                          "color": "#2a3f5f"
                        },
                        "marker": {
                          "line": {
                            "color": "white",
                            "width": 0.5
                          },
                          "pattern": {
                            "fillmode": "overlay",
                            "size": 10,
                            "solidity": 0.2
                          }
                        },
                        "type": "bar"
                      }
                    ],
                    "barpolar": [
                      {
                        "marker": {
                          "line": {
                            "color": "white",
                            "width": 0.5
                          },
                          "pattern": {
                            "fillmode": "overlay",
                            "size": 10,
                            "solidity": 0.2
                          }
                        },
                        "type": "barpolar"
                      }
                    ],
                    "carpet": [
                      {
                        "aaxis": {
                          "endlinecolor": "#2a3f5f",
                          "gridcolor": "#C8D4E3",
                          "linecolor": "#C8D4E3",
                          "minorgridcolor": "#C8D4E3",
                          "startlinecolor": "#2a3f5f"
                        },
                        "baxis": {
                          "endlinecolor": "#2a3f5f",
                          "gridcolor": "#C8D4E3",
                          "linecolor": "#C8D4E3",
                          "minorgridcolor": "#C8D4E3",
                          "startlinecolor": "#2a3f5f"
                        },
                        "type": "carpet"
                      }
                    ],
                    "choropleth": [
                      {
                        "colorbar": {
                          "outlinewidth": 0,
                          "ticks": ""
                        },
                        "type": "choropleth"
                      }
                    ],
                    "contour": [
                      {
                        "colorbar": {
                          "outlinewidth": 0,
                          "ticks": ""
                        },
                        "colorscale": [
                          [
                            0,
                            "#0d0887"
                          ],
                          [
                            0.1111111111111111,
                            "#46039f"
                          ],
                          [
                            0.2222222222222222,
                            "#7201a8"
                          ],
                          [
                            0.3333333333333333,
                            "#9c179e"
                          ],
                          [
                            0.4444444444444444,
                            "#bd3786"
                          ],
                          [
                            0.5555555555555556,
                            "#d8576b"
                          ],
                          [
                            0.6666666666666666,
                            "#ed7953"
                          ],
                          [
                            0.7777777777777778,
                            "#fb9f3a"
                          ],
                          [
                            0.8888888888888888,
                            "#fdca26"
                          ],
                          [
                            1,
                            "#f0f921"
                          ]
                        ],
                        "type": "contour"
                      }
                    ],
                    "contourcarpet": [
                      {
                        "colorbar": {
                          "outlinewidth": 0,
                          "ticks": ""
                        },
                        "type": "contourcarpet"
                      }
                    ],
                    "heatmap": [
                      {
                        "colorbar": {
                          "outlinewidth": 0,
                          "ticks": ""
                        },
                        "colorscale": [
                          [
                            0,
                            "#0d0887"
                          ],
                          [
                            0.1111111111111111,
                            "#46039f"
                          ],
                          [
                            0.2222222222222222,
                            "#7201a8"
                          ],
                          [
                            0.3333333333333333,
                            "#9c179e"
                          ],
                          [
                            0.4444444444444444,
                            "#bd3786"
                          ],
                          [
                            0.5555555555555556,
                            "#d8576b"
                          ],
                          [
                            0.6666666666666666,
                            "#ed7953"
                          ],
                          [
                            0.7777777777777778,
                            "#fb9f3a"
                          ],
                          [
                            0.8888888888888888,
                            "#fdca26"
                          ],
                          [
                            1,
                            "#f0f921"
                          ]
                        ],
                        "type": "heatmap"
                      }
                    ],
                    "heatmapgl": [
                      {
                        "colorbar": {
                          "outlinewidth": 0,
                          "ticks": ""
                        },
                        "colorscale": [
                          [
                            0,
                            "#0d0887"
                          ],
                          [
                            0.1111111111111111,
                            "#46039f"
                          ],
                          [
                            0.2222222222222222,
                            "#7201a8"
                          ],
                          [
                            0.3333333333333333,
                            "#9c179e"
                          ],
                          [
                            0.4444444444444444,
                            "#bd3786"
                          ],
                          [
                            0.5555555555555556,
                            "#d8576b"
                          ],
                          [
                            0.6666666666666666,
                            "#ed7953"
                          ],
                          [
                            0.7777777777777778,
                            "#fb9f3a"
                          ],
                          [
                            0.8888888888888888,
                            "#fdca26"
                          ],
                          [
                            1,
                            "#f0f921"
                          ]
                        ],
                        "type": "heatmapgl"
                      }
                    ],
                    "histogram": [
                      {
                        "marker": {
                          "pattern": {
                            "fillmode": "overlay",
                            "size": 10,
                            "solidity": 0.2
                          }
                        },
                        "type": "histogram"
                      }
                    ],
                    "histogram2d": [
                      {
                        "colorbar": {
                          "outlinewidth": 0,
                          "ticks": ""
                        },
                        "colorscale": [
                          [
                            0,
                            "#0d0887"
                          ],
                          [
                            0.1111111111111111,
                            "#46039f"
                          ],
                          [
                            0.2222222222222222,
                            "#7201a8"
                          ],
                          [
                            0.3333333333333333,
                            "#9c179e"
                          ],
                          [
                            0.4444444444444444,
                            "#bd3786"
                          ],
                          [
                            0.5555555555555556,
                            "#d8576b"
                          ],
                          [
                            0.6666666666666666,
                            "#ed7953"
                          ],
                          [
                            0.7777777777777778,
                            "#fb9f3a"
                          ],
                          [
                            0.8888888888888888,
                            "#fdca26"
                          ],
                          [
                            1,
                            "#f0f921"
                          ]
                        ],
                        "type": "histogram2d"
                      }
                    ],
                    "histogram2dcontour": [
                      {
                        "colorbar": {
                          "outlinewidth": 0,
                          "ticks": ""
                        },
                        "colorscale": [
                          [
                            0,
                            "#0d0887"
                          ],
                          [
                            0.1111111111111111,
                            "#46039f"
                          ],
                          [
                            0.2222222222222222,
                            "#7201a8"
                          ],
                          [
                            0.3333333333333333,
                            "#9c179e"
                          ],
                          [
                            0.4444444444444444,
                            "#bd3786"
                          ],
                          [
                            0.5555555555555556,
                            "#d8576b"
                          ],
                          [
                            0.6666666666666666,
                            "#ed7953"
                          ],
                          [
                            0.7777777777777778,
                            "#fb9f3a"
                          ],
                          [
                            0.8888888888888888,
                            "#fdca26"
                          ],
                          [
                            1,
                            "#f0f921"
                          ]
                        ],
                        "type": "histogram2dcontour"
                      }
                    ],
                    "mesh3d": [
                      {
                        "colorbar": {
                          "outlinewidth": 0,
                          "ticks": ""
                        },
                        "type": "mesh3d"
                      }
                    ],
                    "parcoords": [
                      {
                        "line": {
                          "colorbar": {
                            "outlinewidth": 0,
                            "ticks": ""
                          }
                        },
                        "type": "parcoords"
                      }
                    ],
                    "pie": [
                      {
                        "automargin": true,
                        "type": "pie"
                      }
                    ],
                    "scatter": [
                      {
                        "fillpattern": {
                          "fillmode": "overlay",
                          "size": 10,
                          "solidity": 0.2
                        },
                        "type": "scatter"
                      }
                    ],
                    "scatter3d": [
                      {
                        "line": {
                          "colorbar": {
                            "outlinewidth": 0,
                            "ticks": ""
                          }
                        },
                        "marker": {
                          "colorbar": {
                            "outlinewidth": 0,
                            "ticks": ""
                          }
                        },
                        "type": "scatter3d"
                      }
                    ],
                    "scattercarpet": [
                      {
                        "marker": {
                          "colorbar": {
                            "outlinewidth": 0,
                            "ticks": ""
                          }
                        },
                        "type": "scattercarpet"
                      }
                    ],
                    "scattergeo": [
                      {
                        "marker": {
                          "colorbar": {
                            "outlinewidth": 0,
                            "ticks": ""
                          }
                        },
                        "type": "scattergeo"
                      }
                    ],
                    "scattergl": [
                      {
                        "marker": {
                          "colorbar": {
                            "outlinewidth": 0,
                            "ticks": ""
                          }
                        },
                        "type": "scattergl"
                      }
                    ],
                    "scattermapbox": [
                      {
                        "marker": {
                          "colorbar": {
                            "outlinewidth": 0,
                            "ticks": ""
                          }
                        },
                        "type": "scattermapbox"
                      }
                    ],
                    "scatterpolar": [
                      {
                        "marker": {
                          "colorbar": {
                            "outlinewidth": 0,
                            "ticks": ""
                          }
                        },
                        "type": "scatterpolar"
                      }
                    ],
                    "scatterpolargl": [
                      {
                        "marker": {
                          "colorbar": {
                            "outlinewidth": 0,
                            "ticks": ""
                          }
                        },
                        "type": "scatterpolargl"
                      }
                    ],
                    "scatterternary": [
                      {
                        "marker": {
                          "colorbar": {
                            "outlinewidth": 0,
                            "ticks": ""
                          }
                        },
                        "type": "scatterternary"
                      }
                    ],
                    "surface": [
                      {
                        "colorbar": {
                          "outlinewidth": 0,
                          "ticks": ""
                        },
                        "colorscale": [
                          [
                            0,
                            "#0d0887"
                          ],
                          [
                            0.1111111111111111,
                            "#46039f"
                          ],
                          [
                            0.2222222222222222,
                            "#7201a8"
                          ],
                          [
                            0.3333333333333333,
                            "#9c179e"
                          ],
                          [
                            0.4444444444444444,
                            "#bd3786"
                          ],
                          [
                            0.5555555555555556,
                            "#d8576b"
                          ],
                          [
                            0.6666666666666666,
                            "#ed7953"
                          ],
                          [
                            0.7777777777777778,
                            "#fb9f3a"
                          ],
                          [
                            0.8888888888888888,
                            "#fdca26"
                          ],
                          [
                            1,
                            "#f0f921"
                          ]
                        ],
                        "type": "surface"
                      }
                    ],
                    "table": [
                      {
                        "cells": {
                          "fill": {
                            "color": "#EBF0F8"
                          },
                          "line": {
                            "color": "white"
                          }
                        },
                        "header": {
                          "fill": {
                            "color": "#C8D4E3"
                          },
                          "line": {
                            "color": "white"
                          }
                        },
                        "type": "table"
                      }
                    ]
                  },
                  "layout": {
                    "annotationdefaults": {
                      "arrowcolor": "#2a3f5f",
                      "arrowhead": 0,
                      "arrowwidth": 1
                    },
                    "autotypenumbers": "strict",
                    "coloraxis": {
                      "colorbar": {
                        "outlinewidth": 0,
                        "ticks": ""
                      }
                    },
                    "colorscale": {
                      "diverging": [
                        [
                          0,
                          "#8e0152"
                        ],
                        [
                          0.1,
                          "#c51b7d"
                        ],
                        [
                          0.2,
                          "#de77ae"
                        ],
                        [
                          0.3,
                          "#f1b6da"
                        ],
                        [
                          0.4,
                          "#fde0ef"
                        ],
                        [
                          0.5,
                          "#f7f7f7"
                        ],
                        [
                          0.6,
                          "#e6f5d0"
                        ],
                        [
                          0.7,
                          "#b8e186"
                        ],
                        [
                          0.8,
                          "#7fbc41"
                        ],
                        [
                          0.9,
                          "#4d9221"
                        ],
                        [
                          1,
                          "#276419"
                        ]
                      ],
                      "sequential": [
                        [
                          0,
                          "#0d0887"
                        ],
                        [
                          0.1111111111111111,
                          "#46039f"
                        ],
                        [
                          0.2222222222222222,
                          "#7201a8"
                        ],
                        [
                          0.3333333333333333,
                          "#9c179e"
                        ],
                        [
                          0.4444444444444444,
                          "#bd3786"
                        ],
                        [
                          0.5555555555555556,
                          "#d8576b"
                        ],
                        [
                          0.6666666666666666,
                          "#ed7953"
                        ],
                        [
                          0.7777777777777778,
                          "#fb9f3a"
                        ],
                        [
                          0.8888888888888888,
                          "#fdca26"
                        ],
                        [
                          1,
                          "#f0f921"
                        ]
                      ],
                      "sequentialminus": [
                        [
                          0,
                          "#0d0887"
                        ],
                        [
                          0.1111111111111111,
                          "#46039f"
                        ],
                        [
                          0.2222222222222222,
                          "#7201a8"
                        ],
                        [
                          0.3333333333333333,
                          "#9c179e"
                        ],
                        [
                          0.4444444444444444,
                          "#bd3786"
                        ],
                        [
                          0.5555555555555556,
                          "#d8576b"
                        ],
                        [
                          0.6666666666666666,
                          "#ed7953"
                        ],
                        [
                          0.7777777777777778,
                          "#fb9f3a"
                        ],
                        [
                          0.8888888888888888,
                          "#fdca26"
                        ],
                        [
                          1,
                          "#f0f921"
                        ]
                      ]
                    },
                    "colorway": [
                      "#636efa",
                      "#EF553B",
                      "#00cc96",
                      "#ab63fa",
                      "#FFA15A",
                      "#19d3f3",
                      "#FF6692",
                      "#B6E880",
                      "#FF97FF",
                      "#FECB52"
                    ],
                    "font": {
                      "color": "#2a3f5f"
                    },
                    "geo": {
                      "bgcolor": "white",
                      "lakecolor": "white",
                      "landcolor": "white",
                      "showlakes": true,
                      "showland": true,
                      "subunitcolor": "#C8D4E3"
                    },
                    "hoverlabel": {
                      "align": "left"
                    },
                    "hovermode": "closest",
                    "mapbox": {
                      "style": "light"
                    },
                    "paper_bgcolor": "white",
                    "plot_bgcolor": "white",
                    "polar": {
                      "angularaxis": {
                        "gridcolor": "#EBF0F8",
                        "linecolor": "#EBF0F8",
                        "ticks": ""
                      },
                      "bgcolor": "white",
                      "radialaxis": {
                        "gridcolor": "#EBF0F8",
                        "linecolor": "#EBF0F8",
                        "ticks": ""
                      }
                    },
                    "scene": {
                      "xaxis": {
                        "backgroundcolor": "white",
                        "gridcolor": "#DFE8F3",
                        "gridwidth": 2,
                        "linecolor": "#EBF0F8",
                        "showbackground": true,
                        "ticks": "",
                        "zerolinecolor": "#EBF0F8"
                      },
                      "yaxis": {
                        "backgroundcolor": "white",
                        "gridcolor": "#DFE8F3",
                        "gridwidth": 2,
                        "linecolor": "#EBF0F8",
                        "showbackground": true,
                        "ticks": "",
                        "zerolinecolor": "#EBF0F8"
                      },
                      "zaxis": {
                        "backgroundcolor": "white",
                        "gridcolor": "#DFE8F3",
                        "gridwidth": 2,
                        "linecolor": "#EBF0F8",
                        "showbackground": true,
                        "ticks": "",
                        "zerolinecolor": "#EBF0F8"
                      }
                    },
                    "shapedefaults": {
                      "line": {
                        "color": "#2a3f5f"
                      }
                    },
                    "ternary": {
                      "aaxis": {
                        "gridcolor": "#DFE8F3",
                        "linecolor": "#A2B1C6",
                        "ticks": ""
                      },
                      "baxis": {
                        "gridcolor": "#DFE8F3",
                        "linecolor": "#A2B1C6",
                        "ticks": ""
                      },
                      "bgcolor": "white",
                      "caxis": {
                        "gridcolor": "#DFE8F3",
                        "linecolor": "#A2B1C6",
                        "ticks": ""
                      }
                    },
                    "title": {
                      "x": 0.05
                    },
                    "xaxis": {
                      "automargin": true,
                      "gridcolor": "#EBF0F8",
                      "linecolor": "#EBF0F8",
                      "ticks": "",
                      "title": {
                        "standoff": 15
                      },
                      "zerolinecolor": "#EBF0F8",
                      "zerolinewidth": 2
                    },
                    "yaxis": {
                      "automargin": true,
                      "gridcolor": "#EBF0F8",
                      "linecolor": "#EBF0F8",
                      "ticks": "",
                      "title": {
                        "standoff": 15
                      },
                      "zerolinecolor": "#EBF0F8",
                      "zerolinewidth": 2
                    }
                  }
                },
                "title": {
                  "text": "CO2 Emissions vs. Average Temperature"
                },
                "xaxis": {
                  "anchor": "y",
                  "domain": [
                    0,
                    1
                  ],
                  "showgrid": true,
                  "title": {
                    "text": "CO2 Emissions (tons per capita)"
                  }
                },
                "yaxis": {
                  "anchor": "x",
                  "domain": [
                    0,
                    1
                  ],
                  "showgrid": true,
                  "title": {
                    "text": "Average Temperature (°C)"
                  }
                }
              }
            }
          },
          "metadata": {},
          "output_type": "display_data"
        }
      ],
      "source": [
        "# Create scatter plot for CO2 emissions vs. temperature\n",
        "fig = px.scatter(df, x=\"CO2_Emissions_tons_per_capita\", y=\"Avg_Temperature_degC\",\n",
        "                 color=\"Country\",  # Different colors for each country\n",
        "                 size=\"Population\",  # Bubble size represents population\n",
        "                 hover_name=\"Country\",\n",
        "                 title=\"CO2 Emissions vs. Average Temperature\",\n",
        "                 labels={\"CO2_Emissions_tons_per_capita\": \"CO2 Emissions (tons per capita)\",\n",
        "                         \"Avg_Temperature_degC\": \"Average Temperature (°C)\"},\n",
        "                 color_discrete_sequence=px.colors.sequential.Cividis)  # Color-blind-friendly\n",
        "\n",
        "# Improve interactivity\n",
        "fig.update_layout(\n",
        "    hovermode=\"closest\",  # Show closest point details on hover\n",
        "    template=\"plotly_white\",\n",
        "    xaxis=dict(title=\"CO2 Emissions (tons per capita)\", showgrid=True),\n",
        "    yaxis=dict(title=\"Average Temperature (°C)\", showgrid=True),\n",
        ")\n",
        "\n",
        "# Show the plot\n",
        "fig.show()"
      ]
    },
    {
      "cell_type": "markdown",
      "metadata": {},
      "source": [
        "Hypothesis: \"Countries with a higher percentage of renewable energy have lower CO2 emissions.\" Visualization: Bar chart comparing countries."
      ]
    },
    {
      "cell_type": "code",
      "execution_count": null,
      "metadata": {},
      "outputs": [
        {
          "data": {
            "application/vnd.plotly.v1+json": {
              "config": {
                "plotlyServerURL": "https://plot.ly"
              },
              "data": [
                {
                  "alignmentgroup": "True",
                  "hovertemplate": "Country=%{x}<br>CO2 Emissions (tons per capita)=%{y}<br>Renewable Energy (%)=%{marker.color}<extra></extra>",
                  "legendgroup": "",
                  "marker": {
                    "color": [
                      20.4,
                      49.2,
                      33.3,
                      23.7,
                      12.5,
                      49.4,
                      41.9,
                      17.7,
                      8.2,
                      7.5,
                      10.4,
                      31.1,
                      46.8,
                      27.4,
                      42.9,
                      25.1,
                      36.9,
                      37.9,
                      12.8,
                      21.3,
                      33.7,
                      8.2,
                      21.3,
                      29.1,
                      49.8,
                      26.4,
                      41.7,
                      24.4,
                      40.8,
                      31.8,
                      44.9,
                      23.5,
                      32.2,
                      33.4,
                      23.8,
                      11.5,
                      9.2,
                      5.8,
                      44.3,
                      15.6,
                      14.5,
                      38.1,
                      19.4,
                      27.8,
                      12.3,
                      48.2,
                      43.3,
                      43.9,
                      23.3,
                      39.3,
                      11.5,
                      5.4,
                      5.9,
                      31.4,
                      25.5,
                      28.3,
                      5.3,
                      24,
                      37.3,
                      24.9,
                      37.9,
                      15.5,
                      41.6,
                      31.5,
                      14.5,
                      15.7,
                      33.3,
                      42.3,
                      23.7,
                      16.6,
                      44,
                      35.1,
                      25.2,
                      27,
                      14.2,
                      33.2,
                      21.1,
                      49.8,
                      26.6,
                      26.9,
                      30.5,
                      46.3,
                      41,
                      25.3,
                      37.3,
                      31.4,
                      27.2,
                      13.7,
                      25.9,
                      16.1,
                      46.2,
                      20.1,
                      47.9,
                      29,
                      33.4,
                      29.4,
                      10.8,
                      21.9,
                      9.5,
                      33,
                      25.1,
                      40,
                      14.9,
                      12.4,
                      23.3,
                      46.7,
                      37,
                      23.9,
                      28.3,
                      8.8,
                      49.3,
                      35,
                      17.8,
                      31.4,
                      9.9,
                      48.5,
                      12.9,
                      34.2,
                      16,
                      37.3,
                      40,
                      35.3,
                      32.7,
                      45.2,
                      8.5,
                      19.9,
                      16.2,
                      49.5,
                      22.5,
                      38,
                      35.8,
                      14.5,
                      15.8,
                      17.7,
                      23.5,
                      15.5,
                      5.9,
                      44.6,
                      48.5,
                      20.4,
                      20.2,
                      5.3,
                      35.6,
                      42.1,
                      11.6,
                      12.2,
                      40.6,
                      32.7,
                      7,
                      33,
                      18.9,
                      21.6,
                      39.6,
                      41.5,
                      23,
                      47.6,
                      23.3,
                      39.7,
                      26.8,
                      45.4,
                      45.8,
                      8.9,
                      47.1,
                      42.1,
                      40.6,
                      14,
                      41.2,
                      43.3,
                      18,
                      47.9,
                      7.2,
                      11.7,
                      29.2,
                      30.9,
                      34,
                      5.8,
                      48.2,
                      7,
                      11.4,
                      5.6,
                      30.5,
                      47,
                      35,
                      42,
                      5.6,
                      29.4,
                      25.7,
                      27.5,
                      8.2,
                      35.8,
                      27.6,
                      39.4,
                      26.8,
                      11.7,
                      34.2,
                      12.8,
                      44.3,
                      32.6,
                      12.1,
                      48.3,
                      28.3,
                      8.3,
                      33.2,
                      16.4,
                      41.2,
                      41.8,
                      49.1,
                      27.6,
                      25.5,
                      38.9,
                      11,
                      29.6,
                      29.6,
                      9,
                      23.8,
                      43.4,
                      43.5,
                      9.5,
                      9.1,
                      16.8,
                      44.4,
                      10.8,
                      37.4,
                      9.6,
                      33,
                      21,
                      40.5,
                      15.5,
                      33.8,
                      15.6,
                      37.1,
                      44.3,
                      10.7,
                      44,
                      31.7,
                      10.7,
                      24.2,
                      12.2,
                      36.5,
                      39.1,
                      9.8,
                      27.8,
                      41.7,
                      47.1,
                      28.1,
                      47.8,
                      29.1,
                      22.7,
                      43.2,
                      27.2,
                      26.2,
                      27.1,
                      43.1,
                      42.4,
                      23.2,
                      20,
                      27.1,
                      30.8,
                      15.7,
                      40.7,
                      26.9,
                      20,
                      9.8,
                      15.7,
                      47.7,
                      18.7,
                      12.6,
                      25.7,
                      18.8,
                      6.6,
                      19.5,
                      29.5,
                      29.8,
                      21,
                      25.1,
                      48.4,
                      22,
                      16.6,
                      16,
                      25.6,
                      39.2,
                      14.3,
                      36.9,
                      6,
                      23.9,
                      39.9,
                      20.2,
                      30.4,
                      14.2,
                      38.4,
                      7.4,
                      43.4,
                      13.9,
                      44.3,
                      20.9,
                      37.5,
                      19.4,
                      45.8,
                      10.7,
                      13,
                      27.2,
                      8.7,
                      13.8,
                      47.5,
                      48.9,
                      21.9,
                      46.5,
                      29.5,
                      17.1,
                      36.6,
                      34.7,
                      49.5,
                      16.9,
                      35.2,
                      7.3,
                      10.1,
                      5.2,
                      50,
                      41.1,
                      40.4,
                      27.9,
                      18.5,
                      11.8,
                      17.8,
                      21.9,
                      39,
                      29.3,
                      8.5,
                      5.8,
                      9.6,
                      23.5,
                      47,
                      33.7,
                      41.1,
                      26,
                      21.3,
                      9.9,
                      44.4,
                      40.2,
                      12.6,
                      28.1,
                      26.9,
                      33.1,
                      47.6,
                      31.1,
                      29.3,
                      7.3,
                      7.8,
                      13.4,
                      6.5,
                      38.5,
                      37.5,
                      11.1,
                      42.6,
                      12,
                      18.6,
                      16.2,
                      21.8,
                      16.5,
                      27,
                      23.3,
                      49.4,
                      7.5,
                      11.4,
                      7.4,
                      33.2,
                      7.5,
                      42.6,
                      28,
                      28.7,
                      30.3,
                      12.7,
                      13.9,
                      19.3,
                      31.7,
                      14.5,
                      10.2,
                      48.7,
                      6,
                      41.1,
                      40.5,
                      18.4,
                      11.1,
                      11.6,
                      36.4,
                      33.9,
                      40.2,
                      47.2,
                      36.1,
                      12,
                      16,
                      42.9,
                      14.4,
                      8.3,
                      36.6,
                      23.1,
                      46.4,
                      34.3,
                      9.1,
                      47.7,
                      16.6,
                      20.2,
                      23.1,
                      7.3,
                      27.3,
                      10.5,
                      23,
                      20.8,
                      39.8,
                      41.1,
                      11.9,
                      21.5,
                      21.8,
                      11.8,
                      40.9,
                      36.8,
                      13.6,
                      21.5,
                      9.8,
                      33.3,
                      10.5,
                      49.4,
                      40.1,
                      22.6,
                      31,
                      46,
                      29.9,
                      12.9,
                      22,
                      42.9,
                      34,
                      34.3,
                      44,
                      45.2,
                      46.4,
                      9.3,
                      29.5,
                      38.3,
                      39.1,
                      32.3,
                      12.5,
                      40.9,
                      37.4,
                      8.9,
                      25.9,
                      12.8,
                      20.2,
                      5.8,
                      23,
                      29.7,
                      32.9,
                      34.9,
                      42.6,
                      14.7,
                      10.4,
                      43.3,
                      12,
                      48.9,
                      42.9,
                      27.5,
                      49.2,
                      9.4,
                      18.6,
                      33.7,
                      20.8,
                      46.8,
                      8,
                      29.7,
                      31.6,
                      34.4,
                      16.5,
                      21.4,
                      43,
                      13.8,
                      42.2,
                      30.3,
                      39.3,
                      37.1,
                      14.3,
                      30.6,
                      44,
                      24.4,
                      48.5,
                      25.3,
                      11.4,
                      22.5,
                      47.8,
                      19.4,
                      44.1,
                      44.7,
                      20.8,
                      8.7,
                      37.6,
                      19,
                      40.2,
                      24.9,
                      26.8,
                      40,
                      22.2,
                      24.9,
                      21.9,
                      21.5,
                      28.7,
                      41.4,
                      21.3,
                      28.6,
                      35.2,
                      17.1,
                      17.5,
                      47,
                      37.6,
                      31,
                      34.1,
                      6.3,
                      32.8,
                      27.9,
                      29.6,
                      21.2,
                      8.7,
                      13.7,
                      47.8,
                      23.4,
                      26,
                      7.4,
                      6.7,
                      37.3,
                      29.2,
                      27.9,
                      15.9,
                      38.5,
                      12.6,
                      13.5,
                      25.7,
                      17.9,
                      16.1,
                      34,
                      34.3,
                      42.1,
                      23.8,
                      8.3,
                      17.3,
                      49.1,
                      31.8,
                      36.9,
                      5.3,
                      28.3,
                      6.7,
                      30.6,
                      46.4,
                      48.6,
                      29.3,
                      25.6,
                      47.5,
                      35.3,
                      7.9,
                      26,
                      15.8,
                      26.1,
                      25.5,
                      31.2,
                      21.1,
                      12.4,
                      27.7,
                      42.4,
                      34.9,
                      20.2,
                      47.1,
                      46,
                      14.4,
                      6.8,
                      38.4,
                      42.2,
                      48.6,
                      45,
                      32,
                      28.9,
                      6.3,
                      16.1,
                      25.7,
                      33.3,
                      30.1,
                      38.4,
                      17.6,
                      30.4,
                      9,
                      23.6,
                      38.8,
                      36.2,
                      49.6,
                      17.5,
                      27.4,
                      19.8,
                      24.8,
                      43.6,
                      35.8,
                      44.7,
                      14.2,
                      44.3,
                      7.7,
                      45,
                      19.8,
                      19.2,
                      28,
                      47.3,
                      7.2,
                      20.9,
                      43.5,
                      22.8,
                      14,
                      24.1,
                      22.3,
                      46.2,
                      39.3,
                      27.7,
                      49.5,
                      25.9,
                      7.6,
                      16.8,
                      24.6,
                      12.1,
                      47.6,
                      39.5,
                      17.1,
                      31.6,
                      37.5,
                      47.4,
                      44.7,
                      28.2,
                      39.9,
                      30.3,
                      29.9,
                      10.2,
                      10.7,
                      28.8,
                      17.1,
                      5.9,
                      37.5,
                      6.5,
                      31.8,
                      29.3,
                      48.6,
                      26.8,
                      7.9,
                      29.8,
                      42.8,
                      49.9,
                      24.4,
                      19.4,
                      45.8,
                      13.6,
                      32.7,
                      23.3,
                      6.8,
                      20.6,
                      16.9,
                      35.9,
                      47.7,
                      17.1,
                      41.5,
                      7.5,
                      29.2,
                      8.2,
                      47,
                      39.5,
                      34.6,
                      42.1,
                      34.1,
                      48.6,
                      37.1,
                      46.6,
                      28.3,
                      10.3,
                      28.8,
                      10.7,
                      31.7,
                      26.7,
                      33,
                      5.5,
                      13.8,
                      27.1,
                      47.8,
                      22.3,
                      24.1,
                      37.2,
                      32.2,
                      18.5,
                      23.5,
                      14.8,
                      48.5,
                      10.9,
                      21.7,
                      6.2,
                      15,
                      40.1,
                      14.1,
                      8.6,
                      26.4,
                      5.4,
                      8.8,
                      41.3,
                      39.7,
                      46.2,
                      43.5,
                      35.7,
                      7.4,
                      40.2,
                      43,
                      41,
                      27.9,
                      15.5,
                      43,
                      37.7,
                      49.1,
                      12,
                      15.2,
                      14.5,
                      40.7,
                      13.4,
                      8,
                      49.9,
                      6.1,
                      42.6,
                      21.4,
                      42.9,
                      30,
                      45.6,
                      46.7,
                      5.4,
                      8.4,
                      16.3,
                      35.1,
                      45,
                      25.7,
                      32.3,
                      13.5,
                      41.2,
                      48.5,
                      17.1,
                      27.3,
                      8.9,
                      30.2,
                      27.6,
                      11.5,
                      24.9,
                      20,
                      28.5,
                      31.4,
                      5.4,
                      39.2,
                      37.1,
                      21.5,
                      7.4,
                      39,
                      48,
                      15.8,
                      19.6,
                      13.3,
                      31,
                      12,
                      21,
                      36.4,
                      30.2,
                      22.4,
                      23.9,
                      30.3,
                      5.3,
                      8.5,
                      44.7,
                      8.5,
                      36.8,
                      46.4,
                      17.2,
                      21.7,
                      30.6,
                      44.7,
                      47.4,
                      38.3,
                      8.9,
                      35.1,
                      23.5,
                      26.2,
                      7.2,
                      13.6,
                      40.6,
                      25.4,
                      18.6,
                      22.3,
                      43.4,
                      38.7,
                      17.3,
                      10.3,
                      16.3,
                      46.4,
                      31.2,
                      29,
                      31.8,
                      21.5,
                      41.3,
                      28.5,
                      10.3,
                      10.8,
                      29.2,
                      47.1,
                      18.9,
                      44.1,
                      39.4,
                      16.2,
                      6.6,
                      9.6,
                      37.8,
                      14,
                      21.7,
                      27.6,
                      37.6,
                      10.1,
                      23.3,
                      26.8,
                      29.3,
                      41.8,
                      12.7,
                      41.4,
                      36.2,
                      30,
                      36.5,
                      23.5,
                      11.2,
                      35,
                      28.6,
                      33.8,
                      20.2,
                      45.8,
                      31.4,
                      8.8,
                      25.2,
                      39,
                      40.7,
                      27.3,
                      45.3,
                      17,
                      23.5,
                      45.4,
                      45.3,
                      35.9,
                      43.7,
                      9,
                      43.9,
                      19.4,
                      13,
                      15.8,
                      23.8,
                      16.3,
                      19.4,
                      11.1,
                      18.3,
                      30.8,
                      24.9,
                      20.6,
                      38.6,
                      45.2,
                      39.1,
                      19.9,
                      38.5,
                      11.8,
                      10.9,
                      20.6,
                      41.3,
                      16.1,
                      7.8,
                      10.9,
                      43.6,
                      33.5,
                      16.4,
                      30,
                      28.7,
                      34.5,
                      15.5,
                      43.9,
                      18.9,
                      36.2,
                      5.7,
                      21.8,
                      20.8,
                      29.5,
                      8.3,
                      40.6,
                      14.8,
                      35.5,
                      41.1,
                      30.3,
                      38.3,
                      34.8,
                      21,
                      41.4,
                      18.3,
                      30.7,
                      38.5,
                      22.1,
                      18.6,
                      25.7,
                      41.8,
                      46.8,
                      29.5,
                      34.8,
                      45.6,
                      9.4,
                      15.4,
                      36.9,
                      42.1,
                      43.6,
                      23.7,
                      9,
                      24.7,
                      15.4,
                      18.1,
                      39.8,
                      8.4,
                      42.2,
                      24.2,
                      31.8,
                      9,
                      20.2,
                      9,
                      48.3,
                      41.3,
                      25.7,
                      15.1,
                      47,
                      20.5,
                      12.2,
                      30.3,
                      47.5,
                      5.2,
                      15.7,
                      47.2,
                      12.7,
                      10.1,
                      30.7,
                      43.8,
                      26.5,
                      49.8,
                      35.6,
                      8.3,
                      49.7,
                      23.4,
                      17.9,
                      30.1,
                      18.7,
                      8.9,
                      5.1,
                      25.2,
                      42.7,
                      30.8,
                      50,
                      17.9,
                      17.6,
                      12.2,
                      12.4,
                      17.8,
                      40.7,
                      45.8,
                      48.9,
                      15.5,
                      44.7,
                      19.8,
                      10.1,
                      44.2,
                      33.6,
                      12.4,
                      24.3,
                      17.9,
                      38.2,
                      25.4,
                      49.5,
                      7.5,
                      21,
                      26.7,
                      27.6,
                      19.2,
                      37.8,
                      44.4,
                      47.2,
                      41.2,
                      43.3,
                      29.8,
                      42.2,
                      18.7,
                      22.9,
                      19.3,
                      26,
                      17.9,
                      48.3,
                      19.1,
                      9.4,
                      28.7,
                      7.6,
                      10,
                      14.9,
                      25.9,
                      24.5,
                      41
                    ],
                    "coloraxis": "coloraxis",
                    "pattern": {
                      "shape": ""
                    }
                  },
                  "name": "",
                  "offsetgroup": "",
                  "orientation": "v",
                  "showlegend": false,
                  "textposition": "auto",
                  "type": "bar",
                  "x": [
                    "UK",
                    "USA",
                    "France",
                    "Argentina",
                    "Germany",
                    "China",
                    "Argentina",
                    "'South Africa'",
                    "UK",
                    "Australia",
                    "Indonesia",
                    "'South Africa'",
                    "Brazil",
                    "USA",
                    "Germany",
                    "India",
                    "Russia",
                    "France",
                    "China",
                    "Canada",
                    "France",
                    "Mexico",
                    "India",
                    "Indonesia",
                    "Russia",
                    "India",
                    "Australia",
                    "USA",
                    "UK",
                    "China",
                    "Japan",
                    "USA",
                    "Japan",
                    "'South Africa'",
                    "UK",
                    "Russia",
                    "Germany",
                    "Canada",
                    "Brazil",
                    "Argentina",
                    "UK",
                    "USA",
                    "China",
                    "Argentina",
                    "Mexico",
                    "Mexico",
                    "India",
                    "Argentina",
                    "China",
                    "Russia",
                    "'South Africa'",
                    "Japan",
                    "India",
                    "Mexico",
                    "Brazil",
                    "Brazil",
                    "USA",
                    "Russia",
                    "Germany",
                    "Mexico",
                    "Indonesia",
                    "Russia",
                    "'South Africa'",
                    "Japan",
                    "China",
                    "Argentina",
                    "Mexico",
                    "Argentina",
                    "Brazil",
                    "China",
                    "China",
                    "China",
                    "Brazil",
                    "'South Africa'",
                    "Argentina",
                    "France",
                    "Argentina",
                    "Australia",
                    "Japan",
                    "Indonesia",
                    "France",
                    "Japan",
                    "India",
                    "Russia",
                    "Russia",
                    "Canada",
                    "Russia",
                    "Argentina",
                    "Brazil",
                    "Indonesia",
                    "Germany",
                    "USA",
                    "Canada",
                    "UK",
                    "UK",
                    "USA",
                    "Japan",
                    "USA",
                    "USA",
                    "UK",
                    "Canada",
                    "India",
                    "Argentina",
                    "China",
                    "Russia",
                    "Russia",
                    "Brazil",
                    "Canada",
                    "Brazil",
                    "Germany",
                    "Germany",
                    "Brazil",
                    "Canada",
                    "Brazil",
                    "Russia",
                    "France",
                    "Australia",
                    "UK",
                    "UK",
                    "Indonesia",
                    "USA",
                    "Australia",
                    "Argentina",
                    "Canada",
                    "'South Africa'",
                    "Australia",
                    "Indonesia",
                    "Germany",
                    "Japan",
                    "USA",
                    "Indonesia",
                    "China",
                    "'South Africa'",
                    "Canada",
                    "USA",
                    "Argentina",
                    "Australia",
                    "Germany",
                    "India",
                    "France",
                    "China",
                    "'South Africa'",
                    "France",
                    "USA",
                    "Germany",
                    "Germany",
                    "Indonesia",
                    "UK",
                    "UK",
                    "Australia",
                    "Indonesia",
                    "Russia",
                    "Australia",
                    "Russia",
                    "UK",
                    "Indonesia",
                    "Russia",
                    "China",
                    "Indonesia",
                    "UK",
                    "Australia",
                    "Mexico",
                    "Indonesia",
                    "India",
                    "'South Africa'",
                    "UK",
                    "Brazil",
                    "Brazil",
                    "Australia",
                    "Australia",
                    "France",
                    "'South Africa'",
                    "'South Africa'",
                    "China",
                    "Australia",
                    "'South Africa'",
                    "Argentina",
                    "France",
                    "Russia",
                    "Germany",
                    "Germany",
                    "Russia",
                    "Canada",
                    "UK",
                    "France",
                    "Argentina",
                    "'South Africa'",
                    "Mexico",
                    "France",
                    "Indonesia",
                    "Russia",
                    "Argentina",
                    "India",
                    "Japan",
                    "USA",
                    "UK",
                    "Russia",
                    "Mexico",
                    "'South Africa'",
                    "Mexico",
                    "Mexico",
                    "Australia",
                    "Australia",
                    "China",
                    "Russia",
                    "China",
                    "Russia",
                    "UK",
                    "France",
                    "USA",
                    "Mexico",
                    "UK",
                    "France",
                    "Japan",
                    "Germany",
                    "Brazil",
                    "Indonesia",
                    "Argentina",
                    "Russia",
                    "Japan",
                    "Germany",
                    "'South Africa'",
                    "Canada",
                    "USA",
                    "Argentina",
                    "China",
                    "China",
                    "France",
                    "Argentina",
                    "Australia",
                    "Germany",
                    "Canada",
                    "Japan",
                    "USA",
                    "UK",
                    "Germany",
                    "Canada",
                    "Brazil",
                    "Russia",
                    "UK",
                    "China",
                    "UK",
                    "Japan",
                    "China",
                    "Japan",
                    "France",
                    "Australia",
                    "Japan",
                    "China",
                    "France",
                    "Japan",
                    "Brazil",
                    "UK",
                    "Australia",
                    "Japan",
                    "France",
                    "'South Africa'",
                    "Germany",
                    "India",
                    "Canada",
                    "India",
                    "'South Africa'",
                    "India",
                    "'South Africa'",
                    "USA",
                    "'South Africa'",
                    "'South Africa'",
                    "Mexico",
                    "'South Africa'",
                    "Brazil",
                    "Germany",
                    "Russia",
                    "Japan",
                    "Canada",
                    "Australia",
                    "Germany",
                    "China",
                    "Russia",
                    "USA",
                    "USA",
                    "Indonesia",
                    "UK",
                    "'South Africa'",
                    "Germany",
                    "France",
                    "Mexico",
                    "India",
                    "China",
                    "USA",
                    "Canada",
                    "USA",
                    "Australia",
                    "Japan",
                    "USA",
                    "Australia",
                    "Germany",
                    "Germany",
                    "Mexico",
                    "UK",
                    "Indonesia",
                    "Russia",
                    "USA",
                    "Canada",
                    "USA",
                    "Indonesia",
                    "Argentina",
                    "Canada",
                    "Brazil",
                    "'South Africa'",
                    "Russia",
                    "Brazil",
                    "Argentina",
                    "Argentina",
                    "Indonesia",
                    "USA",
                    "Indonesia",
                    "Indonesia",
                    "Argentina",
                    "Russia",
                    "Brazil",
                    "India",
                    "USA",
                    "Argentina",
                    "Brazil",
                    "UK",
                    "India",
                    "India",
                    "Germany",
                    "Mexico",
                    "USA",
                    "India",
                    "Argentina",
                    "Germany",
                    "Brazil",
                    "UK",
                    "Australia",
                    "USA",
                    "Russia",
                    "Indonesia",
                    "Canada",
                    "Canada",
                    "Brazil",
                    "France",
                    "France",
                    "Brazil",
                    "Argentina",
                    "India",
                    "Mexico",
                    "USA",
                    "Canada",
                    "Canada",
                    "Mexico",
                    "India",
                    "Canada",
                    "Indonesia",
                    "Russia",
                    "USA",
                    "Japan",
                    "Canada",
                    "Brazil",
                    "Russia",
                    "Canada",
                    "'South Africa'",
                    "UK",
                    "Indonesia",
                    "Russia",
                    "Germany",
                    "Japan",
                    "UK",
                    "China",
                    "Brazil",
                    "Brazil",
                    "USA",
                    "Mexico",
                    "UK",
                    "Russia",
                    "India",
                    "Brazil",
                    "Russia",
                    "Argentina",
                    "Russia",
                    "Argentina",
                    "'South Africa'",
                    "Australia",
                    "Australia",
                    "China",
                    "Germany",
                    "China",
                    "Argentina",
                    "UK",
                    "Canada",
                    "India",
                    "Canada",
                    "France",
                    "Canada",
                    "USA",
                    "Canada",
                    "China",
                    "Brazil",
                    "Indonesia",
                    "Brazil",
                    "Australia",
                    "Indonesia",
                    "Mexico",
                    "India",
                    "India",
                    "USA",
                    "UK",
                    "China",
                    "Australia",
                    "'South Africa'",
                    "France",
                    "UK",
                    "India",
                    "Brazil",
                    "Canada",
                    "Canada",
                    "Mexico",
                    "Australia",
                    "China",
                    "China",
                    "Germany",
                    "Argentina",
                    "Japan",
                    "India",
                    "China",
                    "Mexico",
                    "Brazil",
                    "Australia",
                    "France",
                    "Germany",
                    "Mexico",
                    "Russia",
                    "USA",
                    "France",
                    "Argentina",
                    "Russia",
                    "'South Africa'",
                    "Argentina",
                    "Canada",
                    "USA",
                    "India",
                    "Brazil",
                    "USA",
                    "Argentina",
                    "Japan",
                    "Russia",
                    "India",
                    "Indonesia",
                    "Japan",
                    "Canada",
                    "Japan",
                    "Germany",
                    "Germany",
                    "'South Africa'",
                    "Argentina",
                    "Australia",
                    "France",
                    "France",
                    "Indonesia",
                    "Indonesia",
                    "India",
                    "Canada",
                    "China",
                    "'South Africa'",
                    "Germany",
                    "India",
                    "China",
                    "France",
                    "Australia",
                    "Japan",
                    "Germany",
                    "India",
                    "USA",
                    "China",
                    "Japan",
                    "Germany",
                    "France",
                    "Mexico",
                    "Canada",
                    "China",
                    "France",
                    "Germany",
                    "China",
                    "'South Africa'",
                    "Japan",
                    "UK",
                    "Germany",
                    "'South Africa'",
                    "Russia",
                    "India",
                    "Mexico",
                    "Indonesia",
                    "Japan",
                    "China",
                    "Canada",
                    "France",
                    "Indonesia",
                    "USA",
                    "France",
                    "China",
                    "Mexico",
                    "Argentina",
                    "France",
                    "Argentina",
                    "India",
                    "Mexico",
                    "Germany",
                    "'South Africa'",
                    "USA",
                    "Brazil",
                    "China",
                    "Australia",
                    "Brazil",
                    "France",
                    "Indonesia",
                    "China",
                    "'South Africa'",
                    "Russia",
                    "'South Africa'",
                    "Australia",
                    "USA",
                    "'South Africa'",
                    "Canada",
                    "Russia",
                    "Brazil",
                    "Germany",
                    "India",
                    "Canada",
                    "UK",
                    "Russia",
                    "Germany",
                    "Germany",
                    "China",
                    "Russia",
                    "USA",
                    "France",
                    "Australia",
                    "UK",
                    "Australia",
                    "Brazil",
                    "Brazil",
                    "Australia",
                    "'South Africa'",
                    "USA",
                    "Argentina",
                    "'South Africa'",
                    "Indonesia",
                    "'South Africa'",
                    "India",
                    "Japan",
                    "France",
                    "India",
                    "China",
                    "Japan",
                    "Japan",
                    "Russia",
                    "USA",
                    "USA",
                    "Japan",
                    "Indonesia",
                    "'South Africa'",
                    "Russia",
                    "France",
                    "Japan",
                    "Canada",
                    "Brazil",
                    "Brazil",
                    "India",
                    "China",
                    "Mexico",
                    "Mexico",
                    "Brazil",
                    "Argentina",
                    "Germany",
                    "India",
                    "Mexico",
                    "Brazil",
                    "China",
                    "Mexico",
                    "'South Africa'",
                    "'South Africa'",
                    "USA",
                    "Indonesia",
                    "USA",
                    "France",
                    "Japan",
                    "Canada",
                    "USA",
                    "UK",
                    "Mexico",
                    "Argentina",
                    "Russia",
                    "Brazil",
                    "Russia",
                    "UK",
                    "China",
                    "USA",
                    "Canada",
                    "China",
                    "Germany",
                    "Germany",
                    "Russia",
                    "Japan",
                    "India",
                    "Japan",
                    "Mexico",
                    "UK",
                    "'South Africa'",
                    "France",
                    "Japan",
                    "Indonesia",
                    "France",
                    "UK",
                    "France",
                    "Canada",
                    "USA",
                    "Canada",
                    "France",
                    "China",
                    "Germany",
                    "France",
                    "Canada",
                    "Argentina",
                    "UK",
                    "China",
                    "Canada",
                    "Japan",
                    "Brazil",
                    "Russia",
                    "India",
                    "'South Africa'",
                    "Canada",
                    "Indonesia",
                    "India",
                    "UK",
                    "Argentina",
                    "Australia",
                    "Canada",
                    "Brazil",
                    "India",
                    "'South Africa'",
                    "France",
                    "Canada",
                    "USA",
                    "Argentina",
                    "UK",
                    "Russia",
                    "Brazil",
                    "Mexico",
                    "Mexico",
                    "Indonesia",
                    "India",
                    "Brazil",
                    "China",
                    "'South Africa'",
                    "Russia",
                    "France",
                    "Canada",
                    "Canada",
                    "Mexico",
                    "Canada",
                    "UK",
                    "Russia",
                    "USA",
                    "Australia",
                    "Indonesia",
                    "Germany",
                    "Japan",
                    "Indonesia",
                    "India",
                    "USA",
                    "Indonesia",
                    "France",
                    "Mexico",
                    "Argentina",
                    "India",
                    "Canada",
                    "Brazil",
                    "France",
                    "India",
                    "Argentina",
                    "'South Africa'",
                    "Canada",
                    "Indonesia",
                    "Indonesia",
                    "India",
                    "Brazil",
                    "'South Africa'",
                    "Canada",
                    "Argentina",
                    "Australia",
                    "Indonesia",
                    "Argentina",
                    "USA",
                    "Indonesia",
                    "Argentina",
                    "China",
                    "Mexico",
                    "Japan",
                    "Russia",
                    "Mexico",
                    "UK",
                    "Japan",
                    "France",
                    "Argentina",
                    "Japan",
                    "UK",
                    "Canada",
                    "Australia",
                    "China",
                    "USA",
                    "Argentina",
                    "USA",
                    "Brazil",
                    "Indonesia",
                    "Argentina",
                    "Russia",
                    "Argentina",
                    "India",
                    "Australia",
                    "India",
                    "Argentina",
                    "China",
                    "Japan",
                    "USA",
                    "China",
                    "Argentina",
                    "UK",
                    "Japan",
                    "UK",
                    "USA",
                    "Japan",
                    "Russia",
                    "Australia",
                    "Mexico",
                    "'South Africa'",
                    "France",
                    "China",
                    "Indonesia",
                    "China",
                    "'South Africa'",
                    "Mexico",
                    "Germany",
                    "Canada",
                    "Russia",
                    "UK",
                    "Argentina",
                    "Russia",
                    "'South Africa'",
                    "Argentina",
                    "Indonesia",
                    "India",
                    "Japan",
                    "Canada",
                    "Australia",
                    "Australia",
                    "'South Africa'",
                    "Russia",
                    "Australia",
                    "Indonesia",
                    "UK",
                    "Germany",
                    "China",
                    "Brazil",
                    "Indonesia",
                    "Argentina",
                    "France",
                    "'South Africa'",
                    "India",
                    "Japan",
                    "France",
                    "Japan",
                    "USA",
                    "France",
                    "Brazil",
                    "Russia",
                    "Germany",
                    "China",
                    "China",
                    "Germany",
                    "UK",
                    "Canada",
                    "USA",
                    "Japan",
                    "Brazil",
                    "Australia",
                    "France",
                    "USA",
                    "Indonesia",
                    "'South Africa'",
                    "France",
                    "Brazil",
                    "India",
                    "India",
                    "Argentina",
                    "USA",
                    "Russia",
                    "Brazil",
                    "Brazil",
                    "Germany",
                    "Indonesia",
                    "Russia",
                    "Indonesia",
                    "UK",
                    "Japan",
                    "Japan",
                    "Australia",
                    "Argentina",
                    "China",
                    "India",
                    "'South Africa'",
                    "Japan",
                    "Russia",
                    "Brazil",
                    "'South Africa'",
                    "Mexico",
                    "Indonesia",
                    "Japan",
                    "Brazil",
                    "Japan",
                    "India",
                    "Mexico",
                    "France",
                    "Japan",
                    "UK",
                    "Russia",
                    "Japan",
                    "China",
                    "'South Africa'",
                    "'South Africa'",
                    "India",
                    "Russia",
                    "Mexico",
                    "UK",
                    "Germany",
                    "Russia",
                    "'South Africa'",
                    "China",
                    "France",
                    "India",
                    "Germany",
                    "China",
                    "Mexico",
                    "Indonesia",
                    "Mexico",
                    "China",
                    "Indonesia",
                    "USA",
                    "India",
                    "Russia",
                    "Indonesia",
                    "Argentina",
                    "Indonesia",
                    "Brazil",
                    "France",
                    "Brazil",
                    "Russia",
                    "Russia",
                    "India",
                    "Russia",
                    "'South Africa'",
                    "Indonesia",
                    "Indonesia",
                    "USA",
                    "Germany",
                    "Russia",
                    "Brazil",
                    "Russia",
                    "Mexico",
                    "USA",
                    "'South Africa'",
                    "'South Africa'",
                    "Japan",
                    "Indonesia",
                    "'South Africa'",
                    "Indonesia",
                    "Japan",
                    "China",
                    "France",
                    "Australia",
                    "UK",
                    "'South Africa'",
                    "Germany",
                    "Mexico",
                    "Canada",
                    "China",
                    "'South Africa'",
                    "Indonesia",
                    "France",
                    "Japan",
                    "Brazil",
                    "UK",
                    "Canada",
                    "France",
                    "France",
                    "'South Africa'",
                    "China",
                    "Argentina",
                    "Canada",
                    "UK",
                    "India",
                    "Australia",
                    "India",
                    "Argentina",
                    "Indonesia",
                    "Indonesia",
                    "Mexico",
                    "Canada",
                    "India",
                    "Indonesia",
                    "Argentina",
                    "'South Africa'",
                    "USA",
                    "Japan",
                    "USA",
                    "Russia",
                    "UK",
                    "India",
                    "Mexico",
                    "Russia",
                    "Indonesia",
                    "Brazil",
                    "Germany",
                    "Brazil",
                    "Argentina",
                    "Canada",
                    "France",
                    "Japan",
                    "India",
                    "UK",
                    "Mexico",
                    "Mexico",
                    "UK",
                    "Argentina",
                    "China",
                    "Indonesia",
                    "Germany",
                    "Australia",
                    "Australia",
                    "Australia",
                    "India",
                    "Australia",
                    "'South Africa'",
                    "USA",
                    "Mexico",
                    "Germany",
                    "USA",
                    "France",
                    "Germany",
                    "USA",
                    "Germany",
                    "France",
                    "Russia",
                    "'South Africa'",
                    "India",
                    "India",
                    "Argentina",
                    "UK",
                    "Indonesia",
                    "Mexico",
                    "Australia",
                    "'South Africa'",
                    "Brazil",
                    "Australia",
                    "Indonesia",
                    "Mexico",
                    "Canada",
                    "Indonesia",
                    "'South Africa'",
                    "USA",
                    "Germany",
                    "UK",
                    "UK",
                    "Brazil",
                    "'South Africa'",
                    "France",
                    "Canada",
                    "France",
                    "India",
                    "Argentina",
                    "India",
                    "Indonesia",
                    "Australia",
                    "USA",
                    "Brazil",
                    "Indonesia",
                    "Japan",
                    "Canada",
                    "UK",
                    "Canada",
                    "Indonesia",
                    "Indonesia",
                    "'South Africa'",
                    "Australia",
                    "India",
                    "UK",
                    "Argentina",
                    "Australia",
                    "Germany"
                  ],
                  "xaxis": "x",
                  "y": [
                    9.3,
                    4.8,
                    2.8,
                    1.8,
                    5.6,
                    1.4,
                    11.6,
                    6,
                    16.6,
                    1.9,
                    4.9,
                    14.7,
                    12.2,
                    1.8,
                    17.6,
                    17.6,
                    6.9,
                    7.1,
                    19.8,
                    12.7,
                    10.9,
                    16.8,
                    6.1,
                    8.9,
                    5.7,
                    15.9,
                    11.7,
                    13.3,
                    5.4,
                    4.8,
                    10,
                    14.9,
                    10.7,
                    1.1,
                    17.4,
                    1.8,
                    19.1,
                    1,
                    14,
                    2.1,
                    18.3,
                    9.6,
                    3.2,
                    7.1,
                    3.7,
                    3.8,
                    19,
                    9.2,
                    15.9,
                    13,
                    13.7,
                    3.1,
                    5.1,
                    15.8,
                    19.4,
                    5.6,
                    5.8,
                    9.7,
                    19.7,
                    5.7,
                    8.4,
                    17.9,
                    0.6,
                    1.3,
                    12.3,
                    18.2,
                    5.2,
                    9.7,
                    9.3,
                    9.7,
                    12.6,
                    9.7,
                    9.2,
                    9.7,
                    12,
                    11,
                    17.2,
                    1.5,
                    16.7,
                    17,
                    6.1,
                    9.5,
                    9.1,
                    4.8,
                    8.2,
                    1.4,
                    5.9,
                    16.4,
                    6,
                    16.5,
                    10.9,
                    17.7,
                    11.7,
                    1.1,
                    13.7,
                    1.4,
                    9.3,
                    18.6,
                    3.7,
                    8.1,
                    14.7,
                    17.7,
                    13.6,
                    5.5,
                    13.7,
                    6.3,
                    14.5,
                    19.1,
                    14.6,
                    17.3,
                    0.5,
                    14.5,
                    16.7,
                    1.3,
                    17.5,
                    5.5,
                    13.5,
                    16.1,
                    13.4,
                    2.3,
                    12.1,
                    11.2,
                    18.1,
                    8.4,
                    6.8,
                    15.1,
                    8.5,
                    13.1,
                    13.1,
                    17.8,
                    12.2,
                    10.3,
                    3.2,
                    2.8,
                    3.5,
                    3.9,
                    12.9,
                    14.9,
                    10.8,
                    16.7,
                    19.8,
                    16.5,
                    14.1,
                    10.9,
                    9.3,
                    2.1,
                    8.3,
                    18.2,
                    16.3,
                    4.7,
                    9.6,
                    16.4,
                    1.8,
                    8.1,
                    17.1,
                    8.4,
                    2,
                    11.1,
                    17.3,
                    12,
                    4.9,
                    8,
                    9.3,
                    11.8,
                    15.3,
                    2.4,
                    17.8,
                    0.7,
                    7.7,
                    1,
                    8.2,
                    10.8,
                    10.5,
                    3.7,
                    13.1,
                    1.4,
                    15.4,
                    19,
                    7.1,
                    10.6,
                    7.9,
                    0.6,
                    8,
                    15.9,
                    12.1,
                    2.5,
                    17,
                    10.9,
                    16.9,
                    11.8,
                    11.4,
                    2.6,
                    3.8,
                    19.5,
                    5,
                    19.6,
                    10.9,
                    3.1,
                    2.4,
                    4.6,
                    18.5,
                    8.6,
                    8.2,
                    6.6,
                    3.4,
                    10,
                    3,
                    16.8,
                    7.7,
                    7.8,
                    9.7,
                    9.2,
                    19.9,
                    11.1,
                    2.2,
                    12.3,
                    3.5,
                    1.1,
                    19.4,
                    15.6,
                    19.6,
                    9.8,
                    10.9,
                    3.8,
                    5.3,
                    16.9,
                    7.4,
                    16.6,
                    14.3,
                    4,
                    10.4,
                    13.7,
                    5.1,
                    16.7,
                    11.1,
                    3.7,
                    11.9,
                    20,
                    3.4,
                    16.4,
                    4.5,
                    15.8,
                    14.8,
                    6.4,
                    6.9,
                    16,
                    9.5,
                    14.8,
                    3.4,
                    17.1,
                    14.4,
                    18.2,
                    3.1,
                    12.1,
                    12.2,
                    7.4,
                    9.4,
                    1.2,
                    15,
                    11.2,
                    1.6,
                    13.8,
                    9.6,
                    1.2,
                    19.4,
                    19,
                    10.5,
                    2.3,
                    15.2,
                    10.1,
                    6.4,
                    10.1,
                    10.7,
                    11.5,
                    9.1,
                    12.3,
                    18.4,
                    7.6,
                    14.7,
                    17.9,
                    9.4,
                    9.1,
                    12.2,
                    12,
                    16.2,
                    9.8,
                    19.9,
                    1.7,
                    0.6,
                    13,
                    6.3,
                    5.2,
                    6.6,
                    5.5,
                    1.1,
                    19.4,
                    4.8,
                    14.8,
                    15.4,
                    18.6,
                    1.1,
                    17.5,
                    10.8,
                    12.8,
                    13.1,
                    16.5,
                    7,
                    14.8,
                    10.8,
                    16,
                    19.8,
                    4.4,
                    19.9,
                    2.3,
                    0.5,
                    1.4,
                    7.2,
                    12.8,
                    1.8,
                    0.6,
                    18.8,
                    16.5,
                    16.3,
                    17.7,
                    14.2,
                    2.5,
                    8.3,
                    14.6,
                    6,
                    13.9,
                    1,
                    6.5,
                    11.2,
                    12.8,
                    11.8,
                    14.1,
                    0.6,
                    2.5,
                    17.4,
                    13.8,
                    2.7,
                    16.9,
                    5.2,
                    9.8,
                    3.3,
                    14.3,
                    13.5,
                    4.6,
                    17.3,
                    8.3,
                    6.2,
                    3.5,
                    5.7,
                    0.9,
                    11.9,
                    16.9,
                    11.2,
                    4.8,
                    1.2,
                    4.7,
                    8.6,
                    15.3,
                    4.2,
                    14.5,
                    17.4,
                    9.4,
                    16.5,
                    11.3,
                    12.9,
                    10.8,
                    9.5,
                    5.1,
                    6.4,
                    6.2,
                    11.5,
                    2.8,
                    18.4,
                    14.6,
                    8.3,
                    3.6,
                    17.7,
                    16.6,
                    14.6,
                    5.8,
                    8.3,
                    2.5,
                    4.2,
                    15.8,
                    14.4,
                    12.1,
                    18,
                    11.9,
                    9.6,
                    7.1,
                    18.8,
                    2.1,
                    18.7,
                    16.6,
                    3,
                    11.5,
                    17.4,
                    11.7,
                    18.2,
                    18.9,
                    8.7,
                    7.9,
                    18.8,
                    13.7,
                    2.8,
                    1.3,
                    11.5,
                    18.6,
                    17,
                    13.7,
                    3.2,
                    5.5,
                    17.6,
                    4.1,
                    5.9,
                    3,
                    13.7,
                    18.9,
                    5.7,
                    9.8,
                    12.9,
                    20,
                    2.5,
                    10.2,
                    8,
                    17.4,
                    9.8,
                    2.7,
                    12.9,
                    15.5,
                    0.6,
                    17.2,
                    4.1,
                    11.3,
                    8.6,
                    14.5,
                    7.7,
                    17.5,
                    14.7,
                    13.1,
                    16,
                    15.2,
                    1.2,
                    8.2,
                    18.7,
                    3,
                    14.9,
                    19.5,
                    1.5,
                    13.8,
                    9.6,
                    11.8,
                    2.2,
                    1.3,
                    13.5,
                    16.6,
                    15.7,
                    11.1,
                    2.4,
                    13.9,
                    5.2,
                    18.3,
                    16.8,
                    14.3,
                    19,
                    1.1,
                    14.9,
                    6.9,
                    18.2,
                    5.7,
                    14.6,
                    17.6,
                    1.3,
                    8.3,
                    15.4,
                    9.4,
                    5.7,
                    4.8,
                    3.1,
                    17.2,
                    11.7,
                    2,
                    8,
                    7.7,
                    4,
                    9,
                    7,
                    7.2,
                    14.9,
                    4.9,
                    13,
                    11.6,
                    11.6,
                    13.4,
                    11.2,
                    17.6,
                    13.7,
                    11.2,
                    16.7,
                    12.3,
                    6.2,
                    4.5,
                    3.5,
                    18,
                    14.3,
                    18.8,
                    12.3,
                    9.7,
                    1.7,
                    13.6,
                    11.9,
                    19.8,
                    5.2,
                    10.8,
                    13.2,
                    13.1,
                    11.4,
                    15.7,
                    4.5,
                    14.6,
                    12.6,
                    18,
                    17,
                    6.6,
                    5.9,
                    19.6,
                    10.8,
                    18.2,
                    3.7,
                    13,
                    16.3,
                    19,
                    7.1,
                    14.6,
                    11,
                    1.7,
                    14,
                    14,
                    18.6,
                    10.2,
                    5,
                    1.4,
                    8.6,
                    6.4,
                    15.3,
                    7.4,
                    19,
                    19.3,
                    12.6,
                    18.6,
                    15.3,
                    11.2,
                    4,
                    9.4,
                    11.4,
                    17.3,
                    9.9,
                    18,
                    13.6,
                    3.2,
                    19.9,
                    10.8,
                    8.1,
                    13.4,
                    2.6,
                    12.9,
                    10.2,
                    8.4,
                    19.1,
                    10.7,
                    4.8,
                    9.4,
                    18.4,
                    3.9,
                    4.7,
                    0.8,
                    0.8,
                    16.7,
                    14.8,
                    7.4,
                    14.1,
                    8.2,
                    19.1,
                    19.4,
                    8.2,
                    17.2,
                    15.6,
                    6.5,
                    5,
                    9.4,
                    15.7,
                    19.2,
                    15.4,
                    17.2,
                    12.3,
                    16.8,
                    15.8,
                    7.9,
                    11.3,
                    16.2,
                    1.4,
                    16.3,
                    4,
                    10.5,
                    16.3,
                    5.4,
                    5.3,
                    8.4,
                    17.9,
                    0.5,
                    18.1,
                    3.5,
                    19.8,
                    19.1,
                    10.1,
                    10.5,
                    9.9,
                    12.9,
                    2.3,
                    1.1,
                    1.6,
                    9.2,
                    5.9,
                    12.6,
                    19.9,
                    8,
                    11.7,
                    8.6,
                    17,
                    18.1,
                    17.6,
                    19.5,
                    1,
                    16.9,
                    15.2,
                    5,
                    19.1,
                    3.4,
                    13.8,
                    4.9,
                    8.9,
                    14.5,
                    11.5,
                    8.8,
                    6.9,
                    16.9,
                    3.3,
                    8.9,
                    18.1,
                    17,
                    8.3,
                    15.4,
                    16.6,
                    17.8,
                    11.1,
                    4.5,
                    5.5,
                    6.3,
                    12.1,
                    1.1,
                    12.9,
                    7.6,
                    6.3,
                    17.7,
                    9.5,
                    2.4,
                    16.6,
                    1.4,
                    14.7,
                    15.6,
                    7.4,
                    16.6,
                    10.6,
                    9.5,
                    1.4,
                    6.2,
                    18.7,
                    8.1,
                    11.2,
                    10.9,
                    12,
                    1.7,
                    7.6,
                    14.6,
                    4.4,
                    4.5,
                    0.7,
                    9,
                    17.7,
                    1.5,
                    4.2,
                    6.5,
                    14.8,
                    13,
                    8.6,
                    15.3,
                    12.4,
                    18,
                    16.5,
                    5.4,
                    5.8,
                    2.9,
                    7.1,
                    20,
                    8.4,
                    4.8,
                    15.4,
                    11.1,
                    3.4,
                    7.9,
                    8.6,
                    15.2,
                    0.9,
                    5.7,
                    10.6,
                    5.7,
                    12.8,
                    9.9,
                    7.6,
                    19,
                    12.8,
                    3,
                    11.4,
                    15.7,
                    14.3,
                    3.9,
                    19.5,
                    9.3,
                    3.6,
                    4,
                    2.4,
                    16.2,
                    2.9,
                    2.9,
                    17.1,
                    7.2,
                    1.1,
                    1.5,
                    3.3,
                    4.7,
                    13.5,
                    3.6,
                    2.8,
                    15.4,
                    13.6,
                    9,
                    11.2,
                    6.6,
                    9.9,
                    10.4,
                    8.1,
                    18.2,
                    0.8,
                    15.8,
                    2.9,
                    16.1,
                    12.5,
                    16.9,
                    2.4,
                    11.4,
                    10.3,
                    14.3,
                    10.9,
                    11,
                    8.9,
                    6.5,
                    9.9,
                    2.8,
                    19.2,
                    14.4,
                    19.1,
                    4.9,
                    17.6,
                    16.3,
                    13.7,
                    12.7,
                    6.7,
                    16.4,
                    10.3,
                    1.9,
                    6.6,
                    18.7,
                    17.1,
                    19.6,
                    12.7,
                    5.3,
                    3.7,
                    4.1,
                    0.9,
                    8.1,
                    4.2,
                    8.5,
                    18.7,
                    8.9,
                    17.6,
                    12.3,
                    5.3,
                    7.4,
                    2.1,
                    7,
                    13.7,
                    1.9,
                    4.5,
                    7.9,
                    19.6,
                    15.8,
                    14.8,
                    2.8,
                    15.7,
                    15.8,
                    12.2,
                    19.8,
                    6.8,
                    18.9,
                    18.3,
                    0.7,
                    9.3,
                    19.6,
                    2.5,
                    11.2,
                    19.6,
                    11.3,
                    4.2,
                    11.9,
                    4.5,
                    10.6,
                    1.9,
                    12.3,
                    10.6,
                    14.9,
                    12.8,
                    11.2,
                    14,
                    3.3,
                    12.1,
                    3.9,
                    18.5,
                    1.8,
                    8.9,
                    14.1,
                    9.4,
                    2.3,
                    11.3,
                    13,
                    14.2,
                    7.8,
                    11.5,
                    9.3,
                    13.6,
                    11.9,
                    10.8,
                    5.4,
                    0.5,
                    3.9,
                    2.8,
                    9.3,
                    12.4,
                    4.7,
                    18.8,
                    0.6,
                    15.6,
                    12.7,
                    7.8,
                    1.5,
                    12.7,
                    8,
                    18.8,
                    11.1,
                    18.8,
                    4.8,
                    14.7,
                    12.5,
                    14.9,
                    4.7,
                    13.5,
                    10.2,
                    15,
                    6.9,
                    17.9,
                    2.1,
                    16.2,
                    17.3,
                    16.4,
                    10.5,
                    9,
                    19.9,
                    5,
                    11.2,
                    13.6,
                    14.2,
                    4.5,
                    13.3,
                    16.5,
                    1.5,
                    18.3,
                    1.1,
                    7.4,
                    0.8,
                    2,
                    18.3,
                    7.4,
                    8.8,
                    4.7,
                    12.1,
                    12.1,
                    7.8,
                    7,
                    17.8,
                    8,
                    10.1,
                    6,
                    15.8,
                    8.3,
                    10.5,
                    5.4,
                    19.8,
                    6.2,
                    15.5,
                    8.8,
                    4.5,
                    16.1,
                    7,
                    17.4,
                    18.3,
                    17.3,
                    1.2,
                    15.9,
                    8.5,
                    17.5,
                    12.9,
                    16.8,
                    10.2,
                    10.9,
                    3.3,
                    15.8,
                    8.7,
                    10.3,
                    15.8,
                    12.2,
                    4.4,
                    12,
                    8.4,
                    9.7,
                    1.1,
                    4.6,
                    6,
                    14.4,
                    0.7,
                    8.5,
                    18.5,
                    2.7,
                    10.6,
                    15.8,
                    18.9,
                    15.1,
                    14.6,
                    16.6,
                    9.2,
                    16.2,
                    0.7,
                    18.5,
                    9.1,
                    11.3,
                    5.5,
                    15,
                    2,
                    17.5,
                    16.6,
                    4.7,
                    16.3,
                    15.8,
                    12.8,
                    7.8,
                    5.8,
                    5,
                    6.7,
                    18.1,
                    2,
                    16.7,
                    7.3,
                    10.7,
                    16,
                    17.7,
                    7.2,
                    9.5,
                    8.6,
                    0.8,
                    6.3,
                    9.5,
                    8.5,
                    14.6,
                    8,
                    10,
                    8.9,
                    14.9,
                    17.3
                  ],
                  "yaxis": "y"
                }
              ],
              "layout": {
                "barmode": "relative",
                "coloraxis": {
                  "colorbar": {
                    "title": {
                      "text": "Renewable Energy (%)"
                    }
                  },
                  "colorscale": [
                    [
                      0,
                      "#00224e"
                    ],
                    [
                      0.1111111111111111,
                      "#123570"
                    ],
                    [
                      0.2222222222222222,
                      "#3b496c"
                    ],
                    [
                      0.3333333333333333,
                      "#575d6d"
                    ],
                    [
                      0.4444444444444444,
                      "#707173"
                    ],
                    [
                      0.5555555555555556,
                      "#8a8678"
                    ],
                    [
                      0.6666666666666666,
                      "#a59c74"
                    ],
                    [
                      0.7777777777777778,
                      "#c3b369"
                    ],
                    [
                      0.8888888888888888,
                      "#e1cc55"
                    ],
                    [
                      1,
                      "#fee838"
                    ]
                  ]
                },
                "legend": {
                  "tracegroupgap": 0
                },
                "template": {
                  "data": {
                    "bar": [
                      {
                        "error_x": {
                          "color": "#2a3f5f"
                        },
                        "error_y": {
                          "color": "#2a3f5f"
                        },
                        "marker": {
                          "line": {
                            "color": "white",
                            "width": 0.5
                          },
                          "pattern": {
                            "fillmode": "overlay",
                            "size": 10,
                            "solidity": 0.2
                          }
                        },
                        "type": "bar"
                      }
                    ],
                    "barpolar": [
                      {
                        "marker": {
                          "line": {
                            "color": "white",
                            "width": 0.5
                          },
                          "pattern": {
                            "fillmode": "overlay",
                            "size": 10,
                            "solidity": 0.2
                          }
                        },
                        "type": "barpolar"
                      }
                    ],
                    "carpet": [
                      {
                        "aaxis": {
                          "endlinecolor": "#2a3f5f",
                          "gridcolor": "#C8D4E3",
                          "linecolor": "#C8D4E3",
                          "minorgridcolor": "#C8D4E3",
                          "startlinecolor": "#2a3f5f"
                        },
                        "baxis": {
                          "endlinecolor": "#2a3f5f",
                          "gridcolor": "#C8D4E3",
                          "linecolor": "#C8D4E3",
                          "minorgridcolor": "#C8D4E3",
                          "startlinecolor": "#2a3f5f"
                        },
                        "type": "carpet"
                      }
                    ],
                    "choropleth": [
                      {
                        "colorbar": {
                          "outlinewidth": 0,
                          "ticks": ""
                        },
                        "type": "choropleth"
                      }
                    ],
                    "contour": [
                      {
                        "colorbar": {
                          "outlinewidth": 0,
                          "ticks": ""
                        },
                        "colorscale": [
                          [
                            0,
                            "#0d0887"
                          ],
                          [
                            0.1111111111111111,
                            "#46039f"
                          ],
                          [
                            0.2222222222222222,
                            "#7201a8"
                          ],
                          [
                            0.3333333333333333,
                            "#9c179e"
                          ],
                          [
                            0.4444444444444444,
                            "#bd3786"
                          ],
                          [
                            0.5555555555555556,
                            "#d8576b"
                          ],
                          [
                            0.6666666666666666,
                            "#ed7953"
                          ],
                          [
                            0.7777777777777778,
                            "#fb9f3a"
                          ],
                          [
                            0.8888888888888888,
                            "#fdca26"
                          ],
                          [
                            1,
                            "#f0f921"
                          ]
                        ],
                        "type": "contour"
                      }
                    ],
                    "contourcarpet": [
                      {
                        "colorbar": {
                          "outlinewidth": 0,
                          "ticks": ""
                        },
                        "type": "contourcarpet"
                      }
                    ],
                    "heatmap": [
                      {
                        "colorbar": {
                          "outlinewidth": 0,
                          "ticks": ""
                        },
                        "colorscale": [
                          [
                            0,
                            "#0d0887"
                          ],
                          [
                            0.1111111111111111,
                            "#46039f"
                          ],
                          [
                            0.2222222222222222,
                            "#7201a8"
                          ],
                          [
                            0.3333333333333333,
                            "#9c179e"
                          ],
                          [
                            0.4444444444444444,
                            "#bd3786"
                          ],
                          [
                            0.5555555555555556,
                            "#d8576b"
                          ],
                          [
                            0.6666666666666666,
                            "#ed7953"
                          ],
                          [
                            0.7777777777777778,
                            "#fb9f3a"
                          ],
                          [
                            0.8888888888888888,
                            "#fdca26"
                          ],
                          [
                            1,
                            "#f0f921"
                          ]
                        ],
                        "type": "heatmap"
                      }
                    ],
                    "heatmapgl": [
                      {
                        "colorbar": {
                          "outlinewidth": 0,
                          "ticks": ""
                        },
                        "colorscale": [
                          [
                            0,
                            "#0d0887"
                          ],
                          [
                            0.1111111111111111,
                            "#46039f"
                          ],
                          [
                            0.2222222222222222,
                            "#7201a8"
                          ],
                          [
                            0.3333333333333333,
                            "#9c179e"
                          ],
                          [
                            0.4444444444444444,
                            "#bd3786"
                          ],
                          [
                            0.5555555555555556,
                            "#d8576b"
                          ],
                          [
                            0.6666666666666666,
                            "#ed7953"
                          ],
                          [
                            0.7777777777777778,
                            "#fb9f3a"
                          ],
                          [
                            0.8888888888888888,
                            "#fdca26"
                          ],
                          [
                            1,
                            "#f0f921"
                          ]
                        ],
                        "type": "heatmapgl"
                      }
                    ],
                    "histogram": [
                      {
                        "marker": {
                          "pattern": {
                            "fillmode": "overlay",
                            "size": 10,
                            "solidity": 0.2
                          }
                        },
                        "type": "histogram"
                      }
                    ],
                    "histogram2d": [
                      {
                        "colorbar": {
                          "outlinewidth": 0,
                          "ticks": ""
                        },
                        "colorscale": [
                          [
                            0,
                            "#0d0887"
                          ],
                          [
                            0.1111111111111111,
                            "#46039f"
                          ],
                          [
                            0.2222222222222222,
                            "#7201a8"
                          ],
                          [
                            0.3333333333333333,
                            "#9c179e"
                          ],
                          [
                            0.4444444444444444,
                            "#bd3786"
                          ],
                          [
                            0.5555555555555556,
                            "#d8576b"
                          ],
                          [
                            0.6666666666666666,
                            "#ed7953"
                          ],
                          [
                            0.7777777777777778,
                            "#fb9f3a"
                          ],
                          [
                            0.8888888888888888,
                            "#fdca26"
                          ],
                          [
                            1,
                            "#f0f921"
                          ]
                        ],
                        "type": "histogram2d"
                      }
                    ],
                    "histogram2dcontour": [
                      {
                        "colorbar": {
                          "outlinewidth": 0,
                          "ticks": ""
                        },
                        "colorscale": [
                          [
                            0,
                            "#0d0887"
                          ],
                          [
                            0.1111111111111111,
                            "#46039f"
                          ],
                          [
                            0.2222222222222222,
                            "#7201a8"
                          ],
                          [
                            0.3333333333333333,
                            "#9c179e"
                          ],
                          [
                            0.4444444444444444,
                            "#bd3786"
                          ],
                          [
                            0.5555555555555556,
                            "#d8576b"
                          ],
                          [
                            0.6666666666666666,
                            "#ed7953"
                          ],
                          [
                            0.7777777777777778,
                            "#fb9f3a"
                          ],
                          [
                            0.8888888888888888,
                            "#fdca26"
                          ],
                          [
                            1,
                            "#f0f921"
                          ]
                        ],
                        "type": "histogram2dcontour"
                      }
                    ],
                    "mesh3d": [
                      {
                        "colorbar": {
                          "outlinewidth": 0,
                          "ticks": ""
                        },
                        "type": "mesh3d"
                      }
                    ],
                    "parcoords": [
                      {
                        "line": {
                          "colorbar": {
                            "outlinewidth": 0,
                            "ticks": ""
                          }
                        },
                        "type": "parcoords"
                      }
                    ],
                    "pie": [
                      {
                        "automargin": true,
                        "type": "pie"
                      }
                    ],
                    "scatter": [
                      {
                        "fillpattern": {
                          "fillmode": "overlay",
                          "size": 10,
                          "solidity": 0.2
                        },
                        "type": "scatter"
                      }
                    ],
                    "scatter3d": [
                      {
                        "line": {
                          "colorbar": {
                            "outlinewidth": 0,
                            "ticks": ""
                          }
                        },
                        "marker": {
                          "colorbar": {
                            "outlinewidth": 0,
                            "ticks": ""
                          }
                        },
                        "type": "scatter3d"
                      }
                    ],
                    "scattercarpet": [
                      {
                        "marker": {
                          "colorbar": {
                            "outlinewidth": 0,
                            "ticks": ""
                          }
                        },
                        "type": "scattercarpet"
                      }
                    ],
                    "scattergeo": [
                      {
                        "marker": {
                          "colorbar": {
                            "outlinewidth": 0,
                            "ticks": ""
                          }
                        },
                        "type": "scattergeo"
                      }
                    ],
                    "scattergl": [
                      {
                        "marker": {
                          "colorbar": {
                            "outlinewidth": 0,
                            "ticks": ""
                          }
                        },
                        "type": "scattergl"
                      }
                    ],
                    "scattermapbox": [
                      {
                        "marker": {
                          "colorbar": {
                            "outlinewidth": 0,
                            "ticks": ""
                          }
                        },
                        "type": "scattermapbox"
                      }
                    ],
                    "scatterpolar": [
                      {
                        "marker": {
                          "colorbar": {
                            "outlinewidth": 0,
                            "ticks": ""
                          }
                        },
                        "type": "scatterpolar"
                      }
                    ],
                    "scatterpolargl": [
                      {
                        "marker": {
                          "colorbar": {
                            "outlinewidth": 0,
                            "ticks": ""
                          }
                        },
                        "type": "scatterpolargl"
                      }
                    ],
                    "scatterternary": [
                      {
                        "marker": {
                          "colorbar": {
                            "outlinewidth": 0,
                            "ticks": ""
                          }
                        },
                        "type": "scatterternary"
                      }
                    ],
                    "surface": [
                      {
                        "colorbar": {
                          "outlinewidth": 0,
                          "ticks": ""
                        },
                        "colorscale": [
                          [
                            0,
                            "#0d0887"
                          ],
                          [
                            0.1111111111111111,
                            "#46039f"
                          ],
                          [
                            0.2222222222222222,
                            "#7201a8"
                          ],
                          [
                            0.3333333333333333,
                            "#9c179e"
                          ],
                          [
                            0.4444444444444444,
                            "#bd3786"
                          ],
                          [
                            0.5555555555555556,
                            "#d8576b"
                          ],
                          [
                            0.6666666666666666,
                            "#ed7953"
                          ],
                          [
                            0.7777777777777778,
                            "#fb9f3a"
                          ],
                          [
                            0.8888888888888888,
                            "#fdca26"
                          ],
                          [
                            1,
                            "#f0f921"
                          ]
                        ],
                        "type": "surface"
                      }
                    ],
                    "table": [
                      {
                        "cells": {
                          "fill": {
                            "color": "#EBF0F8"
                          },
                          "line": {
                            "color": "white"
                          }
                        },
                        "header": {
                          "fill": {
                            "color": "#C8D4E3"
                          },
                          "line": {
                            "color": "white"
                          }
                        },
                        "type": "table"
                      }
                    ]
                  },
                  "layout": {
                    "annotationdefaults": {
                      "arrowcolor": "#2a3f5f",
                      "arrowhead": 0,
                      "arrowwidth": 1
                    },
                    "autotypenumbers": "strict",
                    "coloraxis": {
                      "colorbar": {
                        "outlinewidth": 0,
                        "ticks": ""
                      }
                    },
                    "colorscale": {
                      "diverging": [
                        [
                          0,
                          "#8e0152"
                        ],
                        [
                          0.1,
                          "#c51b7d"
                        ],
                        [
                          0.2,
                          "#de77ae"
                        ],
                        [
                          0.3,
                          "#f1b6da"
                        ],
                        [
                          0.4,
                          "#fde0ef"
                        ],
                        [
                          0.5,
                          "#f7f7f7"
                        ],
                        [
                          0.6,
                          "#e6f5d0"
                        ],
                        [
                          0.7,
                          "#b8e186"
                        ],
                        [
                          0.8,
                          "#7fbc41"
                        ],
                        [
                          0.9,
                          "#4d9221"
                        ],
                        [
                          1,
                          "#276419"
                        ]
                      ],
                      "sequential": [
                        [
                          0,
                          "#0d0887"
                        ],
                        [
                          0.1111111111111111,
                          "#46039f"
                        ],
                        [
                          0.2222222222222222,
                          "#7201a8"
                        ],
                        [
                          0.3333333333333333,
                          "#9c179e"
                        ],
                        [
                          0.4444444444444444,
                          "#bd3786"
                        ],
                        [
                          0.5555555555555556,
                          "#d8576b"
                        ],
                        [
                          0.6666666666666666,
                          "#ed7953"
                        ],
                        [
                          0.7777777777777778,
                          "#fb9f3a"
                        ],
                        [
                          0.8888888888888888,
                          "#fdca26"
                        ],
                        [
                          1,
                          "#f0f921"
                        ]
                      ],
                      "sequentialminus": [
                        [
                          0,
                          "#0d0887"
                        ],
                        [
                          0.1111111111111111,
                          "#46039f"
                        ],
                        [
                          0.2222222222222222,
                          "#7201a8"
                        ],
                        [
                          0.3333333333333333,
                          "#9c179e"
                        ],
                        [
                          0.4444444444444444,
                          "#bd3786"
                        ],
                        [
                          0.5555555555555556,
                          "#d8576b"
                        ],
                        [
                          0.6666666666666666,
                          "#ed7953"
                        ],
                        [
                          0.7777777777777778,
                          "#fb9f3a"
                        ],
                        [
                          0.8888888888888888,
                          "#fdca26"
                        ],
                        [
                          1,
                          "#f0f921"
                        ]
                      ]
                    },
                    "colorway": [
                      "#636efa",
                      "#EF553B",
                      "#00cc96",
                      "#ab63fa",
                      "#FFA15A",
                      "#19d3f3",
                      "#FF6692",
                      "#B6E880",
                      "#FF97FF",
                      "#FECB52"
                    ],
                    "font": {
                      "color": "#2a3f5f"
                    },
                    "geo": {
                      "bgcolor": "white",
                      "lakecolor": "white",
                      "landcolor": "white",
                      "showlakes": true,
                      "showland": true,
                      "subunitcolor": "#C8D4E3"
                    },
                    "hoverlabel": {
                      "align": "left"
                    },
                    "hovermode": "closest",
                    "mapbox": {
                      "style": "light"
                    },
                    "paper_bgcolor": "white",
                    "plot_bgcolor": "white",
                    "polar": {
                      "angularaxis": {
                        "gridcolor": "#EBF0F8",
                        "linecolor": "#EBF0F8",
                        "ticks": ""
                      },
                      "bgcolor": "white",
                      "radialaxis": {
                        "gridcolor": "#EBF0F8",
                        "linecolor": "#EBF0F8",
                        "ticks": ""
                      }
                    },
                    "scene": {
                      "xaxis": {
                        "backgroundcolor": "white",
                        "gridcolor": "#DFE8F3",
                        "gridwidth": 2,
                        "linecolor": "#EBF0F8",
                        "showbackground": true,
                        "ticks": "",
                        "zerolinecolor": "#EBF0F8"
                      },
                      "yaxis": {
                        "backgroundcolor": "white",
                        "gridcolor": "#DFE8F3",
                        "gridwidth": 2,
                        "linecolor": "#EBF0F8",
                        "showbackground": true,
                        "ticks": "",
                        "zerolinecolor": "#EBF0F8"
                      },
                      "zaxis": {
                        "backgroundcolor": "white",
                        "gridcolor": "#DFE8F3",
                        "gridwidth": 2,
                        "linecolor": "#EBF0F8",
                        "showbackground": true,
                        "ticks": "",
                        "zerolinecolor": "#EBF0F8"
                      }
                    },
                    "shapedefaults": {
                      "line": {
                        "color": "#2a3f5f"
                      }
                    },
                    "ternary": {
                      "aaxis": {
                        "gridcolor": "#DFE8F3",
                        "linecolor": "#A2B1C6",
                        "ticks": ""
                      },
                      "baxis": {
                        "gridcolor": "#DFE8F3",
                        "linecolor": "#A2B1C6",
                        "ticks": ""
                      },
                      "bgcolor": "white",
                      "caxis": {
                        "gridcolor": "#DFE8F3",
                        "linecolor": "#A2B1C6",
                        "ticks": ""
                      }
                    },
                    "title": {
                      "x": 0.05
                    },
                    "xaxis": {
                      "automargin": true,
                      "gridcolor": "#EBF0F8",
                      "linecolor": "#EBF0F8",
                      "ticks": "",
                      "title": {
                        "standoff": 15
                      },
                      "zerolinecolor": "#EBF0F8",
                      "zerolinewidth": 2
                    },
                    "yaxis": {
                      "automargin": true,
                      "gridcolor": "#EBF0F8",
                      "linecolor": "#EBF0F8",
                      "ticks": "",
                      "title": {
                        "standoff": 15
                      },
                      "zerolinecolor": "#EBF0F8",
                      "zerolinewidth": 2
                    }
                  }
                },
                "title": {
                  "text": "Impact of Renewable Energy on CO2 Emissions"
                },
                "xaxis": {
                  "anchor": "y",
                  "domain": [
                    0,
                    1
                  ],
                  "tickangle": -45,
                  "title": {
                    "text": "Country"
                  }
                },
                "yaxis": {
                  "anchor": "x",
                  "domain": [
                    0,
                    1
                  ],
                  "title": {
                    "text": "CO2 Emissions (tons per capita)"
                  }
                }
              }
            }
          },
          "metadata": {},
          "output_type": "display_data"
        }
      ],
      "source": [
        "# Create a bar chart for Renewable Energy vs. CO2 Emissions\n",
        "fig = px.bar(df, x=\"Country\", y=\"CO2_Emissions_tons_per_capita\",\n",
        "             color=\"Renewable_Energy_pct\",\n",
        "             title=\"Impact of Renewable Energy on CO2 Emissions\",\n",
        "             labels={\"CO2_Emissions_tons_per_capita\": \"CO2 Emissions (tons per capita)\",\n",
        "                     \"Renewable_Energy_pct\": \"Renewable Energy (%)\"},\n",
        "             color_continuous_scale=px.colors.sequential.Cividis)  # Color-blind friendly\n",
        "\n",
        "# Improve interactivity\n",
        "fig.update_layout(\n",
        "    xaxis=dict(title=\"Country\", tickangle=-45),  # Rotate country names for readability\n",
        "    yaxis=dict(title=\"CO2 Emissions (tons per capita)\"),\n",
        "    template=\"plotly_white\"\n",
        ")\n",
        "\n",
        "# Show the interactive bar chart\n",
        "fig.show()"
      ]
    },
    {
      "cell_type": "markdown",
      "metadata": {},
      "source": [
        "Hypothesis: \"A decrease in forest area percentage leads to an increase in extreme weather events.\" Visualization: Dual-axis line chart showing trends."
      ]
    },
    {
      "cell_type": "code",
      "execution_count": null,
      "metadata": {},
      "outputs": [
        {
          "data": {
            "application/vnd.plotly.v1+json": {
              "config": {
                "plotlyServerURL": "https://plot.ly"
              },
              "data": [
                {
                  "line": {
                    "color": "green"
                  },
                  "mode": "lines+markers",
                  "name": "Forest Area (%)",
                  "type": "scatter",
                  "x": [
                    2000,
                    2001,
                    2002,
                    2003,
                    2004,
                    2005,
                    2006,
                    2007,
                    2008,
                    2009,
                    2010,
                    2011,
                    2012,
                    2013,
                    2014,
                    2015,
                    2016,
                    2017,
                    2018,
                    2019,
                    2020,
                    2021,
                    2022,
                    2023
                  ],
                  "y": [
                    41.890566037735844,
                    42.21707317073171,
                    41.062745098039215,
                    39.165853658536584,
                    42.238,
                    40.73513513513514,
                    40.702564102564104,
                    42.1875,
                    43.02222222222222,
                    44.2939393939394,
                    40.92333333333333,
                    41.038636363636364,
                    38.226190476190474,
                    35.86129032258064,
                    37.434090909090905,
                    40.097674418604655,
                    40.20980392156862,
                    39.7875,
                    41.4804347826087,
                    45.7725,
                    40,
                    39.12173913043478,
                    36.757777777777775,
                    39.47380952380953
                  ]
                },
                {
                  "line": {
                    "color": "red"
                  },
                  "mode": "lines+markers",
                  "name": "Extreme Weather Events",
                  "type": "scatter",
                  "x": [
                    2000,
                    2001,
                    2002,
                    2003,
                    2004,
                    2005,
                    2006,
                    2007,
                    2008,
                    2009,
                    2010,
                    2011,
                    2012,
                    2013,
                    2014,
                    2015,
                    2016,
                    2017,
                    2018,
                    2019,
                    2020,
                    2021,
                    2022,
                    2023
                  ],
                  "y": [
                    7.830188679245283,
                    7.682926829268292,
                    7.0588235294117645,
                    7.975609756097561,
                    6.42,
                    7.702702702702703,
                    7.666666666666667,
                    7.6,
                    8,
                    6.090909090909091,
                    7.266666666666667,
                    6.636363636363637,
                    6.857142857142857,
                    8.258064516129032,
                    6.886363636363637,
                    8.046511627906977,
                    6.9411764705882355,
                    6.84375,
                    7.195652173913044,
                    8.2,
                    5.930232558139535,
                    7.913043478260869,
                    7.266666666666667,
                    7.023809523809524
                  ],
                  "yaxis": "y2"
                }
              ],
              "layout": {
                "template": {
                  "data": {
                    "bar": [
                      {
                        "error_x": {
                          "color": "#2a3f5f"
                        },
                        "error_y": {
                          "color": "#2a3f5f"
                        },
                        "marker": {
                          "line": {
                            "color": "white",
                            "width": 0.5
                          },
                          "pattern": {
                            "fillmode": "overlay",
                            "size": 10,
                            "solidity": 0.2
                          }
                        },
                        "type": "bar"
                      }
                    ],
                    "barpolar": [
                      {
                        "marker": {
                          "line": {
                            "color": "white",
                            "width": 0.5
                          },
                          "pattern": {
                            "fillmode": "overlay",
                            "size": 10,
                            "solidity": 0.2
                          }
                        },
                        "type": "barpolar"
                      }
                    ],
                    "carpet": [
                      {
                        "aaxis": {
                          "endlinecolor": "#2a3f5f",
                          "gridcolor": "#C8D4E3",
                          "linecolor": "#C8D4E3",
                          "minorgridcolor": "#C8D4E3",
                          "startlinecolor": "#2a3f5f"
                        },
                        "baxis": {
                          "endlinecolor": "#2a3f5f",
                          "gridcolor": "#C8D4E3",
                          "linecolor": "#C8D4E3",
                          "minorgridcolor": "#C8D4E3",
                          "startlinecolor": "#2a3f5f"
                        },
                        "type": "carpet"
                      }
                    ],
                    "choropleth": [
                      {
                        "colorbar": {
                          "outlinewidth": 0,
                          "ticks": ""
                        },
                        "type": "choropleth"
                      }
                    ],
                    "contour": [
                      {
                        "colorbar": {
                          "outlinewidth": 0,
                          "ticks": ""
                        },
                        "colorscale": [
                          [
                            0,
                            "#0d0887"
                          ],
                          [
                            0.1111111111111111,
                            "#46039f"
                          ],
                          [
                            0.2222222222222222,
                            "#7201a8"
                          ],
                          [
                            0.3333333333333333,
                            "#9c179e"
                          ],
                          [
                            0.4444444444444444,
                            "#bd3786"
                          ],
                          [
                            0.5555555555555556,
                            "#d8576b"
                          ],
                          [
                            0.6666666666666666,
                            "#ed7953"
                          ],
                          [
                            0.7777777777777778,
                            "#fb9f3a"
                          ],
                          [
                            0.8888888888888888,
                            "#fdca26"
                          ],
                          [
                            1,
                            "#f0f921"
                          ]
                        ],
                        "type": "contour"
                      }
                    ],
                    "contourcarpet": [
                      {
                        "colorbar": {
                          "outlinewidth": 0,
                          "ticks": ""
                        },
                        "type": "contourcarpet"
                      }
                    ],
                    "heatmap": [
                      {
                        "colorbar": {
                          "outlinewidth": 0,
                          "ticks": ""
                        },
                        "colorscale": [
                          [
                            0,
                            "#0d0887"
                          ],
                          [
                            0.1111111111111111,
                            "#46039f"
                          ],
                          [
                            0.2222222222222222,
                            "#7201a8"
                          ],
                          [
                            0.3333333333333333,
                            "#9c179e"
                          ],
                          [
                            0.4444444444444444,
                            "#bd3786"
                          ],
                          [
                            0.5555555555555556,
                            "#d8576b"
                          ],
                          [
                            0.6666666666666666,
                            "#ed7953"
                          ],
                          [
                            0.7777777777777778,
                            "#fb9f3a"
                          ],
                          [
                            0.8888888888888888,
                            "#fdca26"
                          ],
                          [
                            1,
                            "#f0f921"
                          ]
                        ],
                        "type": "heatmap"
                      }
                    ],
                    "heatmapgl": [
                      {
                        "colorbar": {
                          "outlinewidth": 0,
                          "ticks": ""
                        },
                        "colorscale": [
                          [
                            0,
                            "#0d0887"
                          ],
                          [
                            0.1111111111111111,
                            "#46039f"
                          ],
                          [
                            0.2222222222222222,
                            "#7201a8"
                          ],
                          [
                            0.3333333333333333,
                            "#9c179e"
                          ],
                          [
                            0.4444444444444444,
                            "#bd3786"
                          ],
                          [
                            0.5555555555555556,
                            "#d8576b"
                          ],
                          [
                            0.6666666666666666,
                            "#ed7953"
                          ],
                          [
                            0.7777777777777778,
                            "#fb9f3a"
                          ],
                          [
                            0.8888888888888888,
                            "#fdca26"
                          ],
                          [
                            1,
                            "#f0f921"
                          ]
                        ],
                        "type": "heatmapgl"
                      }
                    ],
                    "histogram": [
                      {
                        "marker": {
                          "pattern": {
                            "fillmode": "overlay",
                            "size": 10,
                            "solidity": 0.2
                          }
                        },
                        "type": "histogram"
                      }
                    ],
                    "histogram2d": [
                      {
                        "colorbar": {
                          "outlinewidth": 0,
                          "ticks": ""
                        },
                        "colorscale": [
                          [
                            0,
                            "#0d0887"
                          ],
                          [
                            0.1111111111111111,
                            "#46039f"
                          ],
                          [
                            0.2222222222222222,
                            "#7201a8"
                          ],
                          [
                            0.3333333333333333,
                            "#9c179e"
                          ],
                          [
                            0.4444444444444444,
                            "#bd3786"
                          ],
                          [
                            0.5555555555555556,
                            "#d8576b"
                          ],
                          [
                            0.6666666666666666,
                            "#ed7953"
                          ],
                          [
                            0.7777777777777778,
                            "#fb9f3a"
                          ],
                          [
                            0.8888888888888888,
                            "#fdca26"
                          ],
                          [
                            1,
                            "#f0f921"
                          ]
                        ],
                        "type": "histogram2d"
                      }
                    ],
                    "histogram2dcontour": [
                      {
                        "colorbar": {
                          "outlinewidth": 0,
                          "ticks": ""
                        },
                        "colorscale": [
                          [
                            0,
                            "#0d0887"
                          ],
                          [
                            0.1111111111111111,
                            "#46039f"
                          ],
                          [
                            0.2222222222222222,
                            "#7201a8"
                          ],
                          [
                            0.3333333333333333,
                            "#9c179e"
                          ],
                          [
                            0.4444444444444444,
                            "#bd3786"
                          ],
                          [
                            0.5555555555555556,
                            "#d8576b"
                          ],
                          [
                            0.6666666666666666,
                            "#ed7953"
                          ],
                          [
                            0.7777777777777778,
                            "#fb9f3a"
                          ],
                          [
                            0.8888888888888888,
                            "#fdca26"
                          ],
                          [
                            1,
                            "#f0f921"
                          ]
                        ],
                        "type": "histogram2dcontour"
                      }
                    ],
                    "mesh3d": [
                      {
                        "colorbar": {
                          "outlinewidth": 0,
                          "ticks": ""
                        },
                        "type": "mesh3d"
                      }
                    ],
                    "parcoords": [
                      {
                        "line": {
                          "colorbar": {
                            "outlinewidth": 0,
                            "ticks": ""
                          }
                        },
                        "type": "parcoords"
                      }
                    ],
                    "pie": [
                      {
                        "automargin": true,
                        "type": "pie"
                      }
                    ],
                    "scatter": [
                      {
                        "fillpattern": {
                          "fillmode": "overlay",
                          "size": 10,
                          "solidity": 0.2
                        },
                        "type": "scatter"
                      }
                    ],
                    "scatter3d": [
                      {
                        "line": {
                          "colorbar": {
                            "outlinewidth": 0,
                            "ticks": ""
                          }
                        },
                        "marker": {
                          "colorbar": {
                            "outlinewidth": 0,
                            "ticks": ""
                          }
                        },
                        "type": "scatter3d"
                      }
                    ],
                    "scattercarpet": [
                      {
                        "marker": {
                          "colorbar": {
                            "outlinewidth": 0,
                            "ticks": ""
                          }
                        },
                        "type": "scattercarpet"
                      }
                    ],
                    "scattergeo": [
                      {
                        "marker": {
                          "colorbar": {
                            "outlinewidth": 0,
                            "ticks": ""
                          }
                        },
                        "type": "scattergeo"
                      }
                    ],
                    "scattergl": [
                      {
                        "marker": {
                          "colorbar": {
                            "outlinewidth": 0,
                            "ticks": ""
                          }
                        },
                        "type": "scattergl"
                      }
                    ],
                    "scattermapbox": [
                      {
                        "marker": {
                          "colorbar": {
                            "outlinewidth": 0,
                            "ticks": ""
                          }
                        },
                        "type": "scattermapbox"
                      }
                    ],
                    "scatterpolar": [
                      {
                        "marker": {
                          "colorbar": {
                            "outlinewidth": 0,
                            "ticks": ""
                          }
                        },
                        "type": "scatterpolar"
                      }
                    ],
                    "scatterpolargl": [
                      {
                        "marker": {
                          "colorbar": {
                            "outlinewidth": 0,
                            "ticks": ""
                          }
                        },
                        "type": "scatterpolargl"
                      }
                    ],
                    "scatterternary": [
                      {
                        "marker": {
                          "colorbar": {
                            "outlinewidth": 0,
                            "ticks": ""
                          }
                        },
                        "type": "scatterternary"
                      }
                    ],
                    "surface": [
                      {
                        "colorbar": {
                          "outlinewidth": 0,
                          "ticks": ""
                        },
                        "colorscale": [
                          [
                            0,
                            "#0d0887"
                          ],
                          [
                            0.1111111111111111,
                            "#46039f"
                          ],
                          [
                            0.2222222222222222,
                            "#7201a8"
                          ],
                          [
                            0.3333333333333333,
                            "#9c179e"
                          ],
                          [
                            0.4444444444444444,
                            "#bd3786"
                          ],
                          [
                            0.5555555555555556,
                            "#d8576b"
                          ],
                          [
                            0.6666666666666666,
                            "#ed7953"
                          ],
                          [
                            0.7777777777777778,
                            "#fb9f3a"
                          ],
                          [
                            0.8888888888888888,
                            "#fdca26"
                          ],
                          [
                            1,
                            "#f0f921"
                          ]
                        ],
                        "type": "surface"
                      }
                    ],
                    "table": [
                      {
                        "cells": {
                          "fill": {
                            "color": "#EBF0F8"
                          },
                          "line": {
                            "color": "white"
                          }
                        },
                        "header": {
                          "fill": {
                            "color": "#C8D4E3"
                          },
                          "line": {
                            "color": "white"
                          }
                        },
                        "type": "table"
                      }
                    ]
                  },
                  "layout": {
                    "annotationdefaults": {
                      "arrowcolor": "#2a3f5f",
                      "arrowhead": 0,
                      "arrowwidth": 1
                    },
                    "autotypenumbers": "strict",
                    "coloraxis": {
                      "colorbar": {
                        "outlinewidth": 0,
                        "ticks": ""
                      }
                    },
                    "colorscale": {
                      "diverging": [
                        [
                          0,
                          "#8e0152"
                        ],
                        [
                          0.1,
                          "#c51b7d"
                        ],
                        [
                          0.2,
                          "#de77ae"
                        ],
                        [
                          0.3,
                          "#f1b6da"
                        ],
                        [
                          0.4,
                          "#fde0ef"
                        ],
                        [
                          0.5,
                          "#f7f7f7"
                        ],
                        [
                          0.6,
                          "#e6f5d0"
                        ],
                        [
                          0.7,
                          "#b8e186"
                        ],
                        [
                          0.8,
                          "#7fbc41"
                        ],
                        [
                          0.9,
                          "#4d9221"
                        ],
                        [
                          1,
                          "#276419"
                        ]
                      ],
                      "sequential": [
                        [
                          0,
                          "#0d0887"
                        ],
                        [
                          0.1111111111111111,
                          "#46039f"
                        ],
                        [
                          0.2222222222222222,
                          "#7201a8"
                        ],
                        [
                          0.3333333333333333,
                          "#9c179e"
                        ],
                        [
                          0.4444444444444444,
                          "#bd3786"
                        ],
                        [
                          0.5555555555555556,
                          "#d8576b"
                        ],
                        [
                          0.6666666666666666,
                          "#ed7953"
                        ],
                        [
                          0.7777777777777778,
                          "#fb9f3a"
                        ],
                        [
                          0.8888888888888888,
                          "#fdca26"
                        ],
                        [
                          1,
                          "#f0f921"
                        ]
                      ],
                      "sequentialminus": [
                        [
                          0,
                          "#0d0887"
                        ],
                        [
                          0.1111111111111111,
                          "#46039f"
                        ],
                        [
                          0.2222222222222222,
                          "#7201a8"
                        ],
                        [
                          0.3333333333333333,
                          "#9c179e"
                        ],
                        [
                          0.4444444444444444,
                          "#bd3786"
                        ],
                        [
                          0.5555555555555556,
                          "#d8576b"
                        ],
                        [
                          0.6666666666666666,
                          "#ed7953"
                        ],
                        [
                          0.7777777777777778,
                          "#fb9f3a"
                        ],
                        [
                          0.8888888888888888,
                          "#fdca26"
                        ],
                        [
                          1,
                          "#f0f921"
                        ]
                      ]
                    },
                    "colorway": [
                      "#636efa",
                      "#EF553B",
                      "#00cc96",
                      "#ab63fa",
                      "#FFA15A",
                      "#19d3f3",
                      "#FF6692",
                      "#B6E880",
                      "#FF97FF",
                      "#FECB52"
                    ],
                    "font": {
                      "color": "#2a3f5f"
                    },
                    "geo": {
                      "bgcolor": "white",
                      "lakecolor": "white",
                      "landcolor": "white",
                      "showlakes": true,
                      "showland": true,
                      "subunitcolor": "#C8D4E3"
                    },
                    "hoverlabel": {
                      "align": "left"
                    },
                    "hovermode": "closest",
                    "mapbox": {
                      "style": "light"
                    },
                    "paper_bgcolor": "white",
                    "plot_bgcolor": "white",
                    "polar": {
                      "angularaxis": {
                        "gridcolor": "#EBF0F8",
                        "linecolor": "#EBF0F8",
                        "ticks": ""
                      },
                      "bgcolor": "white",
                      "radialaxis": {
                        "gridcolor": "#EBF0F8",
                        "linecolor": "#EBF0F8",
                        "ticks": ""
                      }
                    },
                    "scene": {
                      "xaxis": {
                        "backgroundcolor": "white",
                        "gridcolor": "#DFE8F3",
                        "gridwidth": 2,
                        "linecolor": "#EBF0F8",
                        "showbackground": true,
                        "ticks": "",
                        "zerolinecolor": "#EBF0F8"
                      },
                      "yaxis": {
                        "backgroundcolor": "white",
                        "gridcolor": "#DFE8F3",
                        "gridwidth": 2,
                        "linecolor": "#EBF0F8",
                        "showbackground": true,
                        "ticks": "",
                        "zerolinecolor": "#EBF0F8"
                      },
                      "zaxis": {
                        "backgroundcolor": "white",
                        "gridcolor": "#DFE8F3",
                        "gridwidth": 2,
                        "linecolor": "#EBF0F8",
                        "showbackground": true,
                        "ticks": "",
                        "zerolinecolor": "#EBF0F8"
                      }
                    },
                    "shapedefaults": {
                      "line": {
                        "color": "#2a3f5f"
                      }
                    },
                    "ternary": {
                      "aaxis": {
                        "gridcolor": "#DFE8F3",
                        "linecolor": "#A2B1C6",
                        "ticks": ""
                      },
                      "baxis": {
                        "gridcolor": "#DFE8F3",
                        "linecolor": "#A2B1C6",
                        "ticks": ""
                      },
                      "bgcolor": "white",
                      "caxis": {
                        "gridcolor": "#DFE8F3",
                        "linecolor": "#A2B1C6",
                        "ticks": ""
                      }
                    },
                    "title": {
                      "x": 0.05
                    },
                    "xaxis": {
                      "automargin": true,
                      "gridcolor": "#EBF0F8",
                      "linecolor": "#EBF0F8",
                      "ticks": "",
                      "title": {
                        "standoff": 15
                      },
                      "zerolinecolor": "#EBF0F8",
                      "zerolinewidth": 2
                    },
                    "yaxis": {
                      "automargin": true,
                      "gridcolor": "#EBF0F8",
                      "linecolor": "#EBF0F8",
                      "ticks": "",
                      "title": {
                        "standoff": 15
                      },
                      "zerolinecolor": "#EBF0F8",
                      "zerolinewidth": 2
                    }
                  }
                },
                "title": {
                  "text": "Extreme Weather Events vs. Deforestation"
                },
                "xaxis": {
                  "title": {
                    "text": "Year"
                  }
                },
                "yaxis": {
                  "showgrid": false,
                  "side": "left",
                  "title": {
                    "text": "Forest Area (%)"
                  }
                },
                "yaxis2": {
                  "overlaying": "y",
                  "showgrid": false,
                  "side": "right",
                  "title": {
                    "text": "Extreme Weather Events"
                  }
                }
              }
            }
          },
          "metadata": {},
          "output_type": "display_data"
        }
      ],
      "source": [
        "# Aggregate data by year for trend analysis\n",
        "df_grouped = df.groupby(\"Year\").agg({\n",
        "    'Forest_Area_pct': 'mean',          # Example: mean of Forest_Area_pct\n",
        "    'Extreme_Weather_Events': 'mean',   # Example: mean of Extreme_Weather_Events\n",
        "    # Add other numeric columns here with their aggregation method\n",
        "}).reset_index()\n",
        "\n",
        "# Create figure\n",
        "fig = go.Figure()\n",
        "\n",
        "# Add line for Forest Area Percentage\n",
        "fig.add_trace(go.Scatter(x=df_grouped[\"Year\"], y=df_grouped[\"Forest_Area_pct\"],\n",
        "                         mode='lines+markers', name='Forest Area (%)',\n",
        "                         line=dict(color='green')))\n",
        "\n",
        "# Add line for Extreme Weather Events\n",
        "fig.add_trace(go.Scatter(x=df_grouped[\"Year\"], y=df_grouped[\"Extreme_Weather_Events\"],\n",
        "                         mode='lines+markers', name='Extreme Weather Events',\n",
        "                         line=dict(color='red'), yaxis=\"y2\"))\n",
        "\n",
        "# Update layout for dual-axis\n",
        "fig.update_layout(\n",
        "    title=\"Extreme Weather Events vs. Deforestation\",\n",
        "    xaxis=dict(title=\"Year\"),\n",
        "    yaxis=dict(title=\"Forest Area (%)\", side=\"left\", showgrid=False),\n",
        "    yaxis2=dict(title=\"Extreme Weather Events\", side=\"right\", overlaying=\"y\", showgrid=False),\n",
        "    template=\"plotly_white\"\n",
        ")\n",
        "\n",
        "# Show the plot\n",
        "fig.show()"
      ]
    },
    {
      "cell_type": "markdown",
      "metadata": {},
      "source": [
        "Hypothesis: \"Higher population growth contributes to increased CO2 emissions and rising sea levels.\" Multi-line chart with population, CO2, and sea level rise."
      ]
    },
    {
      "cell_type": "code",
      "execution_count": null,
      "metadata": {},
      "outputs": [
        {
          "name": "stdout",
          "output_type": "stream",
          "text": [
            "Index(['Population', 'CO2_Emissions_tons_per_capita', 'Sea_Level_Rise_mm'], dtype='object')\n"
          ]
        }
      ],
      "source": [
        "# Check the grouped data\n",
        "df_grouped = df.groupby(\"Year\")[['Population', 'CO2_Emissions_tons_per_capita', 'Sea_Level_Rise_mm']].sum()\n",
        "print(df_grouped.columns)  # Ensure 'Population' is present"
      ]
    },
    {
      "cell_type": "code",
      "execution_count": null,
      "metadata": {},
      "outputs": [
        {
          "name": "stdout",
          "output_type": "stream",
          "text": [
            "Index(['Year', 'Country', 'Avg_Temperature_degC',\n",
            "       'CO2_Emissions_tons_per_capita', 'Sea_Level_Rise_mm', 'Rainfall_mm',\n",
            "       'Population', 'Renewable_Energy_pct', 'Extreme_Weather_Events',\n",
            "       'Forest_Area_pct'],\n",
            "      dtype='object')\n",
            "Index(['Population', 'CO2_Emissions_tons_per_capita', 'Sea_Level_Rise_mm'], dtype='object')\n"
          ]
        }
      ],
      "source": [
        "# 1. Check the original column names\n",
        "print(df.columns)\n",
        "\n",
        "# 2. Perform the grouping operation\n",
        "df_grouped = df.groupby(\"Year\")[['Population', 'CO2_Emissions_tons_per_capita', 'Sea_Level_Rise_mm']].sum()\n",
        "\n",
        "# 3. Check the columns after grouping\n",
        "print(df_grouped.columns)\n"
      ]
    },
    {
      "cell_type": "markdown",
      "metadata": {},
      "source": [
        "---"
      ]
    },
    {
      "cell_type": "code",
      "execution_count": null,
      "metadata": {},
      "outputs": [
        {
          "name": "stdout",
          "output_type": "stream",
          "text": [
            "Index(['Year', 'Country', 'Avg_Temperature_degC',\n",
            "       'CO2_Emissions_tons_per_capita', 'Sea_Level_Rise_mm', 'Rainfall_mm',\n",
            "       'Population', 'Renewable_Energy_pct', 'Extreme_Weather_Events',\n",
            "       'Forest_Area_pct'],\n",
            "      dtype='object')\n",
            "Index(['index', 'Year', 'Population', 'CO2_Emissions_tons_per_capita',\n",
            "       'Sea_Level_Rise_mm'],\n",
            "      dtype='object')\n"
          ]
        },
        {
          "data": {
            "application/vnd.plotly.v1+json": {
              "config": {
                "plotlyServerURL": "https://plot.ly"
              },
              "data": [
                {
                  "line": {
                    "color": "blue"
                  },
                  "mode": "lines+markers",
                  "name": "Population",
                  "type": "scatter",
                  "x": [
                    2000,
                    2001,
                    2002,
                    2003,
                    2004,
                    2005,
                    2006,
                    2007,
                    2008,
                    2009,
                    2010,
                    2011,
                    2012,
                    2013,
                    2014,
                    2015,
                    2016,
                    2017,
                    2018,
                    2019,
                    2020,
                    2021,
                    2022,
                    2023
                  ],
                  "y": [
                    33106874222,
                    27180550508,
                    29486389681,
                    27462195566,
                    34627216578,
                    29647998512,
                    28680281598,
                    26291359545,
                    23417013819,
                    23271445680,
                    21627532211,
                    36106019344,
                    29255979125,
                    20335400441,
                    32072245827,
                    27003922941,
                    38379863043,
                    28933562411,
                    31078209629,
                    28678995974,
                    30013257563,
                    32463947580,
                    33791232105,
                    32471552710
                  ]
                }
              ],
              "layout": {
                "template": {
                  "data": {
                    "bar": [
                      {
                        "error_x": {
                          "color": "#f2f5fa"
                        },
                        "error_y": {
                          "color": "#f2f5fa"
                        },
                        "marker": {
                          "line": {
                            "color": "rgb(17,17,17)",
                            "width": 0.5
                          },
                          "pattern": {
                            "fillmode": "overlay",
                            "size": 10,
                            "solidity": 0.2
                          }
                        },
                        "type": "bar"
                      }
                    ],
                    "barpolar": [
                      {
                        "marker": {
                          "line": {
                            "color": "rgb(17,17,17)",
                            "width": 0.5
                          },
                          "pattern": {
                            "fillmode": "overlay",
                            "size": 10,
                            "solidity": 0.2
                          }
                        },
                        "type": "barpolar"
                      }
                    ],
                    "carpet": [
                      {
                        "aaxis": {
                          "endlinecolor": "#A2B1C6",
                          "gridcolor": "#506784",
                          "linecolor": "#506784",
                          "minorgridcolor": "#506784",
                          "startlinecolor": "#A2B1C6"
                        },
                        "baxis": {
                          "endlinecolor": "#A2B1C6",
                          "gridcolor": "#506784",
                          "linecolor": "#506784",
                          "minorgridcolor": "#506784",
                          "startlinecolor": "#A2B1C6"
                        },
                        "type": "carpet"
                      }
                    ],
                    "choropleth": [
                      {
                        "colorbar": {
                          "outlinewidth": 0,
                          "ticks": ""
                        },
                        "type": "choropleth"
                      }
                    ],
                    "contour": [
                      {
                        "colorbar": {
                          "outlinewidth": 0,
                          "ticks": ""
                        },
                        "colorscale": [
                          [
                            0,
                            "#0d0887"
                          ],
                          [
                            0.1111111111111111,
                            "#46039f"
                          ],
                          [
                            0.2222222222222222,
                            "#7201a8"
                          ],
                          [
                            0.3333333333333333,
                            "#9c179e"
                          ],
                          [
                            0.4444444444444444,
                            "#bd3786"
                          ],
                          [
                            0.5555555555555556,
                            "#d8576b"
                          ],
                          [
                            0.6666666666666666,
                            "#ed7953"
                          ],
                          [
                            0.7777777777777778,
                            "#fb9f3a"
                          ],
                          [
                            0.8888888888888888,
                            "#fdca26"
                          ],
                          [
                            1,
                            "#f0f921"
                          ]
                        ],
                        "type": "contour"
                      }
                    ],
                    "contourcarpet": [
                      {
                        "colorbar": {
                          "outlinewidth": 0,
                          "ticks": ""
                        },
                        "type": "contourcarpet"
                      }
                    ],
                    "heatmap": [
                      {
                        "colorbar": {
                          "outlinewidth": 0,
                          "ticks": ""
                        },
                        "colorscale": [
                          [
                            0,
                            "#0d0887"
                          ],
                          [
                            0.1111111111111111,
                            "#46039f"
                          ],
                          [
                            0.2222222222222222,
                            "#7201a8"
                          ],
                          [
                            0.3333333333333333,
                            "#9c179e"
                          ],
                          [
                            0.4444444444444444,
                            "#bd3786"
                          ],
                          [
                            0.5555555555555556,
                            "#d8576b"
                          ],
                          [
                            0.6666666666666666,
                            "#ed7953"
                          ],
                          [
                            0.7777777777777778,
                            "#fb9f3a"
                          ],
                          [
                            0.8888888888888888,
                            "#fdca26"
                          ],
                          [
                            1,
                            "#f0f921"
                          ]
                        ],
                        "type": "heatmap"
                      }
                    ],
                    "heatmapgl": [
                      {
                        "colorbar": {
                          "outlinewidth": 0,
                          "ticks": ""
                        },
                        "colorscale": [
                          [
                            0,
                            "#0d0887"
                          ],
                          [
                            0.1111111111111111,
                            "#46039f"
                          ],
                          [
                            0.2222222222222222,
                            "#7201a8"
                          ],
                          [
                            0.3333333333333333,
                            "#9c179e"
                          ],
                          [
                            0.4444444444444444,
                            "#bd3786"
                          ],
                          [
                            0.5555555555555556,
                            "#d8576b"
                          ],
                          [
                            0.6666666666666666,
                            "#ed7953"
                          ],
                          [
                            0.7777777777777778,
                            "#fb9f3a"
                          ],
                          [
                            0.8888888888888888,
                            "#fdca26"
                          ],
                          [
                            1,
                            "#f0f921"
                          ]
                        ],
                        "type": "heatmapgl"
                      }
                    ],
                    "histogram": [
                      {
                        "marker": {
                          "pattern": {
                            "fillmode": "overlay",
                            "size": 10,
                            "solidity": 0.2
                          }
                        },
                        "type": "histogram"
                      }
                    ],
                    "histogram2d": [
                      {
                        "colorbar": {
                          "outlinewidth": 0,
                          "ticks": ""
                        },
                        "colorscale": [
                          [
                            0,
                            "#0d0887"
                          ],
                          [
                            0.1111111111111111,
                            "#46039f"
                          ],
                          [
                            0.2222222222222222,
                            "#7201a8"
                          ],
                          [
                            0.3333333333333333,
                            "#9c179e"
                          ],
                          [
                            0.4444444444444444,
                            "#bd3786"
                          ],
                          [
                            0.5555555555555556,
                            "#d8576b"
                          ],
                          [
                            0.6666666666666666,
                            "#ed7953"
                          ],
                          [
                            0.7777777777777778,
                            "#fb9f3a"
                          ],
                          [
                            0.8888888888888888,
                            "#fdca26"
                          ],
                          [
                            1,
                            "#f0f921"
                          ]
                        ],
                        "type": "histogram2d"
                      }
                    ],
                    "histogram2dcontour": [
                      {
                        "colorbar": {
                          "outlinewidth": 0,
                          "ticks": ""
                        },
                        "colorscale": [
                          [
                            0,
                            "#0d0887"
                          ],
                          [
                            0.1111111111111111,
                            "#46039f"
                          ],
                          [
                            0.2222222222222222,
                            "#7201a8"
                          ],
                          [
                            0.3333333333333333,
                            "#9c179e"
                          ],
                          [
                            0.4444444444444444,
                            "#bd3786"
                          ],
                          [
                            0.5555555555555556,
                            "#d8576b"
                          ],
                          [
                            0.6666666666666666,
                            "#ed7953"
                          ],
                          [
                            0.7777777777777778,
                            "#fb9f3a"
                          ],
                          [
                            0.8888888888888888,
                            "#fdca26"
                          ],
                          [
                            1,
                            "#f0f921"
                          ]
                        ],
                        "type": "histogram2dcontour"
                      }
                    ],
                    "mesh3d": [
                      {
                        "colorbar": {
                          "outlinewidth": 0,
                          "ticks": ""
                        },
                        "type": "mesh3d"
                      }
                    ],
                    "parcoords": [
                      {
                        "line": {
                          "colorbar": {
                            "outlinewidth": 0,
                            "ticks": ""
                          }
                        },
                        "type": "parcoords"
                      }
                    ],
                    "pie": [
                      {
                        "automargin": true,
                        "type": "pie"
                      }
                    ],
                    "scatter": [
                      {
                        "marker": {
                          "line": {
                            "color": "#283442"
                          }
                        },
                        "type": "scatter"
                      }
                    ],
                    "scatter3d": [
                      {
                        "line": {
                          "colorbar": {
                            "outlinewidth": 0,
                            "ticks": ""
                          }
                        },
                        "marker": {
                          "colorbar": {
                            "outlinewidth": 0,
                            "ticks": ""
                          }
                        },
                        "type": "scatter3d"
                      }
                    ],
                    "scattercarpet": [
                      {
                        "marker": {
                          "colorbar": {
                            "outlinewidth": 0,
                            "ticks": ""
                          }
                        },
                        "type": "scattercarpet"
                      }
                    ],
                    "scattergeo": [
                      {
                        "marker": {
                          "colorbar": {
                            "outlinewidth": 0,
                            "ticks": ""
                          }
                        },
                        "type": "scattergeo"
                      }
                    ],
                    "scattergl": [
                      {
                        "marker": {
                          "line": {
                            "color": "#283442"
                          }
                        },
                        "type": "scattergl"
                      }
                    ],
                    "scattermapbox": [
                      {
                        "marker": {
                          "colorbar": {
                            "outlinewidth": 0,
                            "ticks": ""
                          }
                        },
                        "type": "scattermapbox"
                      }
                    ],
                    "scatterpolar": [
                      {
                        "marker": {
                          "colorbar": {
                            "outlinewidth": 0,
                            "ticks": ""
                          }
                        },
                        "type": "scatterpolar"
                      }
                    ],
                    "scatterpolargl": [
                      {
                        "marker": {
                          "colorbar": {
                            "outlinewidth": 0,
                            "ticks": ""
                          }
                        },
                        "type": "scatterpolargl"
                      }
                    ],
                    "scatterternary": [
                      {
                        "marker": {
                          "colorbar": {
                            "outlinewidth": 0,
                            "ticks": ""
                          }
                        },
                        "type": "scatterternary"
                      }
                    ],
                    "surface": [
                      {
                        "colorbar": {
                          "outlinewidth": 0,
                          "ticks": ""
                        },
                        "colorscale": [
                          [
                            0,
                            "#0d0887"
                          ],
                          [
                            0.1111111111111111,
                            "#46039f"
                          ],
                          [
                            0.2222222222222222,
                            "#7201a8"
                          ],
                          [
                            0.3333333333333333,
                            "#9c179e"
                          ],
                          [
                            0.4444444444444444,
                            "#bd3786"
                          ],
                          [
                            0.5555555555555556,
                            "#d8576b"
                          ],
                          [
                            0.6666666666666666,
                            "#ed7953"
                          ],
                          [
                            0.7777777777777778,
                            "#fb9f3a"
                          ],
                          [
                            0.8888888888888888,
                            "#fdca26"
                          ],
                          [
                            1,
                            "#f0f921"
                          ]
                        ],
                        "type": "surface"
                      }
                    ],
                    "table": [
                      {
                        "cells": {
                          "fill": {
                            "color": "#506784"
                          },
                          "line": {
                            "color": "rgb(17,17,17)"
                          }
                        },
                        "header": {
                          "fill": {
                            "color": "#2a3f5f"
                          },
                          "line": {
                            "color": "rgb(17,17,17)"
                          }
                        },
                        "type": "table"
                      }
                    ]
                  },
                  "layout": {
                    "annotationdefaults": {
                      "arrowcolor": "#f2f5fa",
                      "arrowhead": 0,
                      "arrowwidth": 1
                    },
                    "autotypenumbers": "strict",
                    "coloraxis": {
                      "colorbar": {
                        "outlinewidth": 0,
                        "ticks": ""
                      }
                    },
                    "colorscale": {
                      "diverging": [
                        [
                          0,
                          "#8e0152"
                        ],
                        [
                          0.1,
                          "#c51b7d"
                        ],
                        [
                          0.2,
                          "#de77ae"
                        ],
                        [
                          0.3,
                          "#f1b6da"
                        ],
                        [
                          0.4,
                          "#fde0ef"
                        ],
                        [
                          0.5,
                          "#f7f7f7"
                        ],
                        [
                          0.6,
                          "#e6f5d0"
                        ],
                        [
                          0.7,
                          "#b8e186"
                        ],
                        [
                          0.8,
                          "#7fbc41"
                        ],
                        [
                          0.9,
                          "#4d9221"
                        ],
                        [
                          1,
                          "#276419"
                        ]
                      ],
                      "sequential": [
                        [
                          0,
                          "#0d0887"
                        ],
                        [
                          0.1111111111111111,
                          "#46039f"
                        ],
                        [
                          0.2222222222222222,
                          "#7201a8"
                        ],
                        [
                          0.3333333333333333,
                          "#9c179e"
                        ],
                        [
                          0.4444444444444444,
                          "#bd3786"
                        ],
                        [
                          0.5555555555555556,
                          "#d8576b"
                        ],
                        [
                          0.6666666666666666,
                          "#ed7953"
                        ],
                        [
                          0.7777777777777778,
                          "#fb9f3a"
                        ],
                        [
                          0.8888888888888888,
                          "#fdca26"
                        ],
                        [
                          1,
                          "#f0f921"
                        ]
                      ],
                      "sequentialminus": [
                        [
                          0,
                          "#0d0887"
                        ],
                        [
                          0.1111111111111111,
                          "#46039f"
                        ],
                        [
                          0.2222222222222222,
                          "#7201a8"
                        ],
                        [
                          0.3333333333333333,
                          "#9c179e"
                        ],
                        [
                          0.4444444444444444,
                          "#bd3786"
                        ],
                        [
                          0.5555555555555556,
                          "#d8576b"
                        ],
                        [
                          0.6666666666666666,
                          "#ed7953"
                        ],
                        [
                          0.7777777777777778,
                          "#fb9f3a"
                        ],
                        [
                          0.8888888888888888,
                          "#fdca26"
                        ],
                        [
                          1,
                          "#f0f921"
                        ]
                      ]
                    },
                    "colorway": [
                      "#636efa",
                      "#EF553B",
                      "#00cc96",
                      "#ab63fa",
                      "#FFA15A",
                      "#19d3f3",
                      "#FF6692",
                      "#B6E880",
                      "#FF97FF",
                      "#FECB52"
                    ],
                    "font": {
                      "color": "#f2f5fa"
                    },
                    "geo": {
                      "bgcolor": "rgb(17,17,17)",
                      "lakecolor": "rgb(17,17,17)",
                      "landcolor": "rgb(17,17,17)",
                      "showlakes": true,
                      "showland": true,
                      "subunitcolor": "#506784"
                    },
                    "hoverlabel": {
                      "align": "left"
                    },
                    "hovermode": "closest",
                    "mapbox": {
                      "style": "dark"
                    },
                    "paper_bgcolor": "rgb(17,17,17)",
                    "plot_bgcolor": "rgb(17,17,17)",
                    "polar": {
                      "angularaxis": {
                        "gridcolor": "#506784",
                        "linecolor": "#506784",
                        "ticks": ""
                      },
                      "bgcolor": "rgb(17,17,17)",
                      "radialaxis": {
                        "gridcolor": "#506784",
                        "linecolor": "#506784",
                        "ticks": ""
                      }
                    },
                    "scene": {
                      "xaxis": {
                        "backgroundcolor": "rgb(17,17,17)",
                        "gridcolor": "#506784",
                        "gridwidth": 2,
                        "linecolor": "#506784",
                        "showbackground": true,
                        "ticks": "",
                        "zerolinecolor": "#C8D4E3"
                      },
                      "yaxis": {
                        "backgroundcolor": "rgb(17,17,17)",
                        "gridcolor": "#506784",
                        "gridwidth": 2,
                        "linecolor": "#506784",
                        "showbackground": true,
                        "ticks": "",
                        "zerolinecolor": "#C8D4E3"
                      },
                      "zaxis": {
                        "backgroundcolor": "rgb(17,17,17)",
                        "gridcolor": "#506784",
                        "gridwidth": 2,
                        "linecolor": "#506784",
                        "showbackground": true,
                        "ticks": "",
                        "zerolinecolor": "#C8D4E3"
                      }
                    },
                    "shapedefaults": {
                      "line": {
                        "color": "#f2f5fa"
                      }
                    },
                    "sliderdefaults": {
                      "bgcolor": "#C8D4E3",
                      "bordercolor": "rgb(17,17,17)",
                      "borderwidth": 1,
                      "tickwidth": 0
                    },
                    "ternary": {
                      "aaxis": {
                        "gridcolor": "#506784",
                        "linecolor": "#506784",
                        "ticks": ""
                      },
                      "baxis": {
                        "gridcolor": "#506784",
                        "linecolor": "#506784",
                        "ticks": ""
                      },
                      "bgcolor": "rgb(17,17,17)",
                      "caxis": {
                        "gridcolor": "#506784",
                        "linecolor": "#506784",
                        "ticks": ""
                      }
                    },
                    "title": {
                      "x": 0.05
                    },
                    "updatemenudefaults": {
                      "bgcolor": "#506784",
                      "borderwidth": 0
                    },
                    "xaxis": {
                      "automargin": true,
                      "gridcolor": "#283442",
                      "linecolor": "#506784",
                      "ticks": "",
                      "title": {
                        "standoff": 15
                      },
                      "zerolinecolor": "#283442",
                      "zerolinewidth": 2
                    },
                    "yaxis": {
                      "automargin": true,
                      "gridcolor": "#283442",
                      "linecolor": "#506784",
                      "ticks": "",
                      "title": {
                        "standoff": 15
                      },
                      "zerolinecolor": "#283442",
                      "zerolinewidth": 2
                    }
                  }
                },
                "title": {
                  "text": "Population Over Time"
                },
                "xaxis": {
                  "title": {
                    "text": "Year"
                  }
                },
                "yaxis": {
                  "title": {
                    "text": "Population"
                  }
                }
              }
            }
          },
          "metadata": {},
          "output_type": "display_data"
        },
        {
          "data": {
            "application/vnd.plotly.v1+json": {
              "config": {
                "plotlyServerURL": "https://plot.ly"
              },
              "data": [
                {
                  "line": {
                    "color": "green"
                  },
                  "mode": "lines+markers",
                  "name": "CO2 Emissions per capita",
                  "type": "scatter",
                  "x": [
                    2000,
                    2001,
                    2002,
                    2003,
                    2004,
                    2005,
                    2006,
                    2007,
                    2008,
                    2009,
                    2010,
                    2011,
                    2012,
                    2013,
                    2014,
                    2015,
                    2016,
                    2017,
                    2018,
                    2019,
                    2020,
                    2021,
                    2022,
                    2023
                  ],
                  "y": [
                    11.224528301886792,
                    9.929268292682927,
                    9.933333333333334,
                    11.085365853658537,
                    10,
                    8.537837837837838,
                    10.497435897435897,
                    10.334999999999999,
                    10.375,
                    10.363636363636363,
                    9.873333333333333,
                    9.80909090909091,
                    10.640476190476189,
                    11.135483870967741,
                    11.409090909090908,
                    9.667441860465116,
                    10.398039215686273,
                    8.234375,
                    10.443478260869565,
                    9.8125,
                    10.246511627906978,
                    11.521739130434783,
                    12.326666666666668,
                    11.402380952380952
                  ]
                }
              ],
              "layout": {
                "template": {
                  "data": {
                    "bar": [
                      {
                        "error_x": {
                          "color": "#f2f5fa"
                        },
                        "error_y": {
                          "color": "#f2f5fa"
                        },
                        "marker": {
                          "line": {
                            "color": "rgb(17,17,17)",
                            "width": 0.5
                          },
                          "pattern": {
                            "fillmode": "overlay",
                            "size": 10,
                            "solidity": 0.2
                          }
                        },
                        "type": "bar"
                      }
                    ],
                    "barpolar": [
                      {
                        "marker": {
                          "line": {
                            "color": "rgb(17,17,17)",
                            "width": 0.5
                          },
                          "pattern": {
                            "fillmode": "overlay",
                            "size": 10,
                            "solidity": 0.2
                          }
                        },
                        "type": "barpolar"
                      }
                    ],
                    "carpet": [
                      {
                        "aaxis": {
                          "endlinecolor": "#A2B1C6",
                          "gridcolor": "#506784",
                          "linecolor": "#506784",
                          "minorgridcolor": "#506784",
                          "startlinecolor": "#A2B1C6"
                        },
                        "baxis": {
                          "endlinecolor": "#A2B1C6",
                          "gridcolor": "#506784",
                          "linecolor": "#506784",
                          "minorgridcolor": "#506784",
                          "startlinecolor": "#A2B1C6"
                        },
                        "type": "carpet"
                      }
                    ],
                    "choropleth": [
                      {
                        "colorbar": {
                          "outlinewidth": 0,
                          "ticks": ""
                        },
                        "type": "choropleth"
                      }
                    ],
                    "contour": [
                      {
                        "colorbar": {
                          "outlinewidth": 0,
                          "ticks": ""
                        },
                        "colorscale": [
                          [
                            0,
                            "#0d0887"
                          ],
                          [
                            0.1111111111111111,
                            "#46039f"
                          ],
                          [
                            0.2222222222222222,
                            "#7201a8"
                          ],
                          [
                            0.3333333333333333,
                            "#9c179e"
                          ],
                          [
                            0.4444444444444444,
                            "#bd3786"
                          ],
                          [
                            0.5555555555555556,
                            "#d8576b"
                          ],
                          [
                            0.6666666666666666,
                            "#ed7953"
                          ],
                          [
                            0.7777777777777778,
                            "#fb9f3a"
                          ],
                          [
                            0.8888888888888888,
                            "#fdca26"
                          ],
                          [
                            1,
                            "#f0f921"
                          ]
                        ],
                        "type": "contour"
                      }
                    ],
                    "contourcarpet": [
                      {
                        "colorbar": {
                          "outlinewidth": 0,
                          "ticks": ""
                        },
                        "type": "contourcarpet"
                      }
                    ],
                    "heatmap": [
                      {
                        "colorbar": {
                          "outlinewidth": 0,
                          "ticks": ""
                        },
                        "colorscale": [
                          [
                            0,
                            "#0d0887"
                          ],
                          [
                            0.1111111111111111,
                            "#46039f"
                          ],
                          [
                            0.2222222222222222,
                            "#7201a8"
                          ],
                          [
                            0.3333333333333333,
                            "#9c179e"
                          ],
                          [
                            0.4444444444444444,
                            "#bd3786"
                          ],
                          [
                            0.5555555555555556,
                            "#d8576b"
                          ],
                          [
                            0.6666666666666666,
                            "#ed7953"
                          ],
                          [
                            0.7777777777777778,
                            "#fb9f3a"
                          ],
                          [
                            0.8888888888888888,
                            "#fdca26"
                          ],
                          [
                            1,
                            "#f0f921"
                          ]
                        ],
                        "type": "heatmap"
                      }
                    ],
                    "heatmapgl": [
                      {
                        "colorbar": {
                          "outlinewidth": 0,
                          "ticks": ""
                        },
                        "colorscale": [
                          [
                            0,
                            "#0d0887"
                          ],
                          [
                            0.1111111111111111,
                            "#46039f"
                          ],
                          [
                            0.2222222222222222,
                            "#7201a8"
                          ],
                          [
                            0.3333333333333333,
                            "#9c179e"
                          ],
                          [
                            0.4444444444444444,
                            "#bd3786"
                          ],
                          [
                            0.5555555555555556,
                            "#d8576b"
                          ],
                          [
                            0.6666666666666666,
                            "#ed7953"
                          ],
                          [
                            0.7777777777777778,
                            "#fb9f3a"
                          ],
                          [
                            0.8888888888888888,
                            "#fdca26"
                          ],
                          [
                            1,
                            "#f0f921"
                          ]
                        ],
                        "type": "heatmapgl"
                      }
                    ],
                    "histogram": [
                      {
                        "marker": {
                          "pattern": {
                            "fillmode": "overlay",
                            "size": 10,
                            "solidity": 0.2
                          }
                        },
                        "type": "histogram"
                      }
                    ],
                    "histogram2d": [
                      {
                        "colorbar": {
                          "outlinewidth": 0,
                          "ticks": ""
                        },
                        "colorscale": [
                          [
                            0,
                            "#0d0887"
                          ],
                          [
                            0.1111111111111111,
                            "#46039f"
                          ],
                          [
                            0.2222222222222222,
                            "#7201a8"
                          ],
                          [
                            0.3333333333333333,
                            "#9c179e"
                          ],
                          [
                            0.4444444444444444,
                            "#bd3786"
                          ],
                          [
                            0.5555555555555556,
                            "#d8576b"
                          ],
                          [
                            0.6666666666666666,
                            "#ed7953"
                          ],
                          [
                            0.7777777777777778,
                            "#fb9f3a"
                          ],
                          [
                            0.8888888888888888,
                            "#fdca26"
                          ],
                          [
                            1,
                            "#f0f921"
                          ]
                        ],
                        "type": "histogram2d"
                      }
                    ],
                    "histogram2dcontour": [
                      {
                        "colorbar": {
                          "outlinewidth": 0,
                          "ticks": ""
                        },
                        "colorscale": [
                          [
                            0,
                            "#0d0887"
                          ],
                          [
                            0.1111111111111111,
                            "#46039f"
                          ],
                          [
                            0.2222222222222222,
                            "#7201a8"
                          ],
                          [
                            0.3333333333333333,
                            "#9c179e"
                          ],
                          [
                            0.4444444444444444,
                            "#bd3786"
                          ],
                          [
                            0.5555555555555556,
                            "#d8576b"
                          ],
                          [
                            0.6666666666666666,
                            "#ed7953"
                          ],
                          [
                            0.7777777777777778,
                            "#fb9f3a"
                          ],
                          [
                            0.8888888888888888,
                            "#fdca26"
                          ],
                          [
                            1,
                            "#f0f921"
                          ]
                        ],
                        "type": "histogram2dcontour"
                      }
                    ],
                    "mesh3d": [
                      {
                        "colorbar": {
                          "outlinewidth": 0,
                          "ticks": ""
                        },
                        "type": "mesh3d"
                      }
                    ],
                    "parcoords": [
                      {
                        "line": {
                          "colorbar": {
                            "outlinewidth": 0,
                            "ticks": ""
                          }
                        },
                        "type": "parcoords"
                      }
                    ],
                    "pie": [
                      {
                        "automargin": true,
                        "type": "pie"
                      }
                    ],
                    "scatter": [
                      {
                        "marker": {
                          "line": {
                            "color": "#283442"
                          }
                        },
                        "type": "scatter"
                      }
                    ],
                    "scatter3d": [
                      {
                        "line": {
                          "colorbar": {
                            "outlinewidth": 0,
                            "ticks": ""
                          }
                        },
                        "marker": {
                          "colorbar": {
                            "outlinewidth": 0,
                            "ticks": ""
                          }
                        },
                        "type": "scatter3d"
                      }
                    ],
                    "scattercarpet": [
                      {
                        "marker": {
                          "colorbar": {
                            "outlinewidth": 0,
                            "ticks": ""
                          }
                        },
                        "type": "scattercarpet"
                      }
                    ],
                    "scattergeo": [
                      {
                        "marker": {
                          "colorbar": {
                            "outlinewidth": 0,
                            "ticks": ""
                          }
                        },
                        "type": "scattergeo"
                      }
                    ],
                    "scattergl": [
                      {
                        "marker": {
                          "line": {
                            "color": "#283442"
                          }
                        },
                        "type": "scattergl"
                      }
                    ],
                    "scattermapbox": [
                      {
                        "marker": {
                          "colorbar": {
                            "outlinewidth": 0,
                            "ticks": ""
                          }
                        },
                        "type": "scattermapbox"
                      }
                    ],
                    "scatterpolar": [
                      {
                        "marker": {
                          "colorbar": {
                            "outlinewidth": 0,
                            "ticks": ""
                          }
                        },
                        "type": "scatterpolar"
                      }
                    ],
                    "scatterpolargl": [
                      {
                        "marker": {
                          "colorbar": {
                            "outlinewidth": 0,
                            "ticks": ""
                          }
                        },
                        "type": "scatterpolargl"
                      }
                    ],
                    "scatterternary": [
                      {
                        "marker": {
                          "colorbar": {
                            "outlinewidth": 0,
                            "ticks": ""
                          }
                        },
                        "type": "scatterternary"
                      }
                    ],
                    "surface": [
                      {
                        "colorbar": {
                          "outlinewidth": 0,
                          "ticks": ""
                        },
                        "colorscale": [
                          [
                            0,
                            "#0d0887"
                          ],
                          [
                            0.1111111111111111,
                            "#46039f"
                          ],
                          [
                            0.2222222222222222,
                            "#7201a8"
                          ],
                          [
                            0.3333333333333333,
                            "#9c179e"
                          ],
                          [
                            0.4444444444444444,
                            "#bd3786"
                          ],
                          [
                            0.5555555555555556,
                            "#d8576b"
                          ],
                          [
                            0.6666666666666666,
                            "#ed7953"
                          ],
                          [
                            0.7777777777777778,
                            "#fb9f3a"
                          ],
                          [
                            0.8888888888888888,
                            "#fdca26"
                          ],
                          [
                            1,
                            "#f0f921"
                          ]
                        ],
                        "type": "surface"
                      }
                    ],
                    "table": [
                      {
                        "cells": {
                          "fill": {
                            "color": "#506784"
                          },
                          "line": {
                            "color": "rgb(17,17,17)"
                          }
                        },
                        "header": {
                          "fill": {
                            "color": "#2a3f5f"
                          },
                          "line": {
                            "color": "rgb(17,17,17)"
                          }
                        },
                        "type": "table"
                      }
                    ]
                  },
                  "layout": {
                    "annotationdefaults": {
                      "arrowcolor": "#f2f5fa",
                      "arrowhead": 0,
                      "arrowwidth": 1
                    },
                    "autotypenumbers": "strict",
                    "coloraxis": {
                      "colorbar": {
                        "outlinewidth": 0,
                        "ticks": ""
                      }
                    },
                    "colorscale": {
                      "diverging": [
                        [
                          0,
                          "#8e0152"
                        ],
                        [
                          0.1,
                          "#c51b7d"
                        ],
                        [
                          0.2,
                          "#de77ae"
                        ],
                        [
                          0.3,
                          "#f1b6da"
                        ],
                        [
                          0.4,
                          "#fde0ef"
                        ],
                        [
                          0.5,
                          "#f7f7f7"
                        ],
                        [
                          0.6,
                          "#e6f5d0"
                        ],
                        [
                          0.7,
                          "#b8e186"
                        ],
                        [
                          0.8,
                          "#7fbc41"
                        ],
                        [
                          0.9,
                          "#4d9221"
                        ],
                        [
                          1,
                          "#276419"
                        ]
                      ],
                      "sequential": [
                        [
                          0,
                          "#0d0887"
                        ],
                        [
                          0.1111111111111111,
                          "#46039f"
                        ],
                        [
                          0.2222222222222222,
                          "#7201a8"
                        ],
                        [
                          0.3333333333333333,
                          "#9c179e"
                        ],
                        [
                          0.4444444444444444,
                          "#bd3786"
                        ],
                        [
                          0.5555555555555556,
                          "#d8576b"
                        ],
                        [
                          0.6666666666666666,
                          "#ed7953"
                        ],
                        [
                          0.7777777777777778,
                          "#fb9f3a"
                        ],
                        [
                          0.8888888888888888,
                          "#fdca26"
                        ],
                        [
                          1,
                          "#f0f921"
                        ]
                      ],
                      "sequentialminus": [
                        [
                          0,
                          "#0d0887"
                        ],
                        [
                          0.1111111111111111,
                          "#46039f"
                        ],
                        [
                          0.2222222222222222,
                          "#7201a8"
                        ],
                        [
                          0.3333333333333333,
                          "#9c179e"
                        ],
                        [
                          0.4444444444444444,
                          "#bd3786"
                        ],
                        [
                          0.5555555555555556,
                          "#d8576b"
                        ],
                        [
                          0.6666666666666666,
                          "#ed7953"
                        ],
                        [
                          0.7777777777777778,
                          "#fb9f3a"
                        ],
                        [
                          0.8888888888888888,
                          "#fdca26"
                        ],
                        [
                          1,
                          "#f0f921"
                        ]
                      ]
                    },
                    "colorway": [
                      "#636efa",
                      "#EF553B",
                      "#00cc96",
                      "#ab63fa",
                      "#FFA15A",
                      "#19d3f3",
                      "#FF6692",
                      "#B6E880",
                      "#FF97FF",
                      "#FECB52"
                    ],
                    "font": {
                      "color": "#f2f5fa"
                    },
                    "geo": {
                      "bgcolor": "rgb(17,17,17)",
                      "lakecolor": "rgb(17,17,17)",
                      "landcolor": "rgb(17,17,17)",
                      "showlakes": true,
                      "showland": true,
                      "subunitcolor": "#506784"
                    },
                    "hoverlabel": {
                      "align": "left"
                    },
                    "hovermode": "closest",
                    "mapbox": {
                      "style": "dark"
                    },
                    "paper_bgcolor": "rgb(17,17,17)",
                    "plot_bgcolor": "rgb(17,17,17)",
                    "polar": {
                      "angularaxis": {
                        "gridcolor": "#506784",
                        "linecolor": "#506784",
                        "ticks": ""
                      },
                      "bgcolor": "rgb(17,17,17)",
                      "radialaxis": {
                        "gridcolor": "#506784",
                        "linecolor": "#506784",
                        "ticks": ""
                      }
                    },
                    "scene": {
                      "xaxis": {
                        "backgroundcolor": "rgb(17,17,17)",
                        "gridcolor": "#506784",
                        "gridwidth": 2,
                        "linecolor": "#506784",
                        "showbackground": true,
                        "ticks": "",
                        "zerolinecolor": "#C8D4E3"
                      },
                      "yaxis": {
                        "backgroundcolor": "rgb(17,17,17)",
                        "gridcolor": "#506784",
                        "gridwidth": 2,
                        "linecolor": "#506784",
                        "showbackground": true,
                        "ticks": "",
                        "zerolinecolor": "#C8D4E3"
                      },
                      "zaxis": {
                        "backgroundcolor": "rgb(17,17,17)",
                        "gridcolor": "#506784",
                        "gridwidth": 2,
                        "linecolor": "#506784",
                        "showbackground": true,
                        "ticks": "",
                        "zerolinecolor": "#C8D4E3"
                      }
                    },
                    "shapedefaults": {
                      "line": {
                        "color": "#f2f5fa"
                      }
                    },
                    "sliderdefaults": {
                      "bgcolor": "#C8D4E3",
                      "bordercolor": "rgb(17,17,17)",
                      "borderwidth": 1,
                      "tickwidth": 0
                    },
                    "ternary": {
                      "aaxis": {
                        "gridcolor": "#506784",
                        "linecolor": "#506784",
                        "ticks": ""
                      },
                      "baxis": {
                        "gridcolor": "#506784",
                        "linecolor": "#506784",
                        "ticks": ""
                      },
                      "bgcolor": "rgb(17,17,17)",
                      "caxis": {
                        "gridcolor": "#506784",
                        "linecolor": "#506784",
                        "ticks": ""
                      }
                    },
                    "title": {
                      "x": 0.05
                    },
                    "updatemenudefaults": {
                      "bgcolor": "#506784",
                      "borderwidth": 0
                    },
                    "xaxis": {
                      "automargin": true,
                      "gridcolor": "#283442",
                      "linecolor": "#506784",
                      "ticks": "",
                      "title": {
                        "standoff": 15
                      },
                      "zerolinecolor": "#283442",
                      "zerolinewidth": 2
                    },
                    "yaxis": {
                      "automargin": true,
                      "gridcolor": "#283442",
                      "linecolor": "#506784",
                      "ticks": "",
                      "title": {
                        "standoff": 15
                      },
                      "zerolinecolor": "#283442",
                      "zerolinewidth": 2
                    }
                  }
                },
                "title": {
                  "text": "CO2 Emissions per capita Over Time"
                },
                "xaxis": {
                  "title": {
                    "text": "Year"
                  }
                },
                "yaxis": {
                  "title": {
                    "text": "CO2 Emissions (tons per capita)"
                  }
                }
              }
            }
          },
          "metadata": {},
          "output_type": "display_data"
        },
        {
          "data": {
            "application/vnd.plotly.v1+json": {
              "config": {
                "plotlyServerURL": "https://plot.ly"
              },
              "data": [
                {
                  "line": {
                    "color": "red"
                  },
                  "mode": "lines+markers",
                  "name": "Sea Level Rise (mm)",
                  "type": "scatter",
                  "x": [
                    2000,
                    2001,
                    2002,
                    2003,
                    2004,
                    2005,
                    2006,
                    2007,
                    2008,
                    2009,
                    2010,
                    2011,
                    2012,
                    2013,
                    2014,
                    2015,
                    2016,
                    2017,
                    2018,
                    2019,
                    2020,
                    2021,
                    2022,
                    2023
                  ],
                  "y": [
                    2.939622641509434,
                    3.273170731707317,
                    2.952941176470588,
                    2.9341463414634146,
                    2.79,
                    2.937837837837838,
                    3.0564102564102567,
                    2.8225000000000002,
                    3.0305555555555554,
                    2.7606060606060603,
                    3.1300000000000003,
                    3.027272727272727,
                    2.95,
                    2.97741935483871,
                    3.122727272727273,
                    3.0534883720930237,
                    3.007843137254902,
                    2.875,
                    3.0217391304347827,
                    3.2,
                    3.309302325581396,
                    3.0869565217391304,
                    2.96,
                    3.007142857142857
                  ]
                }
              ],
              "layout": {
                "template": {
                  "data": {
                    "bar": [
                      {
                        "error_x": {
                          "color": "#f2f5fa"
                        },
                        "error_y": {
                          "color": "#f2f5fa"
                        },
                        "marker": {
                          "line": {
                            "color": "rgb(17,17,17)",
                            "width": 0.5
                          },
                          "pattern": {
                            "fillmode": "overlay",
                            "size": 10,
                            "solidity": 0.2
                          }
                        },
                        "type": "bar"
                      }
                    ],
                    "barpolar": [
                      {
                        "marker": {
                          "line": {
                            "color": "rgb(17,17,17)",
                            "width": 0.5
                          },
                          "pattern": {
                            "fillmode": "overlay",
                            "size": 10,
                            "solidity": 0.2
                          }
                        },
                        "type": "barpolar"
                      }
                    ],
                    "carpet": [
                      {
                        "aaxis": {
                          "endlinecolor": "#A2B1C6",
                          "gridcolor": "#506784",
                          "linecolor": "#506784",
                          "minorgridcolor": "#506784",
                          "startlinecolor": "#A2B1C6"
                        },
                        "baxis": {
                          "endlinecolor": "#A2B1C6",
                          "gridcolor": "#506784",
                          "linecolor": "#506784",
                          "minorgridcolor": "#506784",
                          "startlinecolor": "#A2B1C6"
                        },
                        "type": "carpet"
                      }
                    ],
                    "choropleth": [
                      {
                        "colorbar": {
                          "outlinewidth": 0,
                          "ticks": ""
                        },
                        "type": "choropleth"
                      }
                    ],
                    "contour": [
                      {
                        "colorbar": {
                          "outlinewidth": 0,
                          "ticks": ""
                        },
                        "colorscale": [
                          [
                            0,
                            "#0d0887"
                          ],
                          [
                            0.1111111111111111,
                            "#46039f"
                          ],
                          [
                            0.2222222222222222,
                            "#7201a8"
                          ],
                          [
                            0.3333333333333333,
                            "#9c179e"
                          ],
                          [
                            0.4444444444444444,
                            "#bd3786"
                          ],
                          [
                            0.5555555555555556,
                            "#d8576b"
                          ],
                          [
                            0.6666666666666666,
                            "#ed7953"
                          ],
                          [
                            0.7777777777777778,
                            "#fb9f3a"
                          ],
                          [
                            0.8888888888888888,
                            "#fdca26"
                          ],
                          [
                            1,
                            "#f0f921"
                          ]
                        ],
                        "type": "contour"
                      }
                    ],
                    "contourcarpet": [
                      {
                        "colorbar": {
                          "outlinewidth": 0,
                          "ticks": ""
                        },
                        "type": "contourcarpet"
                      }
                    ],
                    "heatmap": [
                      {
                        "colorbar": {
                          "outlinewidth": 0,
                          "ticks": ""
                        },
                        "colorscale": [
                          [
                            0,
                            "#0d0887"
                          ],
                          [
                            0.1111111111111111,
                            "#46039f"
                          ],
                          [
                            0.2222222222222222,
                            "#7201a8"
                          ],
                          [
                            0.3333333333333333,
                            "#9c179e"
                          ],
                          [
                            0.4444444444444444,
                            "#bd3786"
                          ],
                          [
                            0.5555555555555556,
                            "#d8576b"
                          ],
                          [
                            0.6666666666666666,
                            "#ed7953"
                          ],
                          [
                            0.7777777777777778,
                            "#fb9f3a"
                          ],
                          [
                            0.8888888888888888,
                            "#fdca26"
                          ],
                          [
                            1,
                            "#f0f921"
                          ]
                        ],
                        "type": "heatmap"
                      }
                    ],
                    "heatmapgl": [
                      {
                        "colorbar": {
                          "outlinewidth": 0,
                          "ticks": ""
                        },
                        "colorscale": [
                          [
                            0,
                            "#0d0887"
                          ],
                          [
                            0.1111111111111111,
                            "#46039f"
                          ],
                          [
                            0.2222222222222222,
                            "#7201a8"
                          ],
                          [
                            0.3333333333333333,
                            "#9c179e"
                          ],
                          [
                            0.4444444444444444,
                            "#bd3786"
                          ],
                          [
                            0.5555555555555556,
                            "#d8576b"
                          ],
                          [
                            0.6666666666666666,
                            "#ed7953"
                          ],
                          [
                            0.7777777777777778,
                            "#fb9f3a"
                          ],
                          [
                            0.8888888888888888,
                            "#fdca26"
                          ],
                          [
                            1,
                            "#f0f921"
                          ]
                        ],
                        "type": "heatmapgl"
                      }
                    ],
                    "histogram": [
                      {
                        "marker": {
                          "pattern": {
                            "fillmode": "overlay",
                            "size": 10,
                            "solidity": 0.2
                          }
                        },
                        "type": "histogram"
                      }
                    ],
                    "histogram2d": [
                      {
                        "colorbar": {
                          "outlinewidth": 0,
                          "ticks": ""
                        },
                        "colorscale": [
                          [
                            0,
                            "#0d0887"
                          ],
                          [
                            0.1111111111111111,
                            "#46039f"
                          ],
                          [
                            0.2222222222222222,
                            "#7201a8"
                          ],
                          [
                            0.3333333333333333,
                            "#9c179e"
                          ],
                          [
                            0.4444444444444444,
                            "#bd3786"
                          ],
                          [
                            0.5555555555555556,
                            "#d8576b"
                          ],
                          [
                            0.6666666666666666,
                            "#ed7953"
                          ],
                          [
                            0.7777777777777778,
                            "#fb9f3a"
                          ],
                          [
                            0.8888888888888888,
                            "#fdca26"
                          ],
                          [
                            1,
                            "#f0f921"
                          ]
                        ],
                        "type": "histogram2d"
                      }
                    ],
                    "histogram2dcontour": [
                      {
                        "colorbar": {
                          "outlinewidth": 0,
                          "ticks": ""
                        },
                        "colorscale": [
                          [
                            0,
                            "#0d0887"
                          ],
                          [
                            0.1111111111111111,
                            "#46039f"
                          ],
                          [
                            0.2222222222222222,
                            "#7201a8"
                          ],
                          [
                            0.3333333333333333,
                            "#9c179e"
                          ],
                          [
                            0.4444444444444444,
                            "#bd3786"
                          ],
                          [
                            0.5555555555555556,
                            "#d8576b"
                          ],
                          [
                            0.6666666666666666,
                            "#ed7953"
                          ],
                          [
                            0.7777777777777778,
                            "#fb9f3a"
                          ],
                          [
                            0.8888888888888888,
                            "#fdca26"
                          ],
                          [
                            1,
                            "#f0f921"
                          ]
                        ],
                        "type": "histogram2dcontour"
                      }
                    ],
                    "mesh3d": [
                      {
                        "colorbar": {
                          "outlinewidth": 0,
                          "ticks": ""
                        },
                        "type": "mesh3d"
                      }
                    ],
                    "parcoords": [
                      {
                        "line": {
                          "colorbar": {
                            "outlinewidth": 0,
                            "ticks": ""
                          }
                        },
                        "type": "parcoords"
                      }
                    ],
                    "pie": [
                      {
                        "automargin": true,
                        "type": "pie"
                      }
                    ],
                    "scatter": [
                      {
                        "marker": {
                          "line": {
                            "color": "#283442"
                          }
                        },
                        "type": "scatter"
                      }
                    ],
                    "scatter3d": [
                      {
                        "line": {
                          "colorbar": {
                            "outlinewidth": 0,
                            "ticks": ""
                          }
                        },
                        "marker": {
                          "colorbar": {
                            "outlinewidth": 0,
                            "ticks": ""
                          }
                        },
                        "type": "scatter3d"
                      }
                    ],
                    "scattercarpet": [
                      {
                        "marker": {
                          "colorbar": {
                            "outlinewidth": 0,
                            "ticks": ""
                          }
                        },
                        "type": "scattercarpet"
                      }
                    ],
                    "scattergeo": [
                      {
                        "marker": {
                          "colorbar": {
                            "outlinewidth": 0,
                            "ticks": ""
                          }
                        },
                        "type": "scattergeo"
                      }
                    ],
                    "scattergl": [
                      {
                        "marker": {
                          "line": {
                            "color": "#283442"
                          }
                        },
                        "type": "scattergl"
                      }
                    ],
                    "scattermapbox": [
                      {
                        "marker": {
                          "colorbar": {
                            "outlinewidth": 0,
                            "ticks": ""
                          }
                        },
                        "type": "scattermapbox"
                      }
                    ],
                    "scatterpolar": [
                      {
                        "marker": {
                          "colorbar": {
                            "outlinewidth": 0,
                            "ticks": ""
                          }
                        },
                        "type": "scatterpolar"
                      }
                    ],
                    "scatterpolargl": [
                      {
                        "marker": {
                          "colorbar": {
                            "outlinewidth": 0,
                            "ticks": ""
                          }
                        },
                        "type": "scatterpolargl"
                      }
                    ],
                    "scatterternary": [
                      {
                        "marker": {
                          "colorbar": {
                            "outlinewidth": 0,
                            "ticks": ""
                          }
                        },
                        "type": "scatterternary"
                      }
                    ],
                    "surface": [
                      {
                        "colorbar": {
                          "outlinewidth": 0,
                          "ticks": ""
                        },
                        "colorscale": [
                          [
                            0,
                            "#0d0887"
                          ],
                          [
                            0.1111111111111111,
                            "#46039f"
                          ],
                          [
                            0.2222222222222222,
                            "#7201a8"
                          ],
                          [
                            0.3333333333333333,
                            "#9c179e"
                          ],
                          [
                            0.4444444444444444,
                            "#bd3786"
                          ],
                          [
                            0.5555555555555556,
                            "#d8576b"
                          ],
                          [
                            0.6666666666666666,
                            "#ed7953"
                          ],
                          [
                            0.7777777777777778,
                            "#fb9f3a"
                          ],
                          [
                            0.8888888888888888,
                            "#fdca26"
                          ],
                          [
                            1,
                            "#f0f921"
                          ]
                        ],
                        "type": "surface"
                      }
                    ],
                    "table": [
                      {
                        "cells": {
                          "fill": {
                            "color": "#506784"
                          },
                          "line": {
                            "color": "rgb(17,17,17)"
                          }
                        },
                        "header": {
                          "fill": {
                            "color": "#2a3f5f"
                          },
                          "line": {
                            "color": "rgb(17,17,17)"
                          }
                        },
                        "type": "table"
                      }
                    ]
                  },
                  "layout": {
                    "annotationdefaults": {
                      "arrowcolor": "#f2f5fa",
                      "arrowhead": 0,
                      "arrowwidth": 1
                    },
                    "autotypenumbers": "strict",
                    "coloraxis": {
                      "colorbar": {
                        "outlinewidth": 0,
                        "ticks": ""
                      }
                    },
                    "colorscale": {
                      "diverging": [
                        [
                          0,
                          "#8e0152"
                        ],
                        [
                          0.1,
                          "#c51b7d"
                        ],
                        [
                          0.2,
                          "#de77ae"
                        ],
                        [
                          0.3,
                          "#f1b6da"
                        ],
                        [
                          0.4,
                          "#fde0ef"
                        ],
                        [
                          0.5,
                          "#f7f7f7"
                        ],
                        [
                          0.6,
                          "#e6f5d0"
                        ],
                        [
                          0.7,
                          "#b8e186"
                        ],
                        [
                          0.8,
                          "#7fbc41"
                        ],
                        [
                          0.9,
                          "#4d9221"
                        ],
                        [
                          1,
                          "#276419"
                        ]
                      ],
                      "sequential": [
                        [
                          0,
                          "#0d0887"
                        ],
                        [
                          0.1111111111111111,
                          "#46039f"
                        ],
                        [
                          0.2222222222222222,
                          "#7201a8"
                        ],
                        [
                          0.3333333333333333,
                          "#9c179e"
                        ],
                        [
                          0.4444444444444444,
                          "#bd3786"
                        ],
                        [
                          0.5555555555555556,
                          "#d8576b"
                        ],
                        [
                          0.6666666666666666,
                          "#ed7953"
                        ],
                        [
                          0.7777777777777778,
                          "#fb9f3a"
                        ],
                        [
                          0.8888888888888888,
                          "#fdca26"
                        ],
                        [
                          1,
                          "#f0f921"
                        ]
                      ],
                      "sequentialminus": [
                        [
                          0,
                          "#0d0887"
                        ],
                        [
                          0.1111111111111111,
                          "#46039f"
                        ],
                        [
                          0.2222222222222222,
                          "#7201a8"
                        ],
                        [
                          0.3333333333333333,
                          "#9c179e"
                        ],
                        [
                          0.4444444444444444,
                          "#bd3786"
                        ],
                        [
                          0.5555555555555556,
                          "#d8576b"
                        ],
                        [
                          0.6666666666666666,
                          "#ed7953"
                        ],
                        [
                          0.7777777777777778,
                          "#fb9f3a"
                        ],
                        [
                          0.8888888888888888,
                          "#fdca26"
                        ],
                        [
                          1,
                          "#f0f921"
                        ]
                      ]
                    },
                    "colorway": [
                      "#636efa",
                      "#EF553B",
                      "#00cc96",
                      "#ab63fa",
                      "#FFA15A",
                      "#19d3f3",
                      "#FF6692",
                      "#B6E880",
                      "#FF97FF",
                      "#FECB52"
                    ],
                    "font": {
                      "color": "#f2f5fa"
                    },
                    "geo": {
                      "bgcolor": "rgb(17,17,17)",
                      "lakecolor": "rgb(17,17,17)",
                      "landcolor": "rgb(17,17,17)",
                      "showlakes": true,
                      "showland": true,
                      "subunitcolor": "#506784"
                    },
                    "hoverlabel": {
                      "align": "left"
                    },
                    "hovermode": "closest",
                    "mapbox": {
                      "style": "dark"
                    },
                    "paper_bgcolor": "rgb(17,17,17)",
                    "plot_bgcolor": "rgb(17,17,17)",
                    "polar": {
                      "angularaxis": {
                        "gridcolor": "#506784",
                        "linecolor": "#506784",
                        "ticks": ""
                      },
                      "bgcolor": "rgb(17,17,17)",
                      "radialaxis": {
                        "gridcolor": "#506784",
                        "linecolor": "#506784",
                        "ticks": ""
                      }
                    },
                    "scene": {
                      "xaxis": {
                        "backgroundcolor": "rgb(17,17,17)",
                        "gridcolor": "#506784",
                        "gridwidth": 2,
                        "linecolor": "#506784",
                        "showbackground": true,
                        "ticks": "",
                        "zerolinecolor": "#C8D4E3"
                      },
                      "yaxis": {
                        "backgroundcolor": "rgb(17,17,17)",
                        "gridcolor": "#506784",
                        "gridwidth": 2,
                        "linecolor": "#506784",
                        "showbackground": true,
                        "ticks": "",
                        "zerolinecolor": "#C8D4E3"
                      },
                      "zaxis": {
                        "backgroundcolor": "rgb(17,17,17)",
                        "gridcolor": "#506784",
                        "gridwidth": 2,
                        "linecolor": "#506784",
                        "showbackground": true,
                        "ticks": "",
                        "zerolinecolor": "#C8D4E3"
                      }
                    },
                    "shapedefaults": {
                      "line": {
                        "color": "#f2f5fa"
                      }
                    },
                    "sliderdefaults": {
                      "bgcolor": "#C8D4E3",
                      "bordercolor": "rgb(17,17,17)",
                      "borderwidth": 1,
                      "tickwidth": 0
                    },
                    "ternary": {
                      "aaxis": {
                        "gridcolor": "#506784",
                        "linecolor": "#506784",
                        "ticks": ""
                      },
                      "baxis": {
                        "gridcolor": "#506784",
                        "linecolor": "#506784",
                        "ticks": ""
                      },
                      "bgcolor": "rgb(17,17,17)",
                      "caxis": {
                        "gridcolor": "#506784",
                        "linecolor": "#506784",
                        "ticks": ""
                      }
                    },
                    "title": {
                      "x": 0.05
                    },
                    "updatemenudefaults": {
                      "bgcolor": "#506784",
                      "borderwidth": 0
                    },
                    "xaxis": {
                      "automargin": true,
                      "gridcolor": "#283442",
                      "linecolor": "#506784",
                      "ticks": "",
                      "title": {
                        "standoff": 15
                      },
                      "zerolinecolor": "#283442",
                      "zerolinewidth": 2
                    },
                    "yaxis": {
                      "automargin": true,
                      "gridcolor": "#283442",
                      "linecolor": "#506784",
                      "ticks": "",
                      "title": {
                        "standoff": 15
                      },
                      "zerolinecolor": "#283442",
                      "zerolinewidth": 2
                    }
                  }
                },
                "title": {
                  "text": "Sea Level Rise Over Time"
                },
                "xaxis": {
                  "title": {
                    "text": "Year"
                  }
                },
                "yaxis": {
                  "title": {
                    "text": "Sea Level Rise (mm)"
                  }
                }
              }
            }
          },
          "metadata": {},
          "output_type": "display_data"
        }
      ],
      "source": [
        "# Check the original DataFrame before grouping\n",
        "print(df.columns)\n",
        "\n",
        "# Group by 'Year' and aggregate the necessary columns\n",
        "df_grouped = df.groupby(\"Year\", as_index=False).agg({\n",
        "    'Population': 'sum',  # Make sure to aggregate the 'Population' column\n",
        "    'CO2_Emissions_tons_per_capita': 'mean',\n",
        "    'Sea_Level_Rise_mm': 'mean'\n",
        "})\n",
        "\n",
        "# Reset index to ensure 'Year' is a column (if it becomes an index during grouping)\n",
        "df_grouped = df_grouped.reset_index()\n",
        "\n",
        "# Check if 'Year' and 'Population' are now available as columns\n",
        "print(df_grouped.columns)\n",
        "\n",
        "# Plot for Population\n",
        "fig_population = go.Figure()\n",
        "fig_population.add_trace(go.Scatter(x=df_grouped[\"Year\"], y=df_grouped[\"Population\"],\n",
        "                                    mode='lines+markers', name='Population',\n",
        "                                    line=dict(color='blue')))\n",
        "\n",
        "fig_population.update_layout(\n",
        "    title=\"Population Over Time\",\n",
        "    xaxis_title=\"Year\",\n",
        "    yaxis_title=\"Population\",\n",
        "    template=\"plotly_dark\"\n",
        ")\n",
        "\n",
        "# Show the Population plot\n",
        "fig_population.show()\n",
        "\n",
        "# Plot for CO2 Emissions per capita\n",
        "fig_co2 = go.Figure()\n",
        "fig_co2.add_trace(go.Scatter(x=df_grouped[\"Year\"], y=df_grouped[\"CO2_Emissions_tons_per_capita\"],\n",
        "                             mode='lines+markers', name='CO2 Emissions per capita',\n",
        "                             line=dict(color='green')))\n",
        "\n",
        "fig_co2.update_layout(\n",
        "    title=\"CO2 Emissions per capita Over Time\",\n",
        "    xaxis_title=\"Year\",\n",
        "    yaxis_title=\"CO2 Emissions (tons per capita)\",\n",
        "    template=\"plotly_dark\"\n",
        ")\n",
        "\n",
        "# Show the CO2 Emissions plot\n",
        "fig_co2.show()\n",
        "\n",
        "# Plot for Sea Level Rise\n",
        "fig_sea_level = go.Figure()\n",
        "fig_sea_level.add_trace(go.Scatter(x=df_grouped[\"Year\"], y=df_grouped[\"Sea_Level_Rise_mm\"],\n",
        "                                  mode='lines+markers', name='Sea Level Rise (mm)',\n",
        "                                  line=dict(color='red')))\n",
        "\n",
        "fig_sea_level.update_layout(\n",
        "    title=\"Sea Level Rise Over Time\",\n",
        "    xaxis_title=\"Year\",\n",
        "    yaxis_title=\"Sea Level Rise (mm)\",\n",
        "    template=\"plotly_dark\"\n",
        ")\n",
        "\n",
        "# Show the Sea Level Rise plot\n",
        "fig_sea_level.show()"
      ]
    },
    {
      "cell_type": "markdown",
      "metadata": {},
      "source": [
        "NOTE"
      ]
    },
    {
      "cell_type": "markdown",
      "metadata": {},
      "source": [
        "* You may add as many sections as you want, as long as it supports your project workflow.\n",
        "* All notebook's cells should be run top-down (you can't create a dynamic wherein a given point you need to go back to a previous cell to execute some task, like go back to a previous cell and refresh a variable content)"
      ]
    },
    {
      "cell_type": "markdown",
      "metadata": {},
      "source": [
        "---"
      ]
    },
    {
      "cell_type": "markdown",
      "metadata": {
        "id": "ltNetd085qHf"
      },
      "source": [
        "# Push files to Repo"
      ]
    },
    {
      "cell_type": "markdown",
      "metadata": {},
      "source": [
        "* In cases where you don't need to push files to Repo, you may replace this section with \"Conclusions and Next Steps\" and state your conclusions and next steps."
      ]
    },
    {
      "cell_type": "code",
      "execution_count": null,
      "metadata": {
        "id": "aKlnIozA4eQO",
        "outputId": "fd09bc1f-adb1-4511-f6ce-492a6af570c0"
      },
      "outputs": [
        {
          "ename": "IndentationError",
          "evalue": "expected an indented block after 'try' statement on line 2 (553063055.py, line 5)",
          "output_type": "error",
          "traceback": [
            "  \u001b[36mCell\u001b[39m\u001b[36m \u001b[39m\u001b[32mIn[2]\u001b[39m\u001b[32m, line 5\u001b[39m\n\u001b[31m    \u001b[39m\u001b[31mexcept Exception as e:\u001b[39m\n    ^\n\u001b[31mIndentationError\u001b[39m\u001b[31m:\u001b[39m expected an indented block after 'try' statement on line 2\n"
          ]
        }
      ],
      "source": [
        "import os\n",
        "try:\n",
        "  # create your folder here\n",
        "  # os.makedirs(name='')\n",
        "except Exception as e:\n",
        "  print(e)\n"
      ]
    }
  ],
  "metadata": {
    "accelerator": "GPU",
    "colab": {
      "name": "Data Practitioner Jupyter Notebook.ipynb",
      "provenance": [],
      "toc_visible": true
    },
    "kernelspec": {
      "display_name": "Python 3",
      "language": "python",
      "name": "python3"
    },
    "language_info": {
      "codemirror_mode": {
        "name": "ipython",
        "version": 3
      },
      "file_extension": ".py",
      "mimetype": "text/x-python",
      "name": "python",
      "nbconvert_exporter": "python",
      "pygments_lexer": "ipython3",
      "version": "3.12.8"
    },
    "orig_nbformat": 2
  },
  "nbformat": 4,
  "nbformat_minor": 2
}
